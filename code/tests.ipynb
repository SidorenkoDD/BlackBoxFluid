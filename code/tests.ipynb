{
 "cells": [
  {
   "cell_type": "code",
   "execution_count": 1,
   "metadata": {},
   "outputs": [],
   "source": [
    "from calculations.CompositionalModel.CompositionalModel import CompositionalModel\n",
    "from calculations.Composition.Composition import Composition\n",
    "from calculations.Utils.Conditions import Conditions"
   ]
  },
  {
   "cell_type": "markdown",
   "metadata": {},
   "source": [
    "##### !!! **для корректной работы ноутбука он должен лежать в папке calculations**"
   ]
  },
  {
   "cell_type": "markdown",
   "metadata": {},
   "source": [
    "## Скрипт для сравнения результатов flash с PVTSim"
   ]
  },
  {
   "cell_type": "markdown",
   "metadata": {},
   "source": [
    "Наверное, логика должна быть такой:\n",
    "0. Предварительно нужно уровнять все свойства компонент\n",
    "1. Руками формируем результаты расчета из PVTSim для каждого флеша\n",
    "2. "
   ]
  },
  {
   "cell_type": "code",
   "execution_count": null,
   "metadata": {},
   "outputs": [],
   "source": [
    "from dataclasses import dataclass\n",
    "\n",
    "@dataclass\n",
    "class PVTSimResults:\n",
    "    pvtsim_gas_composition : list\n",
    "    pvtsim_liquid_composition : list\n",
    "    pvtsim_ki : list\n",
    "    pvtsim_gas_z : float\n",
    "    pvtsim_liquid_z: float\n",
    "    pvtsim_fv : float"
   ]
  },
  {
   "cell_type": "code",
   "execution_count": null,
   "metadata": {},
   "outputs": [],
   "source": [
    "def compare_results(pvtsim_obj:PVTSimResults, python_model:CompositionalModel):\n",
    "    ..."
   ]
  },
  {
   "cell_type": "code",
   "execution_count": null,
   "metadata": {},
   "outputs": [],
   "source": []
  },
  {
   "cell_type": "markdown",
   "metadata": {},
   "source": [
    "## Tests"
   ]
  },
  {
   "cell_type": "code",
   "execution_count": null,
   "metadata": {},
   "outputs": [],
   "source": [
    "conds = Conditions(7,50)\n",
    "comp = Composition({'C1':0.3, 'C6': 0.5, 'C8': 0.1, 'C15':0.1})"
   ]
  },
  {
   "cell_type": "code",
   "execution_count": null,
   "metadata": {},
   "outputs": [],
   "source": [
    "comp1 = comp.composition_properties_df"
   ]
  },
  {
   "cell_type": "code",
   "execution_count": null,
   "metadata": {},
   "outputs": [],
   "source": [
    "composition_object2 = Composition({'C1': 0.35, 'C2':0.1, 'C3': 0.05, 'nC5':0.05, 'C6': 0.05, 'iC4': 0.1,'C8':0.05, 'C9':0.05, 'C10': 0.05, 'C11': 0.05, 'C16':0.05, 'C44': 0.05})"
   ]
  },
  {
   "cell_type": "code",
   "execution_count": null,
   "metadata": {},
   "outputs": [],
   "source": [
    "composition_object2_properties = composition_object2.composition_properties_df"
   ]
  },
  {
   "cell_type": "code",
   "execution_count": null,
   "metadata": {},
   "outputs": [],
   "source": [
    "composition_object2_properties"
   ]
  },
  {
   "cell_type": "code",
   "execution_count": null,
   "metadata": {},
   "outputs": [],
   "source": [
    "comp.show_composition_dataframes()"
   ]
  },
  {
   "cell_type": "code",
   "execution_count": null,
   "metadata": {},
   "outputs": [],
   "source": [
    "composition_object2.show_composition_dataframes()"
   ]
  },
  {
   "cell_type": "code",
   "execution_count": null,
   "metadata": {},
   "outputs": [],
   "source": [
    "comp_model = CompositionalModel(comp)"
   ]
  },
  {
   "cell_type": "code",
   "execution_count": null,
   "metadata": {},
   "outputs": [],
   "source": [
    "comp_model.plot_phase_diagram(t_min=-20,t_max= 300, t_step=5)"
   ]
  },
  {
   "cell_type": "code",
   "execution_count": null,
   "metadata": {},
   "outputs": [],
   "source": [
    "comp_model.flash(conditions=conds)"
   ]
  },
  {
   "cell_type": "code",
   "execution_count": null,
   "metadata": {},
   "outputs": [],
   "source": [
    "comp_model.flash(Conditions(12,70))"
   ]
  },
  {
   "cell_type": "code",
   "execution_count": null,
   "metadata": {},
   "outputs": [],
   "source": [
    "comp_model._flash_results"
   ]
  },
  {
   "cell_type": "code",
   "execution_count": null,
   "metadata": {},
   "outputs": [],
   "source": [
    "comp_model.show_flashes"
   ]
  },
  {
   "cell_type": "code",
   "execution_count": null,
   "metadata": {},
   "outputs": [],
   "source": [
    "comp_model.show_flashes['TwoPhaseFlash_7_323.14'].Fv"
   ]
  },
  {
   "cell_type": "code",
   "execution_count": null,
   "metadata": {},
   "outputs": [],
   "source": [
    "comp_model2 = CompositionalModel(composition_object2)\n",
    "comp_model2.flash(conds)"
   ]
  },
  {
   "cell_type": "code",
   "execution_count": null,
   "metadata": {},
   "outputs": [],
   "source": [
    "comp_model2.show_flashes"
   ]
  },
  {
   "cell_type": "code",
   "execution_count": null,
   "metadata": {},
   "outputs": [],
   "source": []
  },
  {
   "cell_type": "markdown",
   "metadata": {},
   "source": [
    "# DIII тест"
   ]
  },
  {
   "cell_type": "code",
   "execution_count": null,
   "metadata": {},
   "outputs": [],
   "source": [
    "# Состав в процентах СУММА 100\n",
    "DIII_zi = {'CO2' : 0.215,\n",
    "           'He' : 0.038,\n",
    "           'C1' : 28.190,\n",
    "           'C2' : 14.901,\n",
    "           'C3' : 11.509,\n",
    "           'iC4' : 1.428,\n",
    "           'nC4' : 3.720,\n",
    "           'iC5' : 1.177,\n",
    "           'nC5' : 1.130,\n",
    "           'C6' : 1.900,\n",
    "           'C7' : 3.081,\n",
    "           'C8' : 4.149,\n",
    "           'C9' : 3.399,\n",
    "           'C10' : 3.086,\n",
    "           'C11' : 2.525,\n",
    "           'C12' : 2.140,\n",
    "           'C13' : 2.061,\n",
    "           'C14' : 1.812,\n",
    "           'C15' : 1.338,\n",
    "           'C16' : 1.134,\n",
    "           'C17' : 0.953,\n",
    "           'C18' : 0.949,\n",
    "           'C19' : 0.999,\n",
    "           'C20' : 0.667,\n",
    "           'C21' : 0.623,\n",
    "           'C22' : 0.585,\n",
    "           'C23' : 0.495,\n",
    "           'C24' : 0.469,\n",
    "           'C25' : 0.408,\n",
    "           'C26' : 0.361,\n",
    "           'C27' : 0.342,\n",
    "           'C28' : 0.300,\n",
    "           'C29' : 0.278,\n",
    "           'C30' : 0.240,\n",
    "           'C31' : 0.234,\n",
    "           'C32' : 0.212,\n",
    "           'C33' : 0.195,\n",
    "           'C34' : 0.180,\n",
    "           'C35' : 0.170,\n",
    "           'C36' : 2.406\n",
    "}\n",
    "\n",
    "\n",
    "\n"
   ]
  },
  {
   "cell_type": "code",
   "execution_count": null,
   "metadata": {},
   "outputs": [],
   "source": [
    "# Состав в долях с неУВ компонентами\n",
    "DIII_zi = {'CO2': 0.00215,\n",
    "           'He': 0.00038,\n",
    "           'C1': 0.2819,\n",
    "           'C2': 0.14901,\n",
    "           'C3': 0.11509,\n",
    "           'iC4': 0.01428,\n",
    "           'nC4': 0.0372,\n",
    "           'iC5': 0.01177,\n",
    "           'nC5': 0.0113,\n",
    "           'C6': 0.019,\n",
    "           'C7': 0.03081,\n",
    "           'C8': 0.04149,\n",
    "           'C9': 0.03399,\n",
    "           'C10': 0.03086,\n",
    "           'C11': 0.02525,\n",
    "           'C12': 0.0214,\n",
    "           'C13': 0.02061,\n",
    "           'C14': 0.01812,\n",
    "           'C15': 0.01338,\n",
    "           'C16': 0.01134,\n",
    "           'C17': 0.00953,\n",
    "           'C18': 0.00949,\n",
    "           'C19': 0.00999,\n",
    "           'C20': 0.00667,\n",
    "           'C21': 0.00623,\n",
    "           'C22': 0.00585,\n",
    "           'C23': 0.00495,\n",
    "           'C24': 0.00469,\n",
    "           'C25': 0.00408,\n",
    "           'C26': 0.00361,\n",
    "           'C27': 0.00342,\n",
    "           'C28': 0.003,\n",
    "           'C29': 0.00278,\n",
    "           'C30': 0.0024,\n",
    "           'C31': 0.00234,\n",
    "           'C32': 0.00212,\n",
    "           'C33': 0.00195,\n",
    "           'C34': 0.0018,\n",
    "           'C35': 0.0017,\n",
    "           'C36': 0.02406\n",
    "}"
   ]
  },
  {
   "cell_type": "markdown",
   "metadata": {},
   "source": [
    "0,215083887911224\n",
    "28,2009963534675\n",
    "14,9068137018216\n",
    "11,5134903302074\n",
    "1,42855717984413\n",
    "3,72145171943236\n",
    "1,17745929987574\n",
    "1,13044093184266\n",
    "1,90074143626122\n",
    "3,08220212682833\n",
    "4,15061899850774\n",
    "3,40032604384294\n",
    "3,0872041037113\n",
    "2,52598520737042\n",
    "2,1408351340502\n",
    "2,06180432863297\n",
    "1,81270714401026\n",
    "1,33852207298811\n",
    "1,13444244179341\n",
    "0,953371880408519\n",
    "0,949370251198387\n",
    "0,999389781509374\n",
    "0,667260221888989\n",
    "0,62324307576351\n",
    "0,585228254193848\n",
    "0,495193117522979\n",
    "0,469183034509487\n",
    "0,408159172944863\n",
    "0,36114083472663\n",
    "0,342133483571489\n",
    "0,300117062606541\n",
    "0,278108459728957\n",
    "0,240093638159295\n",
    "0,234091298696055\n",
    "0,212082725633315\n",
    "0,195076084731283\n",
    "0,180070243526894\n",
    "0,170066349390634\n",
    "2,40693858688939"
   ]
  },
  {
   "cell_type": "code",
   "execution_count": null,
   "metadata": {},
   "outputs": [],
   "source": [
    "DIII_zi_v3 = {'CO2' : 0.00215,\n",
    "           'C1': 0.2819,\n",
    "           'C2': 0.14901,\n",
    "           'C3': 0.11509,\n",
    "           'iC4': 0.01428,\n",
    "           'nC4': 0.0372,\n",
    "           'iC5': 0.01177,\n",
    "           'nC5': 0.0113,\n",
    "           'C6': 0.019,\n",
    "           'C7': 0.03081,\n",
    "           'C8': 0.04149,\n",
    "           'C9': 0.03399,\n",
    "           'C10': 0.03086,\n",
    "           'C11': 0.02525,\n",
    "           'C12': 0.0214,\n",
    "           'C13': 0.02061,\n",
    "           'C14': 0.01812,\n",
    "           'C15': 0.01338,\n",
    "           'C16': 0.01134,\n",
    "           'C17': 0.00953,\n",
    "           'C18': 0.00949,\n",
    "           'C19': 0.00999,\n",
    "           'C20': 0.00667,\n",
    "           'C21': 0.00623,\n",
    "           'C22': 0.00585,\n",
    "           'C23': 0.00495,\n",
    "           'C24': 0.00469,\n",
    "           'C25': 0.00408,\n",
    "           'C26': 0.00361,\n",
    "           'C27': 0.00342,\n",
    "           'C28': 0.003,\n",
    "           'C29': 0.00278,\n",
    "           'C30': 0.0024,\n",
    "           'C31': 0.00234,\n",
    "           'C32': 0.00212,\n",
    "           'C33': 0.00195,\n",
    "           'C34': 0.0018,\n",
    "           'C35': 0.0017,\n",
    "           'C36': 0.02406\n",
    "}"
   ]
  },
  {
   "cell_type": "code",
   "execution_count": null,
   "metadata": {},
   "outputs": [],
   "source": [
    "diii_zi_norm = {'CO2': 0.00215083887911224,\n",
    "'C1': 0.282009963534675,\n",
    "'C2': 0.149068137018216,\n",
    "'C3': 0.115134903302074,\n",
    "'iC4': 0.0142855717984413,\n",
    "'nC4': 0.0372145171943236,\n",
    "'iC5': 0.0117745929987574,\n",
    "'nC5': 0.0113044093184266,\n",
    "'C6': 0.0190074143626122,\n",
    "'C7': 0.0308220212682833,\n",
    "'C8': 0.0415061899850774,\n",
    "'C9': 0.0340032604384294,\n",
    "'C10': 0.030872041037113,\n",
    "'C11': 0.0252598520737042,\n",
    "'C12': 0.021408351340502,\n",
    "'C13': 0.0206180432863297,\n",
    "'C14': 0.0181270714401026,\n",
    "'C15': 0.0133852207298811,\n",
    "'C16': 0.0113444244179341,\n",
    "'C17': 0.00953371880408519,\n",
    "'C18': 0.00949370251198387,\n",
    "'C19': 0.00999389781509374,\n",
    "'C20': 0.00667260221888989,\n",
    "'C21': 0.0062324307576351,\n",
    "'C22': 0.00585228254193848,\n",
    "'C23': 0.00495193117522979,\n",
    "'C24': 0.00469183034509487,\n",
    "'C25': 0.00408159172944863,\n",
    "'C26': 0.0036114083472663,\n",
    "'C27': 0.00342133483571489,\n",
    "'C28': 0.00300117062606541,\n",
    "'C29': 0.00278108459728957,\n",
    "'C30': 0.00240093638159295,\n",
    "'C31': 0.00234091298696055,\n",
    "'C32': 0.00212082725633315,\n",
    "'C33': 0.00195076084731283,\n",
    "'C34': 0.00180070243526894,\n",
    "'C35': 0.00170066349390634,\n",
    "'C36': 0.0240693858688939}"
   ]
  },
  {
   "cell_type": "code",
   "execution_count": null,
   "metadata": {},
   "outputs": [],
   "source": [
    "diii_zi_norm_no_c02 = {\n",
    "'C1': 0.282009963534675,\n",
    "'C2': 0.149068137018216,\n",
    "'C3': 0.115134903302074,\n",
    "'iC4': 0.0142855717984413,\n",
    "'nC4': 0.0372145171943236,\n",
    "'iC5': 0.0117745929987574,\n",
    "'nC5': 0.0113044093184266,\n",
    "'C6': 0.0190074143626122,\n",
    "'C7': 0.0308220212682833,\n",
    "'C8': 0.0415061899850774,\n",
    "'C9': 0.0340032604384294,\n",
    "'C10': 0.030872041037113,\n",
    "'C11': 0.0252598520737042,\n",
    "'C12': 0.021408351340502,\n",
    "'C13': 0.0206180432863297,\n",
    "'C14': 0.0181270714401026,\n",
    "'C15': 0.0133852207298811,\n",
    "'C16': 0.0113444244179341,\n",
    "'C17': 0.00953371880408519,\n",
    "'C18': 0.00949370251198387,\n",
    "'C19': 0.00999389781509374,\n",
    "'C20': 0.00667260221888989,\n",
    "'C21': 0.0062324307576351,\n",
    "'C22': 0.00585228254193848,\n",
    "'C23': 0.00495193117522979,\n",
    "'C24': 0.00469183034509487,\n",
    "'C25': 0.00408159172944863,\n",
    "'C26': 0.0036114083472663,\n",
    "'C27': 0.00342133483571489,\n",
    "'C28': 0.00300117062606541,\n",
    "'C29': 0.00278108459728957,\n",
    "'C30': 0.00240093638159295,\n",
    "'C31': 0.00234091298696055,\n",
    "'C32': 0.00212082725633315,\n",
    "'C33': 0.00195076084731283,\n",
    "'C34': 0.00180070243526894,\n",
    "'C35': 0.00170066349390634,\n",
    "'C36': 0.0240693858688939}"
   ]
  },
  {
   "cell_type": "code",
   "execution_count": null,
   "metadata": {},
   "outputs": [],
   "source": [
    "sum(DIII_zi_v3.values())"
   ]
  },
  {
   "cell_type": "code",
   "execution_count": null,
   "metadata": {},
   "outputs": [],
   "source": [
    "sum(diii_zi_norm.values())"
   ]
  },
  {
   "cell_type": "code",
   "execution_count": null,
   "metadata": {},
   "outputs": [],
   "source": [
    "composition_20r = Composition(DIII_zi_v3)"
   ]
  },
  {
   "cell_type": "code",
   "execution_count": null,
   "metadata": {},
   "outputs": [],
   "source": [
    "composition_20r_with_he = Composition(DIII_zi)"
   ]
  },
  {
   "cell_type": "code",
   "execution_count": null,
   "metadata": {},
   "outputs": [],
   "source": [
    "composition_20r_norm = Composition(diii_zi_norm)"
   ]
  },
  {
   "cell_type": "code",
   "execution_count": null,
   "metadata": {},
   "outputs": [],
   "source": [
    "composition_20r_norm_no_c02 = Composition(diii_zi_norm_no_c02)"
   ]
  },
  {
   "cell_type": "code",
   "execution_count": null,
   "metadata": {},
   "outputs": [],
   "source": [
    "composition_20r.composition_df"
   ]
  },
  {
   "cell_type": "code",
   "execution_count": null,
   "metadata": {},
   "outputs": [],
   "source": [
    "composition_20r.composition_properties_df"
   ]
  },
  {
   "cell_type": "markdown",
   "metadata": {},
   "source": [
    "## Изменение свойств компонент"
   ]
  },
  {
   "cell_type": "code",
   "execution_count": null,
   "metadata": {},
   "outputs": [],
   "source": [
    "composition_20r_norm.edit_component_properties('CO2', {'critical_pressure': 7.3764,\n",
    "                                                  'critical_temperature': 306.19,\n",
    "                                                  })\n",
    "\n",
    "\n",
    "composition_20r_norm.edit_component_properties('C1', {'critical_pressure': 4.600154768,\n",
    "                                                  'critical_temperature': 190.5900061,\n",
    "                                                  'acentric_factor':0.008})\n",
    "\n",
    "composition_20r_norm.edit_component_properties('C2', {'critical_pressure': 4.883865077,\n",
    "                                                  'critical_temperature': 305.3899939,\n",
    "                                                  'acentric_factor':0.097999997})\n",
    "\n",
    "\n",
    "composition_20r_norm.edit_component_properties('C3', {'critical_pressure': 4.245518041,\n",
    "                                                  'critical_temperature': 369.7899878,\n",
    "                                                  'acentric_factor':0.151999995})\n",
    "\n",
    "\n",
    "composition_20r_norm.edit_component_properties('iC4', {'critical_pressure': 3.64770116,\n",
    "                                                  'critical_temperature': 408.089,\n",
    "                                                  'acentric_factor':0.175999999})\n",
    "\n",
    "\n",
    "composition_20r_norm.edit_component_properties('nC4', {'critical_pressure': 3.799687887,\n",
    "                                                  'critical_temperature': 425.1900122,\n",
    "                                                  'acentric_factor':0.193000004})\n",
    "\n",
    "\n",
    "composition_20r_norm.edit_component_properties('iC5', {'critical_pressure': 3.384255155,\n",
    "                                                  'critical_temperature': 460.3899939,\n",
    "                                                  'acentric_factor':0.226999998})\n",
    "\n",
    "\n",
    "composition_20r_norm.edit_component_properties('nC5', {'critical_pressure': 3.374122036,\n",
    "                                                  'critical_temperature': 469.5899451,\n",
    "                                                  'acentric_factor':0.250999987})\n",
    "\n",
    "\n",
    "composition_20r_norm.edit_component_properties('C6', {'critical_pressure': 2.968822229,\n",
    "                                                  'critical_temperature': 507.3899939,\n",
    "                                                  'acentric_factor':0.296000004})\n",
    "\n",
    "\n",
    "composition_20r_norm.edit_component_properties('C7', {'critical_pressure': 2.9451884,\n",
    "                                                  'critical_temperature': 536.4781592,\n",
    "                                                  'acentric_factor':0.337441325})\n",
    "\n",
    "composition_20r_norm.edit_component_properties('C8', {'critical_pressure': 2.741522808,\n",
    "                                                  'critical_temperature': 558.0327856,\n",
    "                                                  'acentric_factor':0.374272853\n",
    "})\n",
    "\n",
    "\n",
    "composition_20r_norm.edit_component_properties('C9', {'critical_pressure': 2.506488844\n",
    ",\n",
    "                                                  'critical_temperature': 582.0675757\n",
    ",\n",
    "                                                  'acentric_factor':0.420477808\n",
    "})\n",
    "\n",
    "\n",
    "composition_20r_norm.edit_component_properties('C10', {'critical_pressure': 2.329497094\n",
    ",\n",
    "                                                  'critical_temperature': 602.5048926\n",
    ",\n",
    "                                                  'acentric_factor':0.462806612\n",
    "})\n",
    "\n",
    "composition_20r_norm.edit_component_properties('C11', {'critical_pressure': 2.177428424\n",
    ",\n",
    "                                                  'critical_temperature': 621.215769\n",
    ",\n",
    "                                                  'acentric_factor':0.504519641\n",
    "})\n",
    "\n",
    "composition_20r_norm.edit_component_properties('C12', {'critical_pressure': 2.057186543\n",
    ",\n",
    "                                                  'critical_temperature': 640.9806616\n",
    ",\n",
    "                                                  'acentric_factor':0.548880339\n",
    "})\n",
    "\n",
    "\n",
    "composition_20r_norm.edit_component_properties('C13', {'critical_pressure': 1.960886164\n",
    ",\n",
    "                                                  'critical_temperature': 659.8851416\n",
    ",\n",
    "                                                  'acentric_factor':0.592538536\n",
    "})\n",
    "\n",
    "composition_20r_norm.edit_component_properties('C14', {'critical_pressure': 1.870848251\n",
    ",\n",
    "                                                  'critical_temperature': 678.9091284\n",
    ",\n",
    "                                                  'acentric_factor':0.638427556\n",
    "})\n",
    "\n",
    "composition_20r_norm.edit_component_properties('C15', {'critical_pressure': 1.785777366\n",
    ",\n",
    "                                                  'critical_temperature': 697.9627783\n",
    ",\n",
    "                                                  'acentric_factor':0.686300218\n",
    "})\n",
    "\n",
    "composition_20r_norm.edit_component_properties('C16', {'critical_pressure': 1.716160106\n",
    ",\n",
    "                                                  'critical_temperature': 716.3793433\n",
    ",\n",
    "                                                  'acentric_factor':0.733060181\n",
    "})\n",
    "\n",
    "composition_20r_norm.edit_component_properties('C17', {'critical_pressure': 1.6502672\n",
    ",\n",
    "                                                  'critical_temperature': 732.3194067\n",
    ",\n",
    "                                                  'acentric_factor':0.775699914\n",
    "})\n",
    "\n",
    "composition_20r_norm.edit_component_properties('C18', {'critical_pressure': 1.603241119\n",
    ",\n",
    "                                                  'critical_temperature': 747.2742407\n",
    ",\n",
    "                                                  'acentric_factor':0.81455636\n",
    "})\n",
    "\n",
    "composition_20r_norm.edit_component_properties('C19', {'critical_pressure': 1.574782599\n",
    ",\n",
    "                                                  'critical_temperature': 760.3541968\n",
    ",\n",
    "                                                  'acentric_factor':0.84712261\n",
    "})\n",
    "\n",
    "composition_20r_norm.edit_component_properties('C20', {'critical_pressure': 1.544921768\n",
    ",\n",
    "                                                  'critical_temperature': 772.8315527\n",
    ",\n",
    "                                                  'acentric_factor':0.878839731\n",
    "})\n",
    "\n",
    "composition_20r_norm.edit_component_properties('C21', {'critical_pressure': 1.508275892\n",
    ",\n",
    "                                                  'critical_temperature': 789.0159399\n",
    ",\n",
    "                                                  'acentric_factor':0.919805586\n",
    "})\n",
    "\n",
    "\n",
    "composition_20r_norm.edit_component_properties('C22', {'critical_pressure': 1.480574379\n",
    ",\n",
    "                                                  'critical_temperature': 802.944834\n",
    ",\n",
    "                                                  'acentric_factor':0.954364836\n",
    "})\n",
    "\n",
    "\n",
    "composition_20r_norm.edit_component_properties('C23', {'critical_pressure': 1.456971762\n",
    ",\n",
    "                                                  'critical_temperature': 815.6217139\n",
    ",\n",
    "                                                  'acentric_factor':0.985306203\n",
    "})\n",
    "\n",
    "\n",
    "composition_20r_norm.edit_component_properties('C24', {'critical_pressure': 1.435632534\n",
    ",\n",
    "                                                  'critical_temperature': 828.1141455\n",
    ",\n",
    "                                                  'acentric_factor':1.015090942\n",
    "})\n",
    "\n",
    "\n",
    "composition_20r_norm.edit_component_properties('C25', {'critical_pressure': 1.414600496\n",
    ",\n",
    "                                                  'critical_temperature': 841.3556616\n",
    ",\n",
    "                                                  'acentric_factor':1.045804143\n",
    "})\n",
    "\n",
    "\n",
    "composition_20r_norm.edit_component_properties('C26', {'critical_pressure': 1.395581669\n",
    ",\n",
    "                                                  'critical_temperature': 854.4172461\n",
    ",\n",
    "                                                  'acentric_factor':1.075036764\n",
    "})\n",
    "\n",
    "\n",
    "composition_20r_norm.edit_component_properties('C27', {'critical_pressure': 1.37692318\n",
    ",\n",
    "                                                  'critical_temperature': 868.2071631\n",
    ",\n",
    "                                                  'acentric_factor':1.104626894\n",
    "})\n",
    "\n",
    "\n",
    "composition_20r_norm.edit_component_properties('C28', {'critical_pressure': 1.361332726\n",
    ",\n",
    "                                                  'critical_temperature': 880.939646\n",
    ",\n",
    "                                                  'acentric_factor':1.130556583\n",
    "})\n",
    "\n",
    "composition_20r_norm.edit_component_properties('C29', {'critical_pressure': 1.346311139\n",
    ",\n",
    "                                                  'critical_temperature': 893.4580786\n",
    ",\n",
    "                                                  'acentric_factor':1.154764056\n",
    "})\n",
    "\n",
    "\n",
    "composition_20r_norm.edit_component_properties('C30', {'critical_pressure': 1.332525464\n",
    ",\n",
    "                                                  'critical_temperature': 905.845896\n",
    ",\n",
    "                                                  'acentric_factor':1.177188158\n",
    "})\n",
    "\n",
    "composition_20r_norm.edit_component_properties('C31', {'critical_pressure': 1.320621388\n",
    ",\n",
    "                                                  'critical_temperature': 918.1856177\n",
    ",\n",
    "                                                  'acentric_factor':1.197769403\n",
    "})\n",
    "\n",
    "\n",
    "composition_20r_norm.edit_component_properties('C32', {'critical_pressure':1.30892188\n",
    ",\n",
    "                                                  'critical_temperature': 930.3385107\n",
    ",\n",
    "                                                  'acentric_factor':1.216412067\n",
    "\n",
    "})\n",
    "\n",
    "composition_20r_norm.edit_component_properties('C33', {'critical_pressure':1.298114857,\n",
    "                                                  'critical_temperature': 942.3852637\n",
    ",\n",
    "                                                  'acentric_factor':1.233062625\n",
    "\n",
    "})\n",
    "\n",
    "composition_20r_norm.edit_component_properties('C34', {'critical_pressure':1.288114316,\n",
    "                                                  'critical_temperature': 954.3325903\n",
    ",\n",
    "                                                  'acentric_factor':1.247659445\n",
    "})\n",
    "\n",
    "\n",
    "composition_20r_norm.edit_component_properties('C35', {'critical_pressure':1.278844403,\n",
    "                                                  'critical_temperature':966.1865942\n",
    ",\n",
    "                                                  'acentric_factor':1.260146022\n",
    "})\n",
    "\n",
    "\n",
    "composition_20r_norm.edit_component_properties('C36', {'critical_pressure':1.270238925,\n",
    "                                                  'critical_temperature':977.9528296\n",
    ",\n",
    "                                                  'acentric_factor':1.270472527\n",
    "})"
   ]
  },
  {
   "cell_type": "code",
   "execution_count": null,
   "metadata": {},
   "outputs": [],
   "source": [
    "composition_20r.composition_properties_df"
   ]
  },
  {
   "cell_type": "markdown",
   "metadata": {},
   "source": [
    "## Создание модели и расчет флеша"
   ]
  },
  {
   "cell_type": "code",
   "execution_count": null,
   "metadata": {},
   "outputs": [],
   "source": [
    "model_20r = CompositionalModel(composition_20r)"
   ]
  },
  {
   "cell_type": "code",
   "execution_count": null,
   "metadata": {},
   "outputs": [],
   "source": [
    "model_20r_norm = CompositionalModel(composition_20r_norm)"
   ]
  },
  {
   "cell_type": "code",
   "execution_count": null,
   "metadata": {},
   "outputs": [],
   "source": []
  },
  {
   "cell_type": "code",
   "execution_count": null,
   "metadata": {},
   "outputs": [],
   "source": [
    "conds1 = Conditions(5,70)\n",
    "conds2 = Conditions(8, 100)\n",
    "conds3 = Conditions(12, 100)\n",
    "conds4 = Conditions(4, 40)\n",
    "conds5 = Conditions(6, 40)"
   ]
  },
  {
   "cell_type": "code",
   "execution_count": null,
   "metadata": {},
   "outputs": [],
   "source": [
    "model_20r.flash(conds1)"
   ]
  },
  {
   "cell_type": "code",
   "execution_count": null,
   "metadata": {},
   "outputs": [],
   "source": [
    "model_20r.flash(conds2)"
   ]
  },
  {
   "cell_type": "code",
   "execution_count": null,
   "metadata": {},
   "outputs": [],
   "source": [
    "model_20r.flash(conds3)"
   ]
  },
  {
   "cell_type": "code",
   "execution_count": null,
   "metadata": {},
   "outputs": [],
   "source": [
    "model_20r.flash(conds4)"
   ]
  },
  {
   "cell_type": "code",
   "execution_count": null,
   "metadata": {},
   "outputs": [],
   "source": [
    "model_20r.flash(conds5)"
   ]
  },
  {
   "cell_type": "code",
   "execution_count": null,
   "metadata": {},
   "outputs": [],
   "source": [
    "model_20r.show_flashes['TwoPhaseFlash_8_373.14']"
   ]
  },
  {
   "cell_type": "code",
   "execution_count": null,
   "metadata": {},
   "outputs": [],
   "source": [
    "model_20r_norm.flash(conds2)"
   ]
  },
  {
   "cell_type": "code",
   "execution_count": null,
   "metadata": {},
   "outputs": [],
   "source": [
    "model_20r_norm.flash(conds3)"
   ]
  },
  {
   "cell_type": "code",
   "execution_count": null,
   "metadata": {},
   "outputs": [],
   "source": [
    "conds6 = Conditions(12, 100)\n",
    "conds7 = Conditions(8,300)\n",
    "model_20r_norm.flash(conds7)"
   ]
  },
  {
   "cell_type": "code",
   "execution_count": null,
   "metadata": {},
   "outputs": [],
   "source": [
    "model_no_co2 = CompositionalModel(composition_20r_norm_no_c02)\n",
    "model_no_co2.flash(conds7)\n",
    "model_no_co2.show_flashes"
   ]
  },
  {
   "cell_type": "code",
   "execution_count": null,
   "metadata": {},
   "outputs": [],
   "source": [
    "model_20r_norm.show_flashes"
   ]
  },
  {
   "cell_type": "code",
   "execution_count": null,
   "metadata": {},
   "outputs": [],
   "source": [
    "composition_20r_norm.composition_bips_df"
   ]
  },
  {
   "cell_type": "code",
   "execution_count": null,
   "metadata": {},
   "outputs": [],
   "source": []
  },
  {
   "cell_type": "markdown",
   "metadata": {},
   "source": [
    "# Тест на синтетике"
   ]
  },
  {
   "cell_type": "code",
   "execution_count": null,
   "metadata": {},
   "outputs": [],
   "source": [
    "sint_zi = {'C1': 0.4, 'iC4': 0.1, 'C10':0.5}"
   ]
  },
  {
   "cell_type": "code",
   "execution_count": null,
   "metadata": {},
   "outputs": [],
   "source": [
    "sint_comp = Composition(sint_zi)"
   ]
  },
  {
   "cell_type": "code",
   "execution_count": null,
   "metadata": {},
   "outputs": [],
   "source": [
    "sint_comp.edit_component_properties('C1', {'critical_pressure': 4.600154768,\n",
    "                                                  'critical_temperature': 190.5900061,\n",
    "                                                  'acentric_factor':0.008})\n",
    "\n",
    "\n",
    "\n",
    "\n",
    "sint_comp.edit_component_properties('iC4', {'critical_pressure': 3.64770116,\n",
    "                                                  'critical_temperature': 408.089,\n",
    "                                                  'acentric_factor':0.175999999})\n",
    "\n",
    "\n",
    "sint_comp.edit_component_properties('C10', {'critical_pressure': 2.329497094\n",
    ",\n",
    "                                                  'critical_temperature': 602.5048926\n",
    ",\n",
    "                                                  'acentric_factor':0.462806612\n",
    "})"
   ]
  },
  {
   "cell_type": "code",
   "execution_count": null,
   "metadata": {},
   "outputs": [],
   "source": [
    "sint_model = CompositionalModel(sint_comp)"
   ]
  },
  {
   "cell_type": "code",
   "execution_count": null,
   "metadata": {},
   "outputs": [],
   "source": [
    "sint_conds = Conditions(8,150)"
   ]
  },
  {
   "cell_type": "code",
   "execution_count": null,
   "metadata": {},
   "outputs": [],
   "source": [
    "sint_model.flash(sint_conds)"
   ]
  },
  {
   "cell_type": "code",
   "execution_count": null,
   "metadata": {},
   "outputs": [],
   "source": [
    "sint_model.show_flashes"
   ]
  },
  {
   "cell_type": "code",
   "execution_count": null,
   "metadata": {},
   "outputs": [],
   "source": [
    "sint_comp.composition_bips_df"
   ]
  },
  {
   "cell_type": "code",
   "execution_count": 2,
   "metadata": {},
   "outputs": [],
   "source": [
    "sint_zi2 = {'C1':0.1,\n",
    "            'iC4': 0.1,\n",
    "            'nC4': 0.1,\n",
    "            'iC5':0.1,\n",
    "            'nC5':0.1,\n",
    "            'C6':0.1,\n",
    "            'C10':0.1,\n",
    "            'C11':0.1,\n",
    "            'C14':0.1,\n",
    "            'C15':0.1}\n",
    "sint_comp2 = Composition(sint_zi2)"
   ]
  },
  {
   "cell_type": "code",
   "execution_count": 3,
   "metadata": {},
   "outputs": [
    {
     "name": "stdout",
     "output_type": "stream",
     "text": [
      "critical_pressure\n",
      "critical_temperature\n",
      "acentric_factor\n",
      "critical_pressure\n",
      "critical_temperature\n",
      "acentric_factor\n",
      "critical_pressure\n",
      "critical_temperature\n",
      "acentric_factor\n",
      "critical_pressure\n",
      "critical_temperature\n",
      "acentric_factor\n",
      "critical_pressure\n",
      "critical_temperature\n",
      "acentric_factor\n",
      "critical_pressure\n",
      "critical_temperature\n",
      "acentric_factor\n",
      "critical_pressure\n",
      "critical_temperature\n",
      "acentric_factor\n",
      "critical_pressure\n",
      "critical_temperature\n",
      "acentric_factor\n",
      "critical_pressure\n",
      "critical_temperature\n",
      "acentric_factor\n",
      "critical_pressure\n",
      "critical_temperature\n",
      "acentric_factor\n"
     ]
    }
   ],
   "source": [
    "sint_comp2.edit_component_properties('C1', {'critical_pressure': 4.600154768,\n",
    "                                                  'critical_temperature': 190.5900061,\n",
    "                                                  'acentric_factor':0.008})\n",
    "\n",
    "\n",
    "\n",
    "sint_comp2.edit_component_properties('iC4', {'critical_pressure': 3.64770116,\n",
    "                                                  'critical_temperature': 408.089,\n",
    "                                                  'acentric_factor':0.175999999})\n",
    "\n",
    "\n",
    "sint_comp2.edit_component_properties('nC4', {'critical_pressure': 3.799687887,\n",
    "                                                  'critical_temperature': 425.1900122,\n",
    "                                                  'acentric_factor':0.193000004})\n",
    "\n",
    "\n",
    "sint_comp2.edit_component_properties('iC5', {'critical_pressure': 3.384255155,\n",
    "                                                  'critical_temperature': 460.3899939,\n",
    "                                                  'acentric_factor':0.226999998})\n",
    "\n",
    "\n",
    "sint_comp2.edit_component_properties('nC5', {'critical_pressure': 3.374122036,\n",
    "                                                  'critical_temperature': 469.5899451,\n",
    "                                                  'acentric_factor':0.250999987})\n",
    "\n",
    "\n",
    "sint_comp2.edit_component_properties('C6', {'critical_pressure': 2.968822229,\n",
    "                                                  'critical_temperature': 507.3899939,\n",
    "                                                  'acentric_factor':0.296000004})\n",
    "\n",
    "\n",
    "\n",
    "sint_comp2.edit_component_properties('C10', {'critical_pressure': 2.329497094\n",
    ",\n",
    "                                                  'critical_temperature': 602.5048926\n",
    ",\n",
    "                                                  'acentric_factor':0.462806612\n",
    "})\n",
    "\n",
    "\n",
    "sint_comp2.edit_component_properties('C11', {'critical_pressure': 2.177428424\n",
    ",\n",
    "                                                  'critical_temperature': 621.215769\n",
    ",\n",
    "                                                  'acentric_factor':0.500675559043884\n",
    "})\n",
    "\n",
    "\n",
    "sint_comp2.edit_component_properties('C14', {'critical_pressure': 1.870848251\n",
    ",\n",
    "                                                  'critical_temperature': 678.9091284\n",
    ",\n",
    "                                                  'acentric_factor':0.626245558261871\n",
    "})\n",
    "\n",
    "sint_comp2.edit_component_properties('C15', {'critical_pressure': 1.785777366\n",
    ",\n",
    "                                                  'critical_temperature': 697.9627783\n",
    ",\n",
    "                                                  'acentric_factor':0.67011171579361\n",
    "})\n"
   ]
  },
  {
   "cell_type": "code",
   "execution_count": 4,
   "metadata": {},
   "outputs": [],
   "source": [
    "sint_comp_model2 = CompositionalModel(sint_comp2)"
   ]
  },
  {
   "cell_type": "code",
   "execution_count": 10,
   "metadata": {},
   "outputs": [],
   "source": [
    "sint_conds2 = Conditions(3,200)\n",
    "sint_conds21 = Conditions(5, 250)\n",
    "sint_conds22 = Conditions(2, 250)\n",
    "sint_conds23 = Conditions(2, 300)\n",
    "sint_conds24 = Conditions(1, 250)\n",
    "sint_conds25 = Conditions(4, 326.1)\n",
    "sint_comp_model2.flash(sint_conds2)\n",
    "sint_comp_model2.flash(sint_conds21)\n",
    "sint_comp_model2.flash(sint_conds22)\n",
    "sint_comp_model2.flash(sint_conds23)\n",
    "sint_comp_model2.flash(sint_conds24)\n",
    "sint_comp_model2.flash(sint_conds25)\n"
   ]
  },
  {
   "cell_type": "code",
   "execution_count": 11,
   "metadata": {},
   "outputs": [
    {
     "data": {
      "text/plain": [
       "{'TwoPhaseFlash_3_473.14': TwoPhaseFlashResults(temperature=473.14, pressure=3, stable=False, EOS='PREOS', Fv=0.183047860885722, Ki={'C1': 7.4925613807015585, 'iC4': 1.8641432682837416, 'nC4': 1.6512589139676137, 'iC5': 1.1770847210336344, 'nC5': 1.0866582667714284, 'C6': 0.7194035761658528, 'C10': 0.20533990560446563, 'C11': 0.15013128508356322, 'C14': 0.05188918021437934, 'C15': 0.0348696801162825}, liquid_composition={'C1': 0.04569445228727558, 'iC4': 0.08634239629739487, 'nC4': 0.08934861322964255, 'iC5': 0.09686027614591623, 'nC5': 0.09843850829838656, 'C6': 0.10541435260825996, 'C10': 0.11702213726261357, 'C11': 0.11842260852846027, 'C14': 0.12099940534935205, 'C15': 0.12145724999270452}, vapour_composition={'C1': 0.342368488519951, 'iC4': 0.16095459682527571, 'nC4': 0.1475376940460919, 'iC5': 0.11401275112645659, 'nC5': 0.10696901881108961, 'C6': 0.0758354622455904, 'C10': 0.02402931461913789, 'C11': 0.017778938401325474, 'C14': 0.006278559950005265, 'C15': 0.004235175455048961}, liquid_z=0.16391946848299627, vapour_z=0.8291593103901196, vapour_molecular_mass=53.63292182086973, liquid_molecular_mass=114.9877745463594, vapour_volume=199.71850856967112, liquid_volume=169.97408843674873, vapour_density=0.04915614322713913, liquid_density=0.5526695818850983),\n",
       " 'TwoPhaseFlash_5_523.14': TwoPhaseFlashResults(temperature=523.14, pressure=5, stable=False, EOS='PREOS', Fv=0.07096294438565565, Ki={'C1': 3.3737348208760567, 'iC4': 1.5025025563102667, 'nC4': 1.4022033274648622, 'iC5': 1.1510856353930485, 'nC5': 1.103390431442674, 'C6': 0.8681838455774734, 'C10': 0.4251549909016472, 'C11': 0.35583747713941394, 'C14': 0.19472070430095534, 'C15': 0.15541174873328745}, liquid_composition={'C1': 0.08558366947701089, 'iC4': 0.09655687259433224, 'nC4': 0.0972250481423765, 'iC5': 0.09893922492618713, 'nC5': 0.09927165484423194, 'C6': 0.10094423871140207, 'C10': 0.10425275059659499, 'C11': 0.10479013185153735, 'C14': 0.10606084596910317, 'C15': 0.10637556288722295}, vapour_composition={'C1': 0.28873660581293903, 'iC4': 0.1450769479023089, 'nC4': 0.13632928601817176, 'iC5': 0.11388752058945585, 'nC5': 0.10953539406860528, 'C6': 0.0876381573533555, 'C10': 0.04432357723136703, 'C11': 0.0372882561471576, 'C14': 0.02065224262585891, 'C15': 0.016532012250791112}, liquid_z=0.2842110142236132, vapour_z=0.7323440876113869, vapour_molecular_mass=63.21743096297371, liquid_molecular_mass=106.85343965825525, vapour_volume=45.37396048513984, liquid_volume=224.60496869260527, vapour_density=0.09886937330715805, liquid_density=0.4419795587791856),\n",
       " 'TwoPhaseFlash_2_523.14': TwoPhaseFlashResults(temperature=523.14, pressure=2, stable=False, EOS='PREOS', Fv=0.5707397781649206, Ki={'C1': 10.448885911436191, 'iC4': 3.202805440261751, 'nC4': 2.906715757047595, 'iC5': 2.1754161943088524, 'nC5': 2.0410054373782764, 'C6': 1.4329715190468464, 'C10': 0.49959721164897636, 'C11': 0.3836940794552385, 'C14': 0.15751069226825737, 'C15': 0.11293568092457987}, liquid_composition={'C1': 0.015642463223949094, 'iC4': 0.04430211281544014, 'nC4': 0.04788724977991562, 'iC5': 0.05984953427320107, 'nC5': 0.06272962129267534, 'C6': 0.08018512701218469, 'C10': 0.13997755977510806, 'C11': 0.15426154562764055, 'C14': 0.1926196474578712, 'C15': 0.20254513874202867}, vapour_composition={'C1': 0.16344631360088044, 'iC4': 0.14189104794038152, 'nC4': 0.1391946234969547, 'iC5': 0.13019764607976428, 'nC5': 0.1280314981430305, 'C6': 0.11490300325961461, 'C10': 0.0699323985570719, 'C11': 0.05918924174493981, 'C14': 0.03033965401555697, 'C15': 0.022874573161794514}, liquid_z=0.12369187630906314, vapour_z=0.8270144573659887, vapour_molecular_mass=75.7884516408245, liquid_molecular_mass=140.94344839223768, vapour_volume=1027.125692661832, liquid_volume=109.90617119379802, vapour_density=0.042113136090334666, liquid_density=0.5504824275642412),\n",
       " 'TwoPhaseFlash_2_573.14': TwoPhaseFlashResults(temperature=573.14, pressure=2, stable=False, EOS='PREOS', Fv=0.9092957018501693, Ki={'C1': 8.581112738399051, 'iC4': 3.4739764702586173, 'nC4': 3.235977872181212, 'iC5': 2.5896881758762436, 'nC5': 2.475190311300454, 'C6': 1.8867191180140674, 'C10': 0.8521399808590634, 'C11': 0.6981316791067532, 'C14': 0.35751161439197127, 'C15': 0.27849208426722827}, liquid_composition={'C1': 0.012668694389420816, 'iC4': 0.03077324387591677, 'nC4': 0.032968861812042206, 'iC5': 0.040891489668364325, 'nC5': 0.042709778085655535, 'C6': 0.055362099380903404, 'C10': 0.11553327291964664, 'C11': 0.13783361306013045, 'C14': 0.2405071396205083, 'C15': 0.2907518071873619}, vapour_composition={'C1': 0.10871149480394356, 'iC4': 0.10690552513846495, 'nC4': 0.10668650729476876, 'iC5': 0.10589620728812867, 'nC5': 0.10571482891540702, 'C6': 0.10445273131534522, 'C10': 0.09845052097433264, 'C11': 0.09622601172301938, 'C14': 0.08598409575852316, 'C15': 0.08097207678807168}, liquid_z=0.13683950585664154, vapour_z=0.782001114920349, vapour_molecular_mass=98.55311817803076, liquid_molecular_mass=155.92395867969404, vapour_volume=1690.7992935224283, liquid_volume=28.015527797505786, vapour_density=0.05300092512844809, liquid_density=0.5048262284761952),\n",
       " 'TwoPhaseFlash_1_523.14': TwoPhaseFlashResults(temperature=523.14, pressure=1, stable=False, EOS='PREOS', Fv=0.787902364789943, Ki={'C1': 23.233763095242775, 'iC4': 6.173701236134028, 'nC4': 5.547769167904699, 'iC5': 4.007541487025221, 'nC5': 3.730693154147506, 'C6': 2.5059663551279416, 'C10': 0.7670816336268456, 'C11': 0.5699238442101555, 'C14': 0.20948268318431484, 'C15': 0.14413931030248014}, liquid_composition={'C1': 0.005400141137388143, 'iC4': 0.019699110123877334, 'nC4': 0.021818825678663733, 'iC5': 0.029676681019649324, 'nC5': 0.031730724505378984, 'C6': 0.04573405427232442, 'C10': 0.12247651406212516, 'C11': 0.15125344185256825, 'C14': 0.2651468191688775, 'C15': 0.30706368817915286}, vapour_composition={'C1': 0.12546559986695097, 'iC4': 0.12161642052252185, 'nC4': 0.12104580837997798, 'iC5': 0.1189305303834586, 'nC5': 0.1183775966883579, 'C6': 0.1146080012900403, 'C10': 0.09394948448769629, 'C11': 0.08620294303063293, 'C14': 0.05554366711728278, 'C15': 0.04425994823307892}, liquid_z=0.06627072329116485, vapour_z=0.8841158544109575, vapour_molecular_mass=87.79543933186763, liquid_molecular_mass=163.05068983159381, vapour_volume=3028.846380561394, liquid_volume=57.14451007744608, vapour_density=0.022838475635905013, liquid_density=0.6051791446944034),\n",
       " 'TwoPhaseFlash_4_599.24': TwoPhaseFlashResults(temperature=599.24, pressure=4, stable=False, EOS='PREOS', Fv=0.9377059829330392, Ki={'C1': 2.349215811512618, 'iC4': 1.5719955975771975, 'nC4': 1.523160633695999, 'iC5': 1.379654691390303, 'nC5': 1.3535175944708182, 'C6': 1.2003132470912448, 'C10': 0.8469077513769516, 'C11': 0.7761649660546596, 'C14': 0.5791138878028319, 'C15': 0.5191510486200382}, liquid_composition={'C1': 0.04414684100011288, 'iC4': 0.06508875495213792, 'nC4': 0.06708839071995688, 'iC5': 0.07374606928071721, 'nC5': 0.07510351723898623, 'C6': 0.08418678172586036, 'C10': 0.11676180072422049, 'C11': 0.1265648879079784, 'C14': 0.165198444985923, 'C15': 0.18211451146402413}, vapour_composition={'C1': 0.1037104569057987, 'iC4': 0.10231923623654184, 'nC4': 0.10218639572265431, 'iC5': 0.10174411045473579, 'nC5': 0.10165393198961027, 'C6': 0.10105050933552931, 'C10': 0.0988864740980733, 'C11': 0.09823523192680784, 'C14': 0.09566871373478013, 'C15': 0.0945449395954741}, liquid_z=0.3070497479127445, vapour_z=0.6061068264218465, vapour_molecular_mass=102.05635447188364, liquid_molecular_mass=129.3550519742205, vapour_volume=703.640557539042, liquid_volume=23.16186594888935, vapour_density=0.1360053128820824, liquid_density=0.34790140972066586)}"
      ]
     },
     "execution_count": 11,
     "metadata": {},
     "output_type": "execute_result"
    }
   ],
   "source": [
    "sint_comp_model2.show_flashes"
   ]
  },
  {
   "cell_type": "code",
   "execution_count": null,
   "metadata": {},
   "outputs": [],
   "source": [
    "sint_comp2.composition_bips_df"
   ]
  },
  {
   "cell_type": "code",
   "execution_count": null,
   "metadata": {},
   "outputs": [],
   "source": []
  }
 ],
 "metadata": {
  "kernelspec": {
   "display_name": "base",
   "language": "python",
   "name": "python3"
  },
  "language_info": {
   "codemirror_mode": {
    "name": "ipython",
    "version": 3
   },
   "file_extension": ".py",
   "mimetype": "text/x-python",
   "name": "python",
   "nbconvert_exporter": "python",
   "pygments_lexer": "ipython3",
   "version": "3.12.7"
  }
 },
 "nbformat": 4,
 "nbformat_minor": 2
}
