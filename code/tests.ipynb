{
 "cells": [
  {
   "cell_type": "code",
   "execution_count": 1,
   "metadata": {},
   "outputs": [],
   "source": [
    "from calculations.CompositionalModel.CompositionalModel import CompositionalModel\n",
    "from calculations.Composition.Composition import Composition\n",
    "from calculations.Utils.Conditions import Conditions"
   ]
  },
  {
   "cell_type": "markdown",
   "metadata": {},
   "source": [
    "##### для корректной работы ноутбука он должен лежать в папке calculations"
   ]
  },
  {
   "cell_type": "markdown",
   "metadata": {},
   "source": [
    "## Скрипт для сравнения результатов flash с PVTSim"
   ]
  },
  {
   "cell_type": "markdown",
   "metadata": {},
   "source": [
    "Наверное, логика должна быть такой:\n",
    "1. Руками формируем результаты расчета из PVTSim"
   ]
  },
  {
   "cell_type": "code",
   "execution_count": null,
   "metadata": {},
   "outputs": [],
   "source": []
  },
  {
   "cell_type": "code",
   "execution_count": null,
   "metadata": {},
   "outputs": [],
   "source": []
  },
  {
   "cell_type": "code",
   "execution_count": null,
   "metadata": {},
   "outputs": [],
   "source": []
  },
  {
   "cell_type": "markdown",
   "metadata": {},
   "source": [
    "## Tests"
   ]
  },
  {
   "cell_type": "code",
   "execution_count": 2,
   "metadata": {},
   "outputs": [],
   "source": [
    "conds = Conditions(7,50)\n",
    "comp = Composition({'C1': 0.5, 'C3': 0.25, 'C14': 0.25})"
   ]
  },
  {
   "cell_type": "code",
   "execution_count": 3,
   "metadata": {},
   "outputs": [],
   "source": [
    "comp1 = comp.composition_properties_df"
   ]
  },
  {
   "cell_type": "code",
   "execution_count": 4,
   "metadata": {},
   "outputs": [],
   "source": [
    "composition_object2 = Composition({'C1': 0.35, 'C2':0.1, 'C3': 0.05, 'nC5':0.05, 'C6': 0.05, 'iC4': 0.1,'C8':0.05, 'C9':0.05, 'C10': 0.05, 'C11': 0.05, 'C16':0.05, 'C44': 0.05})"
   ]
  },
  {
   "cell_type": "code",
   "execution_count": 5,
   "metadata": {},
   "outputs": [],
   "source": [
    "composition_object2_properties = composition_object2.composition_properties_df"
   ]
  },
  {
   "cell_type": "code",
   "execution_count": 6,
   "metadata": {},
   "outputs": [
    {
     "data": {
      "text/html": [
       "<div>\n",
       "<style scoped>\n",
       "    .dataframe tbody tr th:only-of-type {\n",
       "        vertical-align: middle;\n",
       "    }\n",
       "\n",
       "    .dataframe tbody tr th {\n",
       "        vertical-align: top;\n",
       "    }\n",
       "\n",
       "    .dataframe thead th {\n",
       "        text-align: right;\n",
       "    }\n",
       "</style>\n",
       "<table border=\"1\" class=\"dataframe\">\n",
       "  <thead>\n",
       "    <tr style=\"text-align: right;\">\n",
       "      <th></th>\n",
       "      <th>molar_mass</th>\n",
       "      <th>gamma</th>\n",
       "      <th>Tb</th>\n",
       "      <th>critical_pressure</th>\n",
       "      <th>critical_temperature</th>\n",
       "      <th>acentric_factor</th>\n",
       "      <th>shift_parameter</th>\n",
       "      <th>critical_volume</th>\n",
       "    </tr>\n",
       "  </thead>\n",
       "  <tbody>\n",
       "    <tr>\n",
       "      <th>C1</th>\n",
       "      <td>16.043</td>\n",
       "      <td>0.3300</td>\n",
       "      <td>111.67</td>\n",
       "      <td>4.604000</td>\n",
       "      <td>190.600000</td>\n",
       "      <td>0.013000</td>\n",
       "      <td>-0.159500</td>\n",
       "      <td>0.099300</td>\n",
       "    </tr>\n",
       "    <tr>\n",
       "      <th>C2</th>\n",
       "      <td>30.070</td>\n",
       "      <td>0.4500</td>\n",
       "      <td>184.56</td>\n",
       "      <td>4.884000</td>\n",
       "      <td>305.420000</td>\n",
       "      <td>0.099000</td>\n",
       "      <td>-0.113400</td>\n",
       "      <td>0.147900</td>\n",
       "    </tr>\n",
       "    <tr>\n",
       "      <th>C3</th>\n",
       "      <td>44.097</td>\n",
       "      <td>0.5077</td>\n",
       "      <td>231.11</td>\n",
       "      <td>4.246000</td>\n",
       "      <td>369.790000</td>\n",
       "      <td>0.152000</td>\n",
       "      <td>-0.086300</td>\n",
       "      <td>0.202900</td>\n",
       "    </tr>\n",
       "    <tr>\n",
       "      <th>iC4</th>\n",
       "      <td>58.124</td>\n",
       "      <td>0.5613</td>\n",
       "      <td>261.44</td>\n",
       "      <td>3.648000</td>\n",
       "      <td>408.090000</td>\n",
       "      <td>0.185000</td>\n",
       "      <td>-0.084400</td>\n",
       "      <td>0.262700</td>\n",
       "    </tr>\n",
       "    <tr>\n",
       "      <th>nC5</th>\n",
       "      <td>72.151</td>\n",
       "      <td>0.6301</td>\n",
       "      <td>309.22</td>\n",
       "      <td>3.370000</td>\n",
       "      <td>469.590000</td>\n",
       "      <td>0.251000</td>\n",
       "      <td>-0.039000</td>\n",
       "      <td>0.304000</td>\n",
       "    </tr>\n",
       "    <tr>\n",
       "      <th>C6</th>\n",
       "      <td>84.000</td>\n",
       "      <td>0.6900</td>\n",
       "      <td>337.05</td>\n",
       "      <td>3.104000</td>\n",
       "      <td>507.500000</td>\n",
       "      <td>0.252000</td>\n",
       "      <td>-0.008000</td>\n",
       "      <td>0.370100</td>\n",
       "    </tr>\n",
       "    <tr>\n",
       "      <th>C8</th>\n",
       "      <td>107.000</td>\n",
       "      <td>0.7490</td>\n",
       "      <td>389.85</td>\n",
       "      <td>2.884574</td>\n",
       "      <td>570.548990</td>\n",
       "      <td>0.344631</td>\n",
       "      <td>-0.014077</td>\n",
       "      <td>6.781567</td>\n",
       "    </tr>\n",
       "    <tr>\n",
       "      <th>C9</th>\n",
       "      <td>121.000</td>\n",
       "      <td>0.7680</td>\n",
       "      <td>415.35</td>\n",
       "      <td>2.640528</td>\n",
       "      <td>598.101705</td>\n",
       "      <td>0.379097</td>\n",
       "      <td>0.014491</td>\n",
       "      <td>7.657889</td>\n",
       "    </tr>\n",
       "    <tr>\n",
       "      <th>C10</th>\n",
       "      <td>134.000</td>\n",
       "      <td>0.7820</td>\n",
       "      <td>438.95</td>\n",
       "      <td>2.423211</td>\n",
       "      <td>622.207636</td>\n",
       "      <td>0.415144</td>\n",
       "      <td>0.037589</td>\n",
       "      <td>8.488891</td>\n",
       "    </tr>\n",
       "    <tr>\n",
       "      <th>C11</th>\n",
       "      <td>147.000</td>\n",
       "      <td>0.7930</td>\n",
       "      <td>460.35</td>\n",
       "      <td>2.242123</td>\n",
       "      <td>643.211673</td>\n",
       "      <td>0.450955</td>\n",
       "      <td>0.058077</td>\n",
       "      <td>9.338598</td>\n",
       "    </tr>\n",
       "    <tr>\n",
       "      <th>C16</th>\n",
       "      <td>222.000</td>\n",
       "      <td>0.8430</td>\n",
       "      <td>556.15</td>\n",
       "      <td>1.668796</td>\n",
       "      <td>734.012976</td>\n",
       "      <td>0.630294</td>\n",
       "      <td>0.144131</td>\n",
       "      <td>14.292288</td>\n",
       "    </tr>\n",
       "    <tr>\n",
       "      <th>C44</th>\n",
       "      <td>612.000</td>\n",
       "      <td>0.9380</td>\n",
       "      <td>820.15</td>\n",
       "      <td>0.870716</td>\n",
       "      <td>953.256071</td>\n",
       "      <td>1.466520</td>\n",
       "      <td>0.323825</td>\n",
       "      <td>42.146469</td>\n",
       "    </tr>\n",
       "  </tbody>\n",
       "</table>\n",
       "</div>"
      ],
      "text/plain": [
       "     molar_mass   gamma      Tb  critical_pressure  critical_temperature  \\\n",
       "C1       16.043  0.3300  111.67           4.604000            190.600000   \n",
       "C2       30.070  0.4500  184.56           4.884000            305.420000   \n",
       "C3       44.097  0.5077  231.11           4.246000            369.790000   \n",
       "iC4      58.124  0.5613  261.44           3.648000            408.090000   \n",
       "nC5      72.151  0.6301  309.22           3.370000            469.590000   \n",
       "C6       84.000  0.6900  337.05           3.104000            507.500000   \n",
       "C8      107.000  0.7490  389.85           2.884574            570.548990   \n",
       "C9      121.000  0.7680  415.35           2.640528            598.101705   \n",
       "C10     134.000  0.7820  438.95           2.423211            622.207636   \n",
       "C11     147.000  0.7930  460.35           2.242123            643.211673   \n",
       "C16     222.000  0.8430  556.15           1.668796            734.012976   \n",
       "C44     612.000  0.9380  820.15           0.870716            953.256071   \n",
       "\n",
       "     acentric_factor  shift_parameter  critical_volume  \n",
       "C1          0.013000        -0.159500         0.099300  \n",
       "C2          0.099000        -0.113400         0.147900  \n",
       "C3          0.152000        -0.086300         0.202900  \n",
       "iC4         0.185000        -0.084400         0.262700  \n",
       "nC5         0.251000        -0.039000         0.304000  \n",
       "C6          0.252000        -0.008000         0.370100  \n",
       "C8          0.344631        -0.014077         6.781567  \n",
       "C9          0.379097         0.014491         7.657889  \n",
       "C10         0.415144         0.037589         8.488891  \n",
       "C11         0.450955         0.058077         9.338598  \n",
       "C16         0.630294         0.144131        14.292288  \n",
       "C44         1.466520         0.323825        42.146469  "
      ]
     },
     "execution_count": 6,
     "metadata": {},
     "output_type": "execute_result"
    }
   ],
   "source": [
    "composition_object2_properties"
   ]
  },
  {
   "cell_type": "code",
   "execution_count": 7,
   "metadata": {},
   "outputs": [
    {
     "name": "stdout",
     "output_type": "stream",
     "text": [
      "|     |    0 |\n",
      "|:----|-----:|\n",
      "| C1  | 0.5  |\n",
      "| C3  | 0.25 |\n",
      "| C14 | 0.25 |\n",
      "========\n",
      "|     |   molar_mass |   gamma |     Tb |   critical_pressure |   critical_temperature |   acentric_factor |   shift_parameter |   critical_volume |\n",
      "|:----|-------------:|--------:|-------:|--------------------:|-----------------------:|------------------:|------------------:|------------------:|\n",
      "| C1  |       16.043 |  0.33   | 111.67 |             4.604   |                 190.6  |          0.013    |         -0.1595   |            0.0993 |\n",
      "| C3  |       44.097 |  0.5077 | 231.11 |             4.246   |                 369.79 |          0.152    |         -0.0863   |            0.2029 |\n",
      "| C14 |      190     |  0.826  | 519.55 |             1.86313 |                 700.53 |          0.555636 |          0.112604 |           12.1446 |\n",
      "========\n",
      "|     |    C1 |    C3 |   C14 |\n",
      "|:----|------:|------:|------:|\n",
      "| C1  | 0     | 0.004 |     0 |\n",
      "| C3  | 0.004 | 0     |     0 |\n",
      "| C14 | 0     | 0     |     0 |\n"
     ]
    }
   ],
   "source": [
    "comp.show_composition_dataframes()"
   ]
  },
  {
   "cell_type": "code",
   "execution_count": 8,
   "metadata": {},
   "outputs": [
    {
     "name": "stdout",
     "output_type": "stream",
     "text": [
      "|     |    0 |\n",
      "|:----|-----:|\n",
      "| C1  | 0.35 |\n",
      "| C2  | 0.1  |\n",
      "| C3  | 0.05 |\n",
      "| nC5 | 0.05 |\n",
      "| C6  | 0.05 |\n",
      "| iC4 | 0.1  |\n",
      "| C8  | 0.05 |\n",
      "| C9  | 0.05 |\n",
      "| C10 | 0.05 |\n",
      "| C11 | 0.05 |\n",
      "| C16 | 0.05 |\n",
      "| C44 | 0.05 |\n",
      "========\n",
      "|     |   molar_mass |   gamma |     Tb |   critical_pressure |   critical_temperature |   acentric_factor |   shift_parameter |   critical_volume |\n",
      "|:----|-------------:|--------:|-------:|--------------------:|-----------------------:|------------------:|------------------:|------------------:|\n",
      "| C1  |       16.043 |  0.33   | 111.67 |            4.604    |                190.6   |          0.013    |        -0.1595    |           0.0993  |\n",
      "| C2  |       30.07  |  0.45   | 184.56 |            4.884    |                305.42  |          0.099    |        -0.1134    |           0.1479  |\n",
      "| C3  |       44.097 |  0.5077 | 231.11 |            4.246    |                369.79  |          0.152    |        -0.0863    |           0.2029  |\n",
      "| iC4 |       58.124 |  0.5613 | 261.44 |            3.648    |                408.09  |          0.185    |        -0.0844    |           0.2627  |\n",
      "| nC5 |       72.151 |  0.6301 | 309.22 |            3.37     |                469.59  |          0.251    |        -0.039     |           0.304   |\n",
      "| C6  |       84     |  0.69   | 337.05 |            3.104    |                507.5   |          0.252    |        -0.008     |           0.3701  |\n",
      "| C8  |      107     |  0.749  | 389.85 |            2.88457  |                570.549 |          0.344631 |        -0.0140775 |           6.78157 |\n",
      "| C9  |      121     |  0.768  | 415.35 |            2.64053  |                598.102 |          0.379097 |         0.014491  |           7.65789 |\n",
      "| C10 |      134     |  0.782  | 438.95 |            2.42321  |                622.208 |          0.415144 |         0.0375886 |           8.48889 |\n",
      "| C11 |      147     |  0.793  | 460.35 |            2.24212  |                643.212 |          0.450955 |         0.058077  |           9.3386  |\n",
      "| C16 |      222     |  0.843  | 556.15 |            1.6688   |                734.013 |          0.630294 |         0.144131  |          14.2923  |\n",
      "| C44 |      612     |  0.938  | 820.15 |            0.870716 |                953.256 |          1.46652  |         0.323825  |          42.1465  |\n",
      "========\n",
      "|     |    C1 |    C2 |    C3 |   iC4 |   nC5 |    C6 |   C8 |   C9 |   C10 |   C11 |   C16 |   C44 |\n",
      "|:----|------:|------:|------:|------:|------:|------:|-----:|-----:|------:|------:|------:|------:|\n",
      "| C1  | 0     | 0.024 | 0.004 | 0.023 | 0.022 | 0.042 |    0 |    0 |     0 |     0 |     0 |     0 |\n",
      "| C2  | 0.024 | 0     | 0.009 | 0     | 0.004 | 0.017 |    0 |    0 |     0 |     0 |     0 |     0 |\n",
      "| C3  | 0.004 | 0.009 | 0     | 0.008 | 0.075 | 0.049 |    0 |    0 |     0 |     0 |     0 |     0 |\n",
      "| iC4 | 0.023 | 0     | 0.008 | 0     | 0.014 | 0.018 |    0 |    0 |     0 |     0 |     0 |     0 |\n",
      "| nC5 | 0     | 0     | 0     | 0     | 0     | 0     |    0 |    0 |     0 |     0 |     0 |     0 |\n",
      "| C6  | 0.042 | 0.017 | 0.049 | 0.018 | 0.001 | 0     |    0 |    0 |     0 |     0 |     0 |     0 |\n",
      "| C8  | 0     | 0     | 0     | 0     | 0     | 0     |    0 |    0 |     0 |     0 |     0 |     0 |\n",
      "| C9  | 0     | 0     | 0     | 0     | 0     | 0     |    0 |    0 |     0 |     0 |     0 |     0 |\n",
      "| C10 | 0     | 0     | 0     | 0     | 0     | 0     |    0 |    0 |     0 |     0 |     0 |     0 |\n",
      "| C11 | 0     | 0     | 0     | 0     | 0     | 0     |    0 |    0 |     0 |     0 |     0 |     0 |\n",
      "| C16 | 0     | 0     | 0     | 0     | 0     | 0     |    0 |    0 |     0 |     0 |     0 |     0 |\n",
      "| C44 | 0     | 0     | 0     | 0     | 0     | 0     |    0 |    0 |     0 |     0 |     0 |     0 |\n"
     ]
    }
   ],
   "source": [
    "composition_object2.show_composition_dataframes()"
   ]
  },
  {
   "cell_type": "code",
   "execution_count": 9,
   "metadata": {},
   "outputs": [],
   "source": [
    "comp_model = CompositionalModel(comp)"
   ]
  },
  {
   "cell_type": "code",
   "execution_count": 10,
   "metadata": {},
   "outputs": [],
   "source": [
    "comp_model.flash(conditions=conds)"
   ]
  },
  {
   "cell_type": "code",
   "execution_count": 11,
   "metadata": {},
   "outputs": [],
   "source": [
    "comp_model.flash(Conditions(12,70))"
   ]
  },
  {
   "cell_type": "code",
   "execution_count": 12,
   "metadata": {},
   "outputs": [
    {
     "data": {
      "text/plain": [
       "{'TwoPhaseFlash_7_323.14': TwoPhaseFlashResults(temperature=323.14, pressure=7, stable=False, EOS='PREOS', Fv=0.41527034731973345, Ki={'C1': 3.3992879366737947, 'C3': 0.4610809956413243, 'C14': 0.0002814041528444778}, liquid_composition={'C1': 0.2504566908972525, 'C3': 0.3220807268825009, 'C14': 0.42746258222027855}, vapour_composition={'C1': 0.8513744080262677, 'C3': 0.14850530222786495, 'C14': 0.00012028974582241042}, liquid_z=0.402927824420218, vapour_z=0.8318783128080414, vapour_molecular_mass=20.23009299201383, liquid_molecular_mass=99.43876112725519, vapour_volume=134.3923210874945, liquid_volume=85.12283885543758, vapour_density=0.06251069759882148, liquid_density=0.6830692331072518),\n",
       " 'TwoPhaseFlash_12_343.14': TwoPhaseFlashResults(temperature=343.14, pressure=12, stable=False, EOS='PREOS', Fv=0.290295359456195, Ki={'C1': 2.3398361814262585, 'C3': 0.5437039585320034, 'C14': 0.002884949638014487}, liquid_composition={'C1': 0.3599846205038891, 'C3': 0.28817135767713414, 'C14': 0.3518440218189832}, vapour_composition={'C1': 0.8423050398120007, 'C3': 0.15667990790459965, 'C14': 0.0010150522833842369}, liquid_z=0.5917919784769371, vapour_z=0.8046977475926882, vapour_molecular_mass=20.615073586416063, liquid_molecular_mass=85.3330897718393, vapour_volume=56.792594943537026, liquid_volume=95.0990902036717, vapour_density=0.10537395241288568, liquid_density=0.6368230197924357)}"
      ]
     },
     "execution_count": 12,
     "metadata": {},
     "output_type": "execute_result"
    }
   ],
   "source": [
    "comp_model._flash_results"
   ]
  },
  {
   "cell_type": "code",
   "execution_count": 13,
   "metadata": {},
   "outputs": [
    {
     "data": {
      "text/plain": [
       "{'TwoPhaseFlash_7_323.14': TwoPhaseFlashResults(temperature=323.14, pressure=7, stable=False, EOS='PREOS', Fv=0.41527034731973345, Ki={'C1': 3.3992879366737947, 'C3': 0.4610809956413243, 'C14': 0.0002814041528444778}, liquid_composition={'C1': 0.2504566908972525, 'C3': 0.3220807268825009, 'C14': 0.42746258222027855}, vapour_composition={'C1': 0.8513744080262677, 'C3': 0.14850530222786495, 'C14': 0.00012028974582241042}, liquid_z=0.402927824420218, vapour_z=0.8318783128080414, vapour_molecular_mass=20.23009299201383, liquid_molecular_mass=99.43876112725519, vapour_volume=134.3923210874945, liquid_volume=85.12283885543758, vapour_density=0.06251069759882148, liquid_density=0.6830692331072518),\n",
       " 'TwoPhaseFlash_12_343.14': TwoPhaseFlashResults(temperature=343.14, pressure=12, stable=False, EOS='PREOS', Fv=0.290295359456195, Ki={'C1': 2.3398361814262585, 'C3': 0.5437039585320034, 'C14': 0.002884949638014487}, liquid_composition={'C1': 0.3599846205038891, 'C3': 0.28817135767713414, 'C14': 0.3518440218189832}, vapour_composition={'C1': 0.8423050398120007, 'C3': 0.15667990790459965, 'C14': 0.0010150522833842369}, liquid_z=0.5917919784769371, vapour_z=0.8046977475926882, vapour_molecular_mass=20.615073586416063, liquid_molecular_mass=85.3330897718393, vapour_volume=56.792594943537026, liquid_volume=95.0990902036717, vapour_density=0.10537395241288568, liquid_density=0.6368230197924357)}"
      ]
     },
     "execution_count": 13,
     "metadata": {},
     "output_type": "execute_result"
    }
   ],
   "source": [
    "comp_model.show_flashes"
   ]
  },
  {
   "cell_type": "code",
   "execution_count": null,
   "metadata": {},
   "outputs": [],
   "source": []
  }
 ],
 "metadata": {
  "kernelspec": {
   "display_name": "base",
   "language": "python",
   "name": "python3"
  },
  "language_info": {
   "codemirror_mode": {
    "name": "ipython",
    "version": 3
   },
   "file_extension": ".py",
   "mimetype": "text/x-python",
   "name": "python",
   "nbconvert_exporter": "python",
   "pygments_lexer": "ipython3",
   "version": "3.12.7"
  }
 },
 "nbformat": 4,
 "nbformat_minor": 2
}
