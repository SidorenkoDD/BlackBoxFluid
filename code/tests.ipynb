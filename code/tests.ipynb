{
 "cells": [
  {
   "cell_type": "code",
   "execution_count": 1,
   "metadata": {},
   "outputs": [],
   "source": [
    "from calculations.CompositionalModel.CompositionalModel import CompositionalModel\n",
    "from calculations.Composition.Composition import Composition\n",
    "from calculations.Utils.Conditions import Conditions"
   ]
  },
  {
   "cell_type": "code",
   "execution_count": 7,
   "metadata": {},
   "outputs": [],
   "source": [
    "conds = Conditions(7,50)\n",
    "comp = Composition({'C1': 0.5, 'C3': 0.25, 'C14': 0.25})"
   ]
  },
  {
   "cell_type": "code",
   "execution_count": 8,
   "metadata": {},
   "outputs": [],
   "source": [
    "comp_model = CompositionalModel(comp)"
   ]
  },
  {
   "cell_type": "code",
   "execution_count": 9,
   "metadata": {},
   "outputs": [],
   "source": [
    "comp_model.flash(conditions=conds)"
   ]
  },
  {
   "cell_type": "code",
   "execution_count": null,
   "metadata": {},
   "outputs": [],
   "source": []
  },
  {
   "cell_type": "code",
   "execution_count": 10,
   "metadata": {},
   "outputs": [
    {
     "data": {
      "text/plain": [
       "{'TwoPhaseFlash_7_323.14': TwoPhaseFlashResults(temperature=323.14, pressure=7, stable=False, EOS='PREOS', Fv=0.41527034731973345, Ki={'C1': 3.3992879366737947, 'C3': 0.4610809956413243, 'C14': 0.0002814041528444778}, liquid_composition={'C1': 0.2504566908972525, 'C3': 0.3220807268825009, 'C14': 0.42746258222027855}, vapour_composition={'C1': 0.8513744080262677, 'C3': 0.14850530222786495, 'C14': 0.00012028974582241042}, liquid_z=0.402927824420218, vapour_z=0.8318783128080414, vapour_molecular_mass=20.23009299201383, liquid_molecular_mass=99.43876112725519, vapour_volume=134.3923210874945, liquid_volume=85.12283885543758, vapour_density=0.06251069759882148, liquid_density=0.6830692331072518)}"
      ]
     },
     "execution_count": 10,
     "metadata": {},
     "output_type": "execute_result"
    }
   ],
   "source": [
    "comp_model.flash_results"
   ]
  },
  {
   "cell_type": "code",
   "execution_count": 6,
   "metadata": {},
   "outputs": [
    {
     "ename": "AttributeError",
     "evalue": "'TwoPhaseStabilityTest' object has no attribute 'S_l'",
     "output_type": "error",
     "traceback": [
      "\u001b[1;31m---------------------------------------------------------------------------\u001b[0m",
      "\u001b[1;31mAttributeError\u001b[0m                            Traceback (most recent call last)",
      "Cell \u001b[1;32mIn[6], line 1\u001b[0m\n\u001b[1;32m----> 1\u001b[0m \u001b[43mcomp_model\u001b[49m\u001b[38;5;241;43m.\u001b[39;49m\u001b[43mplot_phase_diagram\u001b[49m\u001b[43m(\u001b[49m\u001b[43m)\u001b[49m\n",
      "File \u001b[1;32mc:\\Users\\user\\Desktop\\PVT_TSU\\code\\calculations\\CompositionalModel\\CompositionalModel.py:33\u001b[0m, in \u001b[0;36mCompositionalModel.plot_phase_diagram\u001b[1;34m(self, p_max, t_min, t_max, t_step)\u001b[0m\n\u001b[0;32m     31\u001b[0m \u001b[38;5;28;01mdef\u001b[39;00m \u001b[38;5;21mplot_phase_diagram\u001b[39m(\u001b[38;5;28mself\u001b[39m, p_max \u001b[38;5;241m=\u001b[39m \u001b[38;5;241m40\u001b[39m, t_min \u001b[38;5;241m=\u001b[39m \u001b[38;5;241m0\u001b[39m, t_max \u001b[38;5;241m=\u001b[39m \u001b[38;5;241m200\u001b[39m, t_step \u001b[38;5;241m=\u001b[39m \u001b[38;5;241m10\u001b[39m):\n\u001b[0;32m     32\u001b[0m     \u001b[38;5;28mself\u001b[39m\u001b[38;5;241m.\u001b[39mphase_diagram_obj \u001b[38;5;241m=\u001b[39m PhaseDiagram(\u001b[38;5;28mself\u001b[39m\u001b[38;5;241m.\u001b[39mcomposition, p_max\u001b[38;5;241m=\u001b[39m p_max, t_min\u001b[38;5;241m=\u001b[39m t_min, t_max\u001b[38;5;241m=\u001b[39m t_max, t_step\u001b[38;5;241m=\u001b[39m t_step)\n\u001b[1;32m---> 33\u001b[0m     \u001b[38;5;28;43mself\u001b[39;49m\u001b[38;5;241;43m.\u001b[39;49m\u001b[43mphase_diagram_obj\u001b[49m\u001b[38;5;241;43m.\u001b[39;49m\u001b[43mcalc_phase_diagram\u001b[49m\u001b[43m(\u001b[49m\u001b[43meos\u001b[49m\u001b[43m \u001b[49m\u001b[38;5;241;43m=\u001b[39;49m\u001b[43m \u001b[49m\u001b[38;5;28;43mself\u001b[39;49m\u001b[38;5;241;43m.\u001b[39;49m\u001b[43meos\u001b[49m\u001b[43m)\u001b[49m\n\u001b[0;32m     34\u001b[0m     \u001b[38;5;28mself\u001b[39m\u001b[38;5;241m.\u001b[39mphase_diagram_obj\u001b[38;5;241m.\u001b[39mplot_phase_diagram()\n",
      "File \u001b[1;32mc:\\Users\\user\\Desktop\\PVT_TSU\\code\\calculations\\PhaseDiagram\\PhaseDiagram_v4.py:231\u001b[0m, in \u001b[0;36mPhaseDiagram.calc_phase_diagram\u001b[1;34m(self, eos)\u001b[0m\n\u001b[0;32m    229\u001b[0m \u001b[38;5;28;01mfor\u001b[39;00m temp \u001b[38;5;129;01min\u001b[39;00m \u001b[38;5;28mself\u001b[39m\u001b[38;5;241m.\u001b[39mtemp_arange:\n\u001b[0;32m    230\u001b[0m     cur_saturation_pressure \u001b[38;5;241m=\u001b[39m SaturationPressure(\u001b[38;5;28mself\u001b[39m\u001b[38;5;241m.\u001b[39mzi, \u001b[38;5;28mself\u001b[39m\u001b[38;5;241m.\u001b[39mp_max, temp)\n\u001b[1;32m--> 231\u001b[0m     pb \u001b[38;5;241m=\u001b[39m \u001b[43mcur_saturation_pressure\u001b[49m\u001b[38;5;241;43m.\u001b[39;49m\u001b[43msp_convergence_loop\u001b[49m\u001b[43m(\u001b[49m\u001b[43meos\u001b[49m\u001b[43m)\u001b[49m\n\u001b[0;32m    232\u001b[0m     pdew \u001b[38;5;241m=\u001b[39m cur_saturation_pressure\u001b[38;5;241m.\u001b[39mdp_convergence_loop(eos)\n\u001b[0;32m    233\u001b[0m     \u001b[38;5;28mself\u001b[39m\u001b[38;5;241m.\u001b[39mresults[temp] \u001b[38;5;241m=\u001b[39m [pb, pdew]\n",
      "File \u001b[1;32mc:\\Users\\user\\Desktop\\PVT_TSU\\code\\calculations\\PhaseDiagram\\PhaseDiagram_v4.py:107\u001b[0m, in \u001b[0;36mSaturationPressure.sp_convergence_loop\u001b[1;34m(self, eos)\u001b[0m\n\u001b[0;32m    106\u001b[0m \u001b[38;5;28;01mdef\u001b[39;00m \u001b[38;5;21msp_convergence_loop\u001b[39m(\u001b[38;5;28mself\u001b[39m, eos):\n\u001b[1;32m--> 107\u001b[0m     \u001b[38;5;28;43mself\u001b[39;49m\u001b[38;5;241;43m.\u001b[39;49m\u001b[43msp_process\u001b[49m\u001b[43m(\u001b[49m\u001b[43meos\u001b[49m\u001b[43m)\u001b[49m\n\u001b[0;32m    108\u001b[0m     \u001b[38;5;28;01mif\u001b[39;00m \u001b[38;5;28mself\u001b[39m\u001b[38;5;241m.\u001b[39mp_max_bub \u001b[38;5;241m-\u001b[39m \u001b[38;5;28mself\u001b[39m\u001b[38;5;241m.\u001b[39mp_min_bub \u001b[38;5;241m<\u001b[39m math\u001b[38;5;241m.\u001b[39mpow(\u001b[38;5;241m10\u001b[39m, \u001b[38;5;241m-\u001b[39m\u001b[38;5;241m5\u001b[39m):\n\u001b[0;32m    109\u001b[0m         \u001b[38;5;28;01mreturn\u001b[39;00m \u001b[38;5;28;01mNone\u001b[39;00m\n",
      "File \u001b[1;32mc:\\Users\\user\\Desktop\\PVT_TSU\\code\\calculations\\PhaseDiagram\\PhaseDiagram_v4.py:71\u001b[0m, in \u001b[0;36mSaturationPressure.sp_process\u001b[1;34m(self, eos, lambd)\u001b[0m\n\u001b[0;32m     70\u001b[0m \u001b[38;5;28;01mdef\u001b[39;00m \u001b[38;5;21msp_process\u001b[39m(\u001b[38;5;28mself\u001b[39m, eos, lambd\u001b[38;5;241m=\u001b[39m\u001b[38;5;241m1\u001b[39m):\n\u001b[1;32m---> 71\u001b[0m     cur_s_sp \u001b[38;5;241m=\u001b[39m \u001b[38;5;28;43mself\u001b[39;49m\u001b[38;5;241;43m.\u001b[39;49m\u001b[43mdefine_s_sp\u001b[49m\u001b[43m(\u001b[49m\u001b[38;5;28;43mself\u001b[39;49m\u001b[38;5;241;43m.\u001b[39;49m\u001b[43mp_i\u001b[49m\u001b[43m,\u001b[49m\u001b[43m \u001b[49m\u001b[43meos\u001b[49m\u001b[43m)\u001b[49m\n\u001b[0;32m     73\u001b[0m     \u001b[38;5;66;03m# Если s_sp 0, то обновляем давление\u001b[39;00m\n\u001b[0;32m     74\u001b[0m     \u001b[38;5;28;01mwhile\u001b[39;00m cur_s_sp[\u001b[38;5;124m'\u001b[39m\u001b[38;5;124ms_sp\u001b[39m\u001b[38;5;124m'\u001b[39m] \u001b[38;5;241m==\u001b[39m \u001b[38;5;241m0\u001b[39m:\n",
      "File \u001b[1;32mc:\\Users\\user\\Desktop\\PVT_TSU\\code\\calculations\\PhaseDiagram\\PhaseDiagram_v4.py:26\u001b[0m, in \u001b[0;36mSaturationPressure.define_s_sp\u001b[1;34m(self, p, eos)\u001b[0m\n\u001b[0;32m     23\u001b[0m \u001b[38;5;28;01mdef\u001b[39;00m \u001b[38;5;21mdefine_s_sp\u001b[39m(\u001b[38;5;28mself\u001b[39m, p, eos:EOS):\n\u001b[0;32m     24\u001b[0m     phase_stability \u001b[38;5;241m=\u001b[39m TwoPhaseStabilityTest(\u001b[38;5;28mself\u001b[39m\u001b[38;5;241m.\u001b[39mzi, p, \u001b[38;5;28mself\u001b[39m\u001b[38;5;241m.\u001b[39mtemp, eos)\n\u001b[1;32m---> 26\u001b[0m     \u001b[38;5;28;01mif\u001b[39;00m (\u001b[43mphase_stability\u001b[49m\u001b[38;5;241;43m.\u001b[39;49m\u001b[43mS_l\u001b[49m \u001b[38;5;241m-\u001b[39m \u001b[38;5;241m1\u001b[39m) \u001b[38;5;241m<\u001b[39m \u001b[38;5;241m10\u001b[39m \u001b[38;5;241m*\u001b[39m\u001b[38;5;241m*\u001b[39m \u001b[38;5;241m-\u001b[39m\u001b[38;5;241m5\u001b[39m \u001b[38;5;129;01mand\u001b[39;00m (phase_stability\u001b[38;5;241m.\u001b[39mS_v) \u001b[38;5;241m<\u001b[39m \u001b[38;5;241m10\u001b[39m \u001b[38;5;241m*\u001b[39m\u001b[38;5;241m*\u001b[39m \u001b[38;5;241m-\u001b[39m\u001b[38;5;241m5\u001b[39m:\n\u001b[0;32m     27\u001b[0m         y_sp \u001b[38;5;241m=\u001b[39m {component: \u001b[38;5;241m0\u001b[39m \u001b[38;5;28;01mfor\u001b[39;00m component \u001b[38;5;129;01min\u001b[39;00m \u001b[38;5;28mself\u001b[39m\u001b[38;5;241m.\u001b[39mzi\u001b[38;5;241m.\u001b[39mkeys()}\n\u001b[0;32m     28\u001b[0m         \u001b[38;5;28;01mreturn\u001b[39;00m {\u001b[38;5;124m'\u001b[39m\u001b[38;5;124ms_sp\u001b[39m\u001b[38;5;124m'\u001b[39m: \u001b[38;5;241m0\u001b[39m, \u001b[38;5;124m'\u001b[39m\u001b[38;5;124my_sp\u001b[39m\u001b[38;5;124m'\u001b[39m: y_sp, \u001b[38;5;124m'\u001b[39m\u001b[38;5;124mk_sp\u001b[39m\u001b[38;5;124m'\u001b[39m: \u001b[38;5;28;01mNone\u001b[39;00m, \u001b[38;5;124m'\u001b[39m\u001b[38;5;124mr_sp\u001b[39m\u001b[38;5;124m'\u001b[39m: \u001b[38;5;28;01mNone\u001b[39;00m, \n\u001b[0;32m     29\u001b[0m                 \u001b[38;5;124m'\u001b[39m\u001b[38;5;124mletuch_sp\u001b[39m\u001b[38;5;124m'\u001b[39m: \u001b[38;5;28;01mNone\u001b[39;00m, \u001b[38;5;124m'\u001b[39m\u001b[38;5;124mletuch_z\u001b[39m\u001b[38;5;124m'\u001b[39m: \u001b[38;5;28;01mNone\u001b[39;00m}\n",
      "\u001b[1;31mAttributeError\u001b[0m: 'TwoPhaseStabilityTest' object has no attribute 'S_l'"
     ]
    }
   ],
   "source": [
    "comp_model.plot_phase_diagram()"
   ]
  },
  {
   "cell_type": "code",
   "execution_count": null,
   "metadata": {},
   "outputs": [],
   "source": []
  }
 ],
 "metadata": {
  "kernelspec": {
   "display_name": "base",
   "language": "python",
   "name": "python3"
  },
  "language_info": {
   "codemirror_mode": {
    "name": "ipython",
    "version": 3
   },
   "file_extension": ".py",
   "mimetype": "text/x-python",
   "name": "python",
   "nbconvert_exporter": "python",
   "pygments_lexer": "ipython3",
   "version": "3.12.7"
  }
 },
 "nbformat": 4,
 "nbformat_minor": 2
}
