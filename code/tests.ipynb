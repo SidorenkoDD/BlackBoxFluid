{
 "cells": [
  {
   "cell_type": "code",
   "execution_count": 1,
   "metadata": {},
   "outputs": [],
   "source": [
    "from calculations.CompositionalModel.CompositionalModel import CompositionalModel\n",
    "from calculations.Composition.Composition import Composition\n",
    "from calculations.Utils.Conditions import Conditions"
   ]
  },
  {
   "cell_type": "markdown",
   "metadata": {},
   "source": [
    "##### !!! **для корректной работы ноутбука он должен лежать в папке calculations**"
   ]
  },
  {
   "cell_type": "markdown",
   "metadata": {},
   "source": [
    "## Скрипт для сравнения результатов flash с PVTSim"
   ]
  },
  {
   "cell_type": "markdown",
   "metadata": {},
   "source": [
    "Наверное, логика должна быть такой:\n",
    "0. Предварительно нужно уровнять все свойства компонент\n",
    "1. Руками формируем результаты расчета из PVTSim для каждого флеша\n",
    "2. "
   ]
  },
  {
   "cell_type": "code",
   "execution_count": 2,
   "metadata": {},
   "outputs": [],
   "source": [
    "from dataclasses import dataclass\n",
    "\n",
    "@dataclass\n",
    "class PVTSimResults:\n",
    "    pvtsim_gas_composition : list\n",
    "    pvtsim_liquid_composition : list\n",
    "    pvtsim_ki : list\n",
    "    pvtsim_gas_z : float\n",
    "    pvtsim_liquid_z: float\n",
    "    pvtsim_fv : float"
   ]
  },
  {
   "cell_type": "code",
   "execution_count": 3,
   "metadata": {},
   "outputs": [],
   "source": [
    "def compare_results(pvtsim_obj:PVTSimResults, python_model:CompositionalModel):\n",
    "    ..."
   ]
  },
  {
   "cell_type": "code",
   "execution_count": null,
   "metadata": {},
   "outputs": [],
   "source": []
  },
  {
   "cell_type": "markdown",
   "metadata": {},
   "source": [
    "## Tests"
   ]
  },
  {
   "cell_type": "code",
   "execution_count": 80,
   "metadata": {},
   "outputs": [],
   "source": [
    "conds = Conditions(7,50)\n",
    "comp = Composition({'C1':0.3, 'C6': 0.5, 'C8': 0.1, 'C15':0.1})"
   ]
  },
  {
   "cell_type": "code",
   "execution_count": 5,
   "metadata": {},
   "outputs": [],
   "source": [
    "comp1 = comp.composition_properties_df"
   ]
  },
  {
   "cell_type": "code",
   "execution_count": 83,
   "metadata": {},
   "outputs": [],
   "source": [
    "composition_object2 = Composition({'C1': 0.35, 'C2':0.1, 'C3': 0.05, 'nC5':0.05, 'C6': 0.05, 'iC4': 0.1,'C8':0.05, 'C9':0.05, 'C10': 0.05, 'C11': 0.05, 'C16':0.05, 'C44': 0.05})"
   ]
  },
  {
   "cell_type": "code",
   "execution_count": 7,
   "metadata": {},
   "outputs": [],
   "source": [
    "composition_object2_properties = composition_object2.composition_properties_df"
   ]
  },
  {
   "cell_type": "code",
   "execution_count": null,
   "metadata": {},
   "outputs": [],
   "source": [
    "composition_object2_properties"
   ]
  },
  {
   "cell_type": "code",
   "execution_count": null,
   "metadata": {},
   "outputs": [],
   "source": [
    "comp.show_composition_dataframes()"
   ]
  },
  {
   "cell_type": "code",
   "execution_count": null,
   "metadata": {},
   "outputs": [],
   "source": [
    "composition_object2.show_composition_dataframes()"
   ]
  },
  {
   "cell_type": "code",
   "execution_count": 81,
   "metadata": {},
   "outputs": [],
   "source": [
    "comp_model = CompositionalModel(comp)"
   ]
  },
  {
   "cell_type": "code",
   "execution_count": 82,
   "metadata": {},
   "outputs": [
    {
     "name": "stdout",
     "output_type": "stream",
     "text": [
      "Pb найдено: 5.075\n",
      "Pb найдено: 5.075\n",
      "Pb найдено: 5.317919921875\n",
      "Pb найдено: 6.31875\n",
      "Pb найдено: 10.05\n",
      "Pb найдено: 10.05\n",
      "Pb найдено: 6.289599609374999\n",
      "Pb найдено: 6.5130859375\n",
      "Pb найдено: 20.0\n",
      "Pb найдено: 20.0\n",
      "Pdew найдено: 25.0\n",
      "Pb найдено: 7.1349609375\n",
      "Pb найдено: 7.329296875000001\n",
      "Pb найдено: 7.513916015625\n",
      "Pb найдено: 7.698535156249999\n",
      "Pb найдено: 7.863720703125\n",
      "Pb найдено: 8.028906249999999\n",
      "Pb найдено: 8.184375\n",
      "Pb найдено: 8.330126953125\n",
      "Pb найдено: 8.466162109375002\n",
      "Pb найдено: 8.59248046875\n",
      "Pb найдено: 8.718798828125\n",
      "Pb найдено: 8.835400390625\n",
      "Pb найдено: 8.94228515625\n",
      "Pdew найдено: 0.002012614533305168\n",
      "Pb найдено: 9.049169921874999\n",
      "Pb найдено: 9.13662109375\n",
      "Pdew найдено: 0.0034940577112138266\n",
      "Pb найдено: 9.233789062500001\n",
      "Pdew найдено: 0.004543910175561905\n",
      "Pb найдено: 9.3115234375\n",
      "Pdew найдено: 0.005860906094312668\n",
      "Pb найдено: 9.389257812500002\n",
      "Pdew найдено: 0.00749474409967661\n",
      "Pb найдено: 9.457275390625\n",
      "Pdew найдено: 0.009515214478597045\n",
      "Pb найдено: 9.525292968750001\n",
      "Pdew найдено: 0.011990915983915329\n",
      "Pb найдено: 9.583593750000002\n",
      "Pdew найдено: 0.01500726789236069\n",
      "Pb найдено: 9.622460937500001\n",
      "Pdew найдено: 0.018665395304560666\n",
      "Pb найдено: 9.68076171875\n",
      "Pdew найдено: 0.02304380536079407\n",
      "Pb найдено: 9.719628906250001\n",
      "Pdew найдено: 0.028290088102221493\n",
      "Pb найдено: 9.748779296875\n",
      "Pdew найдено: 0.034511059522628784\n",
      "Pb найдено: 9.777929687500002\n",
      "Pdew найдено: 0.04188772216439249\n",
      "Pb найдено: 9.797363281250002\n",
      "Pdew найдено: 0.05060436204075815\n",
      "Pb найдено: 9.816796875000001\n",
      "Pdew найдено: 0.060740831494331377\n",
      "Pb найдено: 9.836230468750001\n",
      "Pdew найдено: 0.07264305949211121\n",
      "Pb найдено: 9.836230468750001\n",
      "Pdew найдено: 0.08637619987130166\n",
      "Pb найдено: 9.836230468750001\n",
      "Pdew найдено: 0.10236067473888397\n",
      "Pb найдено: 9.836230468750001\n",
      "Pdew найдено: 0.12067152857780457\n",
      "Pb найдено: 9.816796875000001\n",
      "Pdew найдено: 0.14185343384742738\n",
      "Pb найдено: 9.816796875000001\n",
      "Pdew найдено: 0.1659700155258179\n",
      "Pb найдено: 9.777929687500002\n",
      "Pdew найдено: 0.19366077780723578\n",
      "Pb найдено: 9.777929687500002\n",
      "Pdew найдено: 0.2252910435199738\n",
      "Pb найдено: 9.739062500000001\n",
      "Pdew найдено: 0.26095266342163087\n",
      "Pb найдено: 9.7001953125\n",
      "Pdew найдено: 0.3016509711742401\n",
      "Pb найдено: 9.622460937500001\n",
      "Pdew найдено: 0.34768657684326176\n",
      "Pb найдено: 9.583593750000002\n",
      "Pdew найдено: 0.3998038530349733\n",
      "Pb найдено: 9.505859375000002\n",
      "Pdew найдено: 0.45835137367248546\n",
      "Pdew найдено: 1.4941404468845576\n",
      "Pdew найдено: 1.7089841712731868\n",
      "Pdew найдено: 1.9580075790872797\n",
      "Pdew найдено: 2.26074191799853\n",
      "Pdew найдено: 2.636718435678631\n",
      "[np.float64(-20.0), np.float64(-15.0), np.float64(-10.0), np.float64(-5.0), np.float64(0.0), np.float64(5.0), np.float64(10.0), np.float64(15.0), np.float64(20.0), np.float64(25.0), np.float64(30.0), np.float64(35.0), np.float64(40.0), np.float64(45.0), np.float64(50.0), np.float64(55.0), np.float64(60.0), np.float64(65.0), np.float64(70.0), np.float64(75.0), np.float64(80.0), np.float64(85.0), np.float64(90.0), np.float64(95.0), np.float64(100.0), np.float64(105.0), np.float64(110.0), np.float64(115.0), np.float64(120.0), np.float64(125.0), np.float64(130.0), np.float64(135.0), np.float64(140.0), np.float64(145.0), np.float64(150.0), np.float64(155.0), np.float64(160.0), np.float64(165.0), np.float64(170.0), np.float64(175.0), np.float64(180.0), np.float64(185.0), np.float64(190.0), np.float64(195.0), np.float64(200.0), np.float64(205.0), np.float64(210.0), np.float64(215.0), np.float64(220.0), np.float64(225.0), np.float64(230.0), np.float64(235.0), np.float64(240.0), np.float64(245.0), np.float64(250.0), np.float64(255.0), np.float64(260.0), np.float64(265.0), np.float64(270.0), np.float64(275.0), np.float64(280.0), np.float64(285.0), np.float64(290.0), np.float64(295.0)]\n",
      "====\n",
      "[ 5.075       5.075       5.31791992  6.31875    10.05       10.05\n",
      "  6.28959961  6.51308594 20.         20.          7.13496094  7.32929688\n",
      "  7.51391602  7.69853516  7.8637207   8.02890625  8.184375    8.33012695\n",
      "  8.46616211  8.59248047  8.71879883  8.83540039  8.94228516  9.04916992\n",
      "  9.13662109  9.23378906  9.31152344  9.38925781  9.45727539  9.52529297\n",
      "  9.58359375  9.62246094  9.68076172  9.71962891  9.7487793   9.77792969\n",
      "  9.79736328  9.81679688  9.83623047  9.83623047  9.83623047  9.83623047\n",
      "  9.81679688  9.81679688  9.77792969  9.77792969  9.7390625   9.70019531\n",
      "  9.62246094  9.58359375  9.50585938         nan         nan         nan\n",
      "         nan         nan         nan         nan         nan         nan\n",
      "         nan         nan         nan         nan]\n",
      "====\n",
      "[           nan            nan            nan            nan\n",
      "            nan            nan            nan            nan\n",
      "            nan 2.50000000e+01            nan            nan\n",
      "            nan            nan            nan            nan\n",
      "            nan            nan            nan            nan\n",
      "            nan            nan 2.01261453e-03            nan\n",
      " 3.49405771e-03 4.54391018e-03 5.86090609e-03 7.49474410e-03\n",
      " 9.51521448e-03 1.19909160e-02 1.50072679e-02 1.86653953e-02\n",
      " 2.30438054e-02 2.82900881e-02 3.45110595e-02 4.18877222e-02\n",
      " 5.06043620e-02 6.07408315e-02 7.26430595e-02 8.63761999e-02\n",
      " 1.02360675e-01 1.20671529e-01 1.41853434e-01 1.65970016e-01\n",
      " 1.93660778e-01 2.25291044e-01 2.60952663e-01 3.01650971e-01\n",
      " 3.47686577e-01 3.99803853e-01 4.58351374e-01            nan\n",
      "            nan            nan            nan            nan\n",
      "            nan            nan            nan 1.49414045e+00\n",
      " 1.70898417e+00 1.95800758e+00 2.26074192e+00 2.63671844e+00]\n"
     ]
    },
    {
     "data": {
      "image/png": "[encoded data removed]",
      "text/plain": [
       "<Figure size 1000x600 with 1 Axes>"
      ]
     },
     "metadata": {},
     "output_type": "display_data"
    }
   ],
   "source": [
    "comp_model.plot_phase_diagram(t_min=-20,t_max= 300, t_step=5)"
   ]
  },
  {
   "cell_type": "code",
   "execution_count": 10,
   "metadata": {},
   "outputs": [],
   "source": [
    "comp_model.flash(conditions=conds)"
   ]
  },
  {
   "cell_type": "code",
   "execution_count": 11,
   "metadata": {},
   "outputs": [],
   "source": [
    "comp_model.flash(Conditions(12,70))"
   ]
  },
  {
   "cell_type": "code",
   "execution_count": null,
   "metadata": {},
   "outputs": [],
   "source": [
    "comp_model._flash_results"
   ]
  },
  {
   "cell_type": "code",
   "execution_count": null,
   "metadata": {},
   "outputs": [],
   "source": [
    "comp_model.show_flashes"
   ]
  },
  {
   "cell_type": "code",
   "execution_count": null,
   "metadata": {},
   "outputs": [],
   "source": [
    "comp_model.show_flashes['TwoPhaseFlash_7_323.14'].Fv"
   ]
  },
  {
   "cell_type": "code",
   "execution_count": 84,
   "metadata": {},
   "outputs": [],
   "source": [
    "comp_model2 = CompositionalModel(composition_object2)\n",
    "comp_model2.flash(conds)"
   ]
  },
  {
   "cell_type": "code",
   "execution_count": 85,
   "metadata": {},
   "outputs": [
    {
     "data": {
      "text/plain": [
       "{'TwoPhaseFlash_7_323.14': TwoPhaseFlashResults(temperature=323.14, pressure=7, stable=False, EOS='PREOS', Fv=0.19572875684684732, Ki={'C1': 3.5402585589917606, 'C2': 1.0693695745391556, 'C3': 0.4731447708613796, 'nC5': 0.09357066077761238, 'C6': 0.04933426622892394, 'iC4': 0.2590571710690867, 'C8': 0.012500977241353083, 'C9': 0.006384020722048792, 'C10': 0.003342754793546801, 'C11': 0.0018130394408181517, 'C16': 7.152705587276664e-05, 'C44': 2.91478598242749e-12}, liquid_composition={'C1': 0.23376944584708398, 'C2': 0.09866042616650582, 'C3': 0.05574886281947024, 'nC5': 0.06078393929594912, 'C6': 0.061430542044291776, 'iC4': 0.11696232269276735, 'C8': 0.06197952355078765, 'C9': 0.06207164516013829, 'C10': 0.06211754874418324, 'C11': 0.06214066329471649, 'C16': 0.06216699912345439, 'C44': 0.06216808126066908}, vapour_composition={'C1': 0.8276042814908999, 'C2': 0.1055044579535281, 'C3': 0.02637728292450073, 'nC5': 0.0056875933645882375, 'C6': 0.003030630715800196, 'iC4': 0.03029992843845795, 'C8': 0.000774804613338304, 'C9': 0.0003962666689539825, 'C10': 0.00020764373382799558, 'C11': 0.00011266347343192184, 'C16': 4.446622419745557e-06, 'C44': 1.8120665181301133e-13}, liquid_z=0.4150935618559086, vapour_z=0.8347173323690653, vapour_molecular_mass=20.215250455061515, liquid_molecular_mass=108.96839207564996, vapour_volume=63.55570127191843, liquid_volume=115.92636602052727, vapour_density=0.0622557183971329, liquid_density=0.7559983735155174)}"
      ]
     },
     "execution_count": 85,
     "metadata": {},
     "output_type": "execute_result"
    }
   ],
   "source": [
    "comp_model2.show_flashes"
   ]
  },
  {
   "cell_type": "code",
   "execution_count": null,
   "metadata": {},
   "outputs": [],
   "source": []
  }
 ],
 "metadata": {
  "kernelspec": {
   "display_name": "base",
   "language": "python",
   "name": "python3"
  },
  "language_info": {
   "codemirror_mode": {
    "name": "ipython",
    "version": 3
   },
   "file_extension": ".py",
   "mimetype": "text/x-python",
   "name": "python",
   "nbconvert_exporter": "python",
   "pygments_lexer": "ipython3",
   "version": "3.12.7"
  }
 },
 "nbformat": 4,
 "nbformat_minor": 2
}
