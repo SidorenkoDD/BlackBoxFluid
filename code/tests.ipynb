{
 "cells": [
  {
   "cell_type": "code",
   "execution_count": 1,
   "metadata": {},
   "outputs": [],
   "source": [
    "from calculations.CompositionalModel.CompositionalModel import CompositionalModel\n",
    "from calculations.Composition.Composition import Composition\n",
    "from calculations.Utils.Conditions import Conditions\n",
    "from calculations.Utils.ResultsViewer import FlashResultsViewer"
   ]
  },
  {
   "cell_type": "markdown",
   "metadata": {},
   "source": [
    "##### !!! **для корректной работы ноутбука он должен лежать в папке calculations**"
   ]
  },
  {
   "cell_type": "markdown",
   "metadata": {},
   "source": [
    "## Скрипт для сравнения результатов flash с PVTSim"
   ]
  },
  {
   "cell_type": "markdown",
   "metadata": {},
   "source": [
    "Наверное, логика должна быть такой:\n",
    "0. Предварительно нужно уровнять все свойства компонент\n",
    "1. Руками формируем результаты расчета из PVTSim для каждого флеша\n",
    "2. "
   ]
  },
  {
   "cell_type": "code",
   "execution_count": null,
   "metadata": {},
   "outputs": [],
   "source": [
    "from dataclasses import dataclass\n",
    "\n",
    "@dataclass\n",
    "class PVTSimResults:\n",
    "    pvtsim_gas_composition : list\n",
    "    pvtsim_liquid_composition : list\n",
    "    pvtsim_ki : list\n",
    "    pvtsim_gas_z : float\n",
    "    pvtsim_liquid_z: float\n",
    "    pvtsim_fv : float"
   ]
  },
  {
   "cell_type": "code",
   "execution_count": null,
   "metadata": {},
   "outputs": [],
   "source": [
    "def compare_results(pvtsim_obj:PVTSimResults, python_model:CompositionalModel):\n",
    "    ..."
   ]
  },
  {
   "cell_type": "code",
   "execution_count": null,
   "metadata": {},
   "outputs": [],
   "source": []
  },
  {
   "cell_type": "markdown",
   "metadata": {},
   "source": [
    "## Tests"
   ]
  },
  {
   "cell_type": "code",
   "execution_count": null,
   "metadata": {},
   "outputs": [],
   "source": [
    "conds = Conditions(7,50)\n",
    "comp = Composition({'C1':0.3, 'C6': 0.5, 'C8': 0.1, 'C15':0.1})"
   ]
  },
  {
   "cell_type": "code",
   "execution_count": null,
   "metadata": {},
   "outputs": [],
   "source": [
    "comp1 = comp.composition_properties_df"
   ]
  },
  {
   "cell_type": "code",
   "execution_count": null,
   "metadata": {},
   "outputs": [],
   "source": [
    "composition_object2 = Composition({'C1': 0.35, 'C2':0.1, 'C3': 0.05, 'nC5':0.05, 'C6': 0.05, 'iC4': 0.1,'C8':0.05, 'C9':0.05, 'C10': 0.05, 'C11': 0.05, 'C16':0.05, 'C44': 0.05})"
   ]
  },
  {
   "cell_type": "code",
   "execution_count": null,
   "metadata": {},
   "outputs": [],
   "source": [
    "composition_object2_properties = composition_object2.composition_properties_df"
   ]
  },
  {
   "cell_type": "code",
   "execution_count": null,
   "metadata": {},
   "outputs": [],
   "source": [
    "composition_object2_properties"
   ]
  },
  {
   "cell_type": "code",
   "execution_count": null,
   "metadata": {},
   "outputs": [],
   "source": [
    "comp.show_composition_dataframes()"
   ]
  },
  {
   "cell_type": "code",
   "execution_count": null,
   "metadata": {},
   "outputs": [],
   "source": [
    "composition_object2.show_composition_dataframes()"
   ]
  },
  {
   "cell_type": "code",
   "execution_count": null,
   "metadata": {},
   "outputs": [],
   "source": [
    "comp_model = CompositionalModel(comp)"
   ]
  },
  {
   "cell_type": "code",
   "execution_count": null,
   "metadata": {},
   "outputs": [],
   "source": [
    "comp_model.plot_phase_diagram(t_min=-20,t_max= 300, t_step=5)"
   ]
  },
  {
   "cell_type": "code",
   "execution_count": null,
   "metadata": {},
   "outputs": [],
   "source": [
    "comp_model.flash(conditions=conds)"
   ]
  },
  {
   "cell_type": "code",
   "execution_count": null,
   "metadata": {},
   "outputs": [],
   "source": [
    "comp_model.flash(Conditions(12,70))"
   ]
  },
  {
   "cell_type": "code",
   "execution_count": null,
   "metadata": {},
   "outputs": [],
   "source": [
    "comp_model._flash_results"
   ]
  },
  {
   "cell_type": "code",
   "execution_count": null,
   "metadata": {},
   "outputs": [],
   "source": [
    "comp_model.show_flashes"
   ]
  },
  {
   "cell_type": "code",
   "execution_count": null,
   "metadata": {},
   "outputs": [],
   "source": [
    "comp_model.show_flashes['TwoPhaseFlash_7_323.14'].Fv"
   ]
  },
  {
   "cell_type": "code",
   "execution_count": null,
   "metadata": {},
   "outputs": [],
   "source": [
    "comp_model2 = CompositionalModel(composition_object2)\n",
    "comp_model2.flash(conds)"
   ]
  },
  {
   "cell_type": "code",
   "execution_count": null,
   "metadata": {},
   "outputs": [],
   "source": [
    "comp_model2.show_flashes"
   ]
  },
  {
   "cell_type": "code",
   "execution_count": null,
   "metadata": {},
   "outputs": [],
   "source": []
  },
  {
   "cell_type": "markdown",
   "metadata": {},
   "source": [
    "# DIII тест"
   ]
  },
  {
   "cell_type": "code",
   "execution_count": null,
   "metadata": {},
   "outputs": [],
   "source": [
    "# Состав в процентах СУММА 100\n",
    "DIII_zi = {'CO2' : 0.215,\n",
    "           'He' : 0.038,\n",
    "           'C1' : 28.190,\n",
    "           'C2' : 14.901,\n",
    "           'C3' : 11.509,\n",
    "           'iC4' : 1.428,\n",
    "           'nC4' : 3.720,\n",
    "           'iC5' : 1.177,\n",
    "           'nC5' : 1.130,\n",
    "           'C6' : 1.900,\n",
    "           'C7' : 3.081,\n",
    "           'C8' : 4.149,\n",
    "           'C9' : 3.399,\n",
    "           'C10' : 3.086,\n",
    "           'C11' : 2.525,\n",
    "           'C12' : 2.140,\n",
    "           'C13' : 2.061,\n",
    "           'C14' : 1.812,\n",
    "           'C15' : 1.338,\n",
    "           'C16' : 1.134,\n",
    "           'C17' : 0.953,\n",
    "           'C18' : 0.949,\n",
    "           'C19' : 0.999,\n",
    "           'C20' : 0.667,\n",
    "           'C21' : 0.623,\n",
    "           'C22' : 0.585,\n",
    "           'C23' : 0.495,\n",
    "           'C24' : 0.469,\n",
    "           'C25' : 0.408,\n",
    "           'C26' : 0.361,\n",
    "           'C27' : 0.342,\n",
    "           'C28' : 0.300,\n",
    "           'C29' : 0.278,\n",
    "           'C30' : 0.240,\n",
    "           'C31' : 0.234,\n",
    "           'C32' : 0.212,\n",
    "           'C33' : 0.195,\n",
    "           'C34' : 0.180,\n",
    "           'C35' : 0.170,\n",
    "           'C36' : 2.406\n",
    "}\n",
    "\n",
    "\n",
    "\n"
   ]
  },
  {
   "cell_type": "code",
   "execution_count": null,
   "metadata": {},
   "outputs": [],
   "source": [
    "# Состав в долях с неУВ компонентами\n",
    "DIII_zi = {'CO2': 0.00215,\n",
    "           'He': 0.00038,\n",
    "           'C1': 0.2819,\n",
    "           'C2': 0.14901,\n",
    "           'C3': 0.11509,\n",
    "           'iC4': 0.01428,\n",
    "           'nC4': 0.0372,\n",
    "           'iC5': 0.01177,\n",
    "           'nC5': 0.0113,\n",
    "           'C6': 0.019,\n",
    "           'C7': 0.03081,\n",
    "           'C8': 0.04149,\n",
    "           'C9': 0.03399,\n",
    "           'C10': 0.03086,\n",
    "           'C11': 0.02525,\n",
    "           'C12': 0.0214,\n",
    "           'C13': 0.02061,\n",
    "           'C14': 0.01812,\n",
    "           'C15': 0.01338,\n",
    "           'C16': 0.01134,\n",
    "           'C17': 0.00953,\n",
    "           'C18': 0.00949,\n",
    "           'C19': 0.00999,\n",
    "           'C20': 0.00667,\n",
    "           'C21': 0.00623,\n",
    "           'C22': 0.00585,\n",
    "           'C23': 0.00495,\n",
    "           'C24': 0.00469,\n",
    "           'C25': 0.00408,\n",
    "           'C26': 0.00361,\n",
    "           'C27': 0.00342,\n",
    "           'C28': 0.003,\n",
    "           'C29': 0.00278,\n",
    "           'C30': 0.0024,\n",
    "           'C31': 0.00234,\n",
    "           'C32': 0.00212,\n",
    "           'C33': 0.00195,\n",
    "           'C34': 0.0018,\n",
    "           'C35': 0.0017,\n",
    "           'C36': 0.02406\n",
    "}"
   ]
  },
  {
   "cell_type": "markdown",
   "metadata": {},
   "source": [
    "0,215083887911224\n",
    "28,2009963534675\n",
    "14,9068137018216\n",
    "11,5134903302074\n",
    "1,42855717984413\n",
    "3,72145171943236\n",
    "1,17745929987574\n",
    "1,13044093184266\n",
    "1,90074143626122\n",
    "3,08220212682833\n",
    "4,15061899850774\n",
    "3,40032604384294\n",
    "3,0872041037113\n",
    "2,52598520737042\n",
    "2,1408351340502\n",
    "2,06180432863297\n",
    "1,81270714401026\n",
    "1,33852207298811\n",
    "1,13444244179341\n",
    "0,953371880408519\n",
    "0,949370251198387\n",
    "0,999389781509374\n",
    "0,667260221888989\n",
    "0,62324307576351\n",
    "0,585228254193848\n",
    "0,495193117522979\n",
    "0,469183034509487\n",
    "0,408159172944863\n",
    "0,36114083472663\n",
    "0,342133483571489\n",
    "0,300117062606541\n",
    "0,278108459728957\n",
    "0,240093638159295\n",
    "0,234091298696055\n",
    "0,212082725633315\n",
    "0,195076084731283\n",
    "0,180070243526894\n",
    "0,170066349390634\n",
    "2,40693858688939"
   ]
  },
  {
   "cell_type": "code",
   "execution_count": null,
   "metadata": {},
   "outputs": [],
   "source": [
    "DIII_zi_v3 = {'CO2' : 0.00215,\n",
    "           'C1': 0.2819,\n",
    "           'C2': 0.14901,\n",
    "           'C3': 0.11509,\n",
    "           'iC4': 0.01428,\n",
    "           'nC4': 0.0372,\n",
    "           'iC5': 0.01177,\n",
    "           'nC5': 0.0113,\n",
    "           'C6': 0.019,\n",
    "           'C7': 0.03081,\n",
    "           'C8': 0.04149,\n",
    "           'C9': 0.03399,\n",
    "           'C10': 0.03086,\n",
    "           'C11': 0.02525,\n",
    "           'C12': 0.0214,\n",
    "           'C13': 0.02061,\n",
    "           'C14': 0.01812,\n",
    "           'C15': 0.01338,\n",
    "           'C16': 0.01134,\n",
    "           'C17': 0.00953,\n",
    "           'C18': 0.00949,\n",
    "           'C19': 0.00999,\n",
    "           'C20': 0.00667,\n",
    "           'C21': 0.00623,\n",
    "           'C22': 0.00585,\n",
    "           'C23': 0.00495,\n",
    "           'C24': 0.00469,\n",
    "           'C25': 0.00408,\n",
    "           'C26': 0.00361,\n",
    "           'C27': 0.00342,\n",
    "           'C28': 0.003,\n",
    "           'C29': 0.00278,\n",
    "           'C30': 0.0024,\n",
    "           'C31': 0.00234,\n",
    "           'C32': 0.00212,\n",
    "           'C33': 0.00195,\n",
    "           'C34': 0.0018,\n",
    "           'C35': 0.0017,\n",
    "           'C36': 0.02406\n",
    "}"
   ]
  },
  {
   "cell_type": "code",
   "execution_count": null,
   "metadata": {},
   "outputs": [],
   "source": [
    "diii_zi_norm = {'CO2': 0.00215083887911224,\n",
    "'C1': 0.282009963534675,\n",
    "'C2': 0.149068137018216,\n",
    "'C3': 0.115134903302074,\n",
    "'iC4': 0.0142855717984413,\n",
    "'nC4': 0.0372145171943236,\n",
    "'iC5': 0.0117745929987574,\n",
    "'nC5': 0.0113044093184266,\n",
    "'C6': 0.0190074143626122,\n",
    "'C7': 0.0308220212682833,\n",
    "'C8': 0.0415061899850774,\n",
    "'C9': 0.0340032604384294,\n",
    "'C10': 0.030872041037113,\n",
    "'C11': 0.0252598520737042,\n",
    "'C12': 0.021408351340502,\n",
    "'C13': 0.0206180432863297,\n",
    "'C14': 0.0181270714401026,\n",
    "'C15': 0.0133852207298811,\n",
    "'C16': 0.0113444244179341,\n",
    "'C17': 0.00953371880408519,\n",
    "'C18': 0.00949370251198387,\n",
    "'C19': 0.00999389781509374,\n",
    "'C20': 0.00667260221888989,\n",
    "'C21': 0.0062324307576351,\n",
    "'C22': 0.00585228254193848,\n",
    "'C23': 0.00495193117522979,\n",
    "'C24': 0.00469183034509487,\n",
    "'C25': 0.00408159172944863,\n",
    "'C26': 0.0036114083472663,\n",
    "'C27': 0.00342133483571489,\n",
    "'C28': 0.00300117062606541,\n",
    "'C29': 0.00278108459728957,\n",
    "'C30': 0.00240093638159295,\n",
    "'C31': 0.00234091298696055,\n",
    "'C32': 0.00212082725633315,\n",
    "'C33': 0.00195076084731283,\n",
    "'C34': 0.00180070243526894,\n",
    "'C35': 0.00170066349390634,\n",
    "'C36': 0.0240693858688939}"
   ]
  },
  {
   "cell_type": "code",
   "execution_count": null,
   "metadata": {},
   "outputs": [],
   "source": [
    "diii_zi_norm_no_c02 = {\n",
    "'C1': 0.282009963534675,\n",
    "'C2': 0.149068137018216,\n",
    "'C3': 0.115134903302074,\n",
    "'iC4': 0.0142855717984413,\n",
    "'nC4': 0.0372145171943236,\n",
    "'iC5': 0.0117745929987574,\n",
    "'nC5': 0.0113044093184266,\n",
    "'C6': 0.0190074143626122,\n",
    "'C7': 0.0308220212682833,\n",
    "'C8': 0.0415061899850774,\n",
    "'C9': 0.0340032604384294,\n",
    "'C10': 0.030872041037113,\n",
    "'C11': 0.0252598520737042,\n",
    "'C12': 0.021408351340502,\n",
    "'C13': 0.0206180432863297,\n",
    "'C14': 0.0181270714401026,\n",
    "'C15': 0.0133852207298811,\n",
    "'C16': 0.0113444244179341,\n",
    "'C17': 0.00953371880408519,\n",
    "'C18': 0.00949370251198387,\n",
    "'C19': 0.00999389781509374,\n",
    "'C20': 0.00667260221888989,\n",
    "'C21': 0.0062324307576351,\n",
    "'C22': 0.00585228254193848,\n",
    "'C23': 0.00495193117522979,\n",
    "'C24': 0.00469183034509487,\n",
    "'C25': 0.00408159172944863,\n",
    "'C26': 0.0036114083472663,\n",
    "'C27': 0.00342133483571489,\n",
    "'C28': 0.00300117062606541,\n",
    "'C29': 0.00278108459728957,\n",
    "'C30': 0.00240093638159295,\n",
    "'C31': 0.00234091298696055,\n",
    "'C32': 0.00212082725633315,\n",
    "'C33': 0.00195076084731283,\n",
    "'C34': 0.00180070243526894,\n",
    "'C35': 0.00170066349390634,\n",
    "'C36': 0.0240693858688939}"
   ]
  },
  {
   "cell_type": "code",
   "execution_count": null,
   "metadata": {},
   "outputs": [],
   "source": [
    "for val in diii_zi_norm.values():\n",
    "    print(val * 100)"
   ]
  },
  {
   "cell_type": "code",
   "execution_count": null,
   "metadata": {},
   "outputs": [],
   "source": [
    "sum(DIII_zi_v3.values())"
   ]
  },
  {
   "cell_type": "code",
   "execution_count": null,
   "metadata": {},
   "outputs": [],
   "source": [
    "sum(diii_zi_norm.values())"
   ]
  },
  {
   "cell_type": "code",
   "execution_count": null,
   "metadata": {},
   "outputs": [],
   "source": [
    "composition_20r = Composition(DIII_zi_v3)"
   ]
  },
  {
   "cell_type": "code",
   "execution_count": null,
   "metadata": {},
   "outputs": [],
   "source": [
    "composition_20r_with_he = Composition(DIII_zi)"
   ]
  },
  {
   "cell_type": "code",
   "execution_count": null,
   "metadata": {},
   "outputs": [],
   "source": [
    "composition_20r_norm = Composition(diii_zi_norm)"
   ]
  },
  {
   "cell_type": "code",
   "execution_count": null,
   "metadata": {},
   "outputs": [],
   "source": [
    "composition_20r_norm_no_c02 = Composition(diii_zi_norm_no_c02)"
   ]
  },
  {
   "cell_type": "code",
   "execution_count": null,
   "metadata": {},
   "outputs": [],
   "source": [
    "composition_20r.composition_df"
   ]
  },
  {
   "cell_type": "code",
   "execution_count": null,
   "metadata": {},
   "outputs": [],
   "source": [
    "composition_20r.composition_properties_df"
   ]
  },
  {
   "cell_type": "markdown",
   "metadata": {},
   "source": [
    "## Изменение свойств компонент"
   ]
  },
  {
   "cell_type": "code",
   "execution_count": null,
   "metadata": {},
   "outputs": [],
   "source": [
    "composition_20r_norm.edit_component_properties('CO2', {'critical_pressure': 7.3764,\n",
    "                                                  'critical_temperature': 306.19,\n",
    "                                                  })\n",
    "\n",
    "\n",
    "composition_20r_norm.edit_component_properties('C1', {'critical_pressure': 4.600154768,\n",
    "                                                  'critical_temperature': 190.5900061,\n",
    "                                                  'acentric_factor':0.008})\n",
    "\n",
    "composition_20r_norm.edit_component_properties('C2', {'critical_pressure': 4.883865077,\n",
    "                                                  'critical_temperature': 305.3899939,\n",
    "                                                  'acentric_factor':0.097999997})\n",
    "\n",
    "\n",
    "composition_20r_norm.edit_component_properties('C3', {'critical_pressure': 4.245518041,\n",
    "                                                  'critical_temperature': 369.7899878,\n",
    "                                                  'acentric_factor':0.151999995})\n",
    "\n",
    "\n",
    "composition_20r_norm.edit_component_properties('iC4', {'critical_pressure': 3.64770116,\n",
    "                                                  'critical_temperature': 408.089,\n",
    "                                                  'acentric_factor':0.175999999})\n",
    "\n",
    "\n",
    "composition_20r_norm.edit_component_properties('nC4', {'critical_pressure': 3.799687887,\n",
    "                                                  'critical_temperature': 425.1900122,\n",
    "                                                  'acentric_factor':0.193000004})\n",
    "\n",
    "\n",
    "composition_20r_norm.edit_component_properties('iC5', {'critical_pressure': 3.384255155,\n",
    "                                                  'critical_temperature': 460.3899939,\n",
    "                                                  'acentric_factor':0.226999998})\n",
    "\n",
    "\n",
    "composition_20r_norm.edit_component_properties('nC5', {'critical_pressure': 3.374122036,\n",
    "                                                  'critical_temperature': 469.5899451,\n",
    "                                                  'acentric_factor':0.250999987})\n",
    "\n",
    "\n",
    "composition_20r_norm.edit_component_properties('C6', {'critical_pressure': 2.968822229,\n",
    "                                                  'critical_temperature': 507.3899939,\n",
    "                                                  'acentric_factor':0.296000004})\n",
    "\n",
    "\n",
    "composition_20r_norm.edit_component_properties('C7', {'critical_pressure': 2.9451884,\n",
    "                                                  'critical_temperature': 536.4781592,\n",
    "                                                  'acentric_factor':0.337441325})\n",
    "\n",
    "composition_20r_norm.edit_component_properties('C8', {'critical_pressure': 2.741522808,\n",
    "                                                  'critical_temperature': 558.0327856,\n",
    "                                                  'acentric_factor':0.374272853\n",
    "})\n",
    "\n",
    "\n",
    "composition_20r_norm.edit_component_properties('C9', {'critical_pressure': 2.506488844\n",
    ",\n",
    "                                                  'critical_temperature': 582.0675757\n",
    ",\n",
    "                                                  'acentric_factor':0.420477808\n",
    "})\n",
    "\n",
    "\n",
    "composition_20r_norm.edit_component_properties('C10', {'critical_pressure': 2.329497094\n",
    ",\n",
    "                                                  'critical_temperature': 602.5048926\n",
    ",\n",
    "                                                  'acentric_factor':0.462806612\n",
    "})\n",
    "\n",
    "composition_20r_norm.edit_component_properties('C11', {'critical_pressure': 2.177428424\n",
    ",\n",
    "                                                  'critical_temperature': 621.215769\n",
    ",\n",
    "                                                  'acentric_factor':0.504519641\n",
    "})\n",
    "\n",
    "composition_20r_norm.edit_component_properties('C12', {'critical_pressure': 2.057186543\n",
    ",\n",
    "                                                  'critical_temperature': 640.9806616\n",
    ",\n",
    "                                                  'acentric_factor':0.548880339\n",
    "})\n",
    "\n",
    "\n",
    "composition_20r_norm.edit_component_properties('C13', {'critical_pressure': 1.960886164\n",
    ",\n",
    "                                                  'critical_temperature': 659.8851416\n",
    ",\n",
    "                                                  'acentric_factor':0.592538536\n",
    "})\n",
    "\n",
    "composition_20r_norm.edit_component_properties('C14', {'critical_pressure': 1.870848251\n",
    ",\n",
    "                                                  'critical_temperature': 678.9091284\n",
    ",\n",
    "                                                  'acentric_factor':0.638427556\n",
    "})\n",
    "\n",
    "composition_20r_norm.edit_component_properties('C15', {'critical_pressure': 1.785777366\n",
    ",\n",
    "                                                  'critical_temperature': 697.9627783\n",
    ",\n",
    "                                                  'acentric_factor':0.686300218\n",
    "})\n",
    "\n",
    "composition_20r_norm.edit_component_properties('C16', {'critical_pressure': 1.716160106\n",
    ",\n",
    "                                                  'critical_temperature': 716.3793433\n",
    ",\n",
    "                                                  'acentric_factor':0.733060181\n",
    "})\n",
    "\n",
    "composition_20r_norm.edit_component_properties('C17', {'critical_pressure': 1.6502672\n",
    ",\n",
    "                                                  'critical_temperature': 732.3194067\n",
    ",\n",
    "                                                  'acentric_factor':0.775699914\n",
    "})\n",
    "\n",
    "composition_20r_norm.edit_component_properties('C18', {'critical_pressure': 1.603241119\n",
    ",\n",
    "                                                  'critical_temperature': 747.2742407\n",
    ",\n",
    "                                                  'acentric_factor':0.81455636\n",
    "})\n",
    "\n",
    "composition_20r_norm.edit_component_properties('C19', {'critical_pressure': 1.574782599\n",
    ",\n",
    "                                                  'critical_temperature': 760.3541968\n",
    ",\n",
    "                                                  'acentric_factor':0.84712261\n",
    "})\n",
    "\n",
    "composition_20r_norm.edit_component_properties('C20', {'critical_pressure': 1.544921768\n",
    ",\n",
    "                                                  'critical_temperature': 772.8315527\n",
    ",\n",
    "                                                  'acentric_factor':0.878839731\n",
    "})\n",
    "\n",
    "composition_20r_norm.edit_component_properties('C21', {'critical_pressure': 1.508275892\n",
    ",\n",
    "                                                  'critical_temperature': 789.0159399\n",
    ",\n",
    "                                                  'acentric_factor':0.919805586\n",
    "})\n",
    "\n",
    "\n",
    "composition_20r_norm.edit_component_properties('C22', {'critical_pressure': 1.480574379\n",
    ",\n",
    "                                                  'critical_temperature': 802.944834\n",
    ",\n",
    "                                                  'acentric_factor':0.954364836\n",
    "})\n",
    "\n",
    "\n",
    "composition_20r_norm.edit_component_properties('C23', {'critical_pressure': 1.456971762\n",
    ",\n",
    "                                                  'critical_temperature': 815.6217139\n",
    ",\n",
    "                                                  'acentric_factor':0.985306203\n",
    "})\n",
    "\n",
    "\n",
    "composition_20r_norm.edit_component_properties('C24', {'critical_pressure': 1.435632534\n",
    ",\n",
    "                                                  'critical_temperature': 828.1141455\n",
    ",\n",
    "                                                  'acentric_factor':1.015090942\n",
    "})\n",
    "\n",
    "\n",
    "composition_20r_norm.edit_component_properties('C25', {'critical_pressure': 1.414600496\n",
    ",\n",
    "                                                  'critical_temperature': 841.3556616\n",
    ",\n",
    "                                                  'acentric_factor':1.045804143\n",
    "})\n",
    "\n",
    "\n",
    "composition_20r_norm.edit_component_properties('C26', {'critical_pressure': 1.395581669\n",
    ",\n",
    "                                                  'critical_temperature': 854.4172461\n",
    ",\n",
    "                                                  'acentric_factor':1.075036764\n",
    "})\n",
    "\n",
    "\n",
    "composition_20r_norm.edit_component_properties('C27', {'critical_pressure': 1.37692318\n",
    ",\n",
    "                                                  'critical_temperature': 868.2071631\n",
    ",\n",
    "                                                  'acentric_factor':1.104626894\n",
    "})\n",
    "\n",
    "\n",
    "composition_20r_norm.edit_component_properties('C28', {'critical_pressure': 1.361332726\n",
    ",\n",
    "                                                  'critical_temperature': 880.939646\n",
    ",\n",
    "                                                  'acentric_factor':1.130556583\n",
    "})\n",
    "\n",
    "composition_20r_norm.edit_component_properties('C29', {'critical_pressure': 1.346311139\n",
    ",\n",
    "                                                  'critical_temperature': 893.4580786\n",
    ",\n",
    "                                                  'acentric_factor':1.154764056\n",
    "})\n",
    "\n",
    "\n",
    "composition_20r_norm.edit_component_properties('C30', {'critical_pressure': 1.332525464\n",
    ",\n",
    "                                                  'critical_temperature': 905.845896\n",
    ",\n",
    "                                                  'acentric_factor':1.177188158\n",
    "})\n",
    "\n",
    "composition_20r_norm.edit_component_properties('C31', {'critical_pressure': 1.320621388\n",
    ",\n",
    "                                                  'critical_temperature': 918.1856177\n",
    ",\n",
    "                                                  'acentric_factor':1.197769403\n",
    "})\n",
    "\n",
    "\n",
    "composition_20r_norm.edit_component_properties('C32', {'critical_pressure':1.30892188\n",
    ",\n",
    "                                                  'critical_temperature': 930.3385107\n",
    ",\n",
    "                                                  'acentric_factor':1.216412067\n",
    "\n",
    "})\n",
    "\n",
    "composition_20r_norm.edit_component_properties('C33', {'critical_pressure':1.298114857,\n",
    "                                                  'critical_temperature': 942.3852637\n",
    ",\n",
    "                                                  'acentric_factor':1.233062625\n",
    "\n",
    "})\n",
    "\n",
    "composition_20r_norm.edit_component_properties('C34', {'critical_pressure':1.288114316,\n",
    "                                                  'critical_temperature': 954.3325903\n",
    ",\n",
    "                                                  'acentric_factor':1.247659445\n",
    "})\n",
    "\n",
    "\n",
    "composition_20r_norm.edit_component_properties('C35', {'critical_pressure':1.278844403,\n",
    "                                                  'critical_temperature':966.1865942\n",
    ",\n",
    "                                                  'acentric_factor':1.260146022\n",
    "})\n",
    "\n",
    "\n",
    "composition_20r_norm.edit_component_properties('C36', {'critical_pressure':1.270238925,\n",
    "                                                  'critical_temperature':977.9528296\n",
    ",\n",
    "                                                  'acentric_factor':1.270472527\n",
    "})"
   ]
  },
  {
   "cell_type": "code",
   "execution_count": null,
   "metadata": {},
   "outputs": [],
   "source": [
    "composition_20r.composition_properties_df"
   ]
  },
  {
   "cell_type": "markdown",
   "metadata": {},
   "source": [
    "## Создание модели и расчет флеша"
   ]
  },
  {
   "cell_type": "code",
   "execution_count": null,
   "metadata": {},
   "outputs": [],
   "source": [
    "model_20r = CompositionalModel(composition_20r)"
   ]
  },
  {
   "cell_type": "code",
   "execution_count": null,
   "metadata": {},
   "outputs": [],
   "source": [
    "model_20r_norm = CompositionalModel(composition_20r_norm)"
   ]
  },
  {
   "cell_type": "code",
   "execution_count": null,
   "metadata": {},
   "outputs": [],
   "source": []
  },
  {
   "cell_type": "code",
   "execution_count": null,
   "metadata": {},
   "outputs": [],
   "source": [
    "conds1 = Conditions(5,70)\n",
    "conds2 = Conditions(8, 100)\n",
    "conds3 = Conditions(12, 100)\n",
    "conds4 = Conditions(4, 40)\n",
    "conds5 = Conditions(6, 40)"
   ]
  },
  {
   "cell_type": "code",
   "execution_count": null,
   "metadata": {},
   "outputs": [],
   "source": [
    "model_20r.flash(conds1)"
   ]
  },
  {
   "cell_type": "code",
   "execution_count": null,
   "metadata": {},
   "outputs": [],
   "source": [
    "model_20r.flash(conds2)"
   ]
  },
  {
   "cell_type": "code",
   "execution_count": null,
   "metadata": {},
   "outputs": [],
   "source": [
    "model_20r.flash(conds3)"
   ]
  },
  {
   "cell_type": "code",
   "execution_count": null,
   "metadata": {},
   "outputs": [],
   "source": [
    "model_20r.flash(conds4)"
   ]
  },
  {
   "cell_type": "code",
   "execution_count": null,
   "metadata": {},
   "outputs": [],
   "source": [
    "model_20r.flash(conds5)"
   ]
  },
  {
   "cell_type": "code",
   "execution_count": null,
   "metadata": {},
   "outputs": [],
   "source": [
    "model_20r.show_flashes['TwoPhaseFlash_8_373.14']"
   ]
  },
  {
   "cell_type": "code",
   "execution_count": null,
   "metadata": {},
   "outputs": [],
   "source": [
    "model_20r_norm.flash(conds2)"
   ]
  },
  {
   "cell_type": "code",
   "execution_count": null,
   "metadata": {},
   "outputs": [],
   "source": [
    "model_20r_norm.flash(conds3)"
   ]
  },
  {
   "cell_type": "code",
   "execution_count": null,
   "metadata": {},
   "outputs": [],
   "source": [
    "conds6 = Conditions(12, 100)\n",
    "conds7 = Conditions(8,300)\n",
    "model_20r_norm.flash(conds7)"
   ]
  },
  {
   "cell_type": "code",
   "execution_count": null,
   "metadata": {},
   "outputs": [],
   "source": [
    "model_no_co2 = CompositionalModel(composition_20r_norm_no_c02)\n",
    "model_no_co2.flash(conds7)\n",
    "model_no_co2.show_flashes"
   ]
  },
  {
   "cell_type": "code",
   "execution_count": null,
   "metadata": {},
   "outputs": [],
   "source": [
    "model_20r_norm.show_flashes"
   ]
  },
  {
   "cell_type": "code",
   "execution_count": null,
   "metadata": {},
   "outputs": [],
   "source": [
    "composition_20r_norm.composition_bips_df"
   ]
  },
  {
   "cell_type": "code",
   "execution_count": null,
   "metadata": {},
   "outputs": [],
   "source": []
  },
  {
   "cell_type": "markdown",
   "metadata": {},
   "source": [
    "# Тест на синтетике"
   ]
  },
  {
   "cell_type": "code",
   "execution_count": null,
   "metadata": {},
   "outputs": [],
   "source": [
    "sint_zi = {'C1': 0.4, 'iC4': 0.1, 'C10':0.5}"
   ]
  },
  {
   "cell_type": "code",
   "execution_count": null,
   "metadata": {},
   "outputs": [],
   "source": [
    "sint_comp = Composition(sint_zi)"
   ]
  },
  {
   "cell_type": "code",
   "execution_count": null,
   "metadata": {},
   "outputs": [],
   "source": [
    "sint_comp.edit_component_properties('C1', {'critical_pressure': 4.600154768,\n",
    "                                                  'critical_temperature': 190.5900061,\n",
    "                                                  'acentric_factor':0.008})\n",
    "\n",
    "\n",
    "\n",
    "\n",
    "sint_comp.edit_component_properties('iC4', {'critical_pressure': 3.64770116,\n",
    "                                                  'critical_temperature': 408.089,\n",
    "                                                  'acentric_factor':0.175999999})\n",
    "\n",
    "\n",
    "sint_comp.edit_component_properties('C10', {'critical_pressure': 2.329497094\n",
    ",\n",
    "                                                  'critical_temperature': 602.5048926\n",
    ",\n",
    "                                                  'acentric_factor':0.462806612\n",
    "})"
   ]
  },
  {
   "cell_type": "code",
   "execution_count": null,
   "metadata": {},
   "outputs": [],
   "source": [
    "sint_model = CompositionalModel(sint_comp)"
   ]
  },
  {
   "cell_type": "code",
   "execution_count": null,
   "metadata": {},
   "outputs": [],
   "source": [
    "sint_conds = Conditions(8,150)"
   ]
  },
  {
   "cell_type": "code",
   "execution_count": null,
   "metadata": {},
   "outputs": [],
   "source": [
    "sint_model.flash(sint_conds)"
   ]
  },
  {
   "cell_type": "code",
   "execution_count": null,
   "metadata": {},
   "outputs": [],
   "source": [
    "sint_model.show_flashes"
   ]
  },
  {
   "cell_type": "code",
   "execution_count": null,
   "metadata": {},
   "outputs": [],
   "source": [
    "sint_comp.composition_bips_df"
   ]
  },
  {
   "cell_type": "code",
   "execution_count": null,
   "metadata": {},
   "outputs": [],
   "source": [
    "sint_zi2 = {'C1':0.1,\n",
    "            'iC4': 0.1,\n",
    "            'nC4': 0.1,\n",
    "            'iC5':0.1,\n",
    "            'nC5':0.1,\n",
    "            'C6':0.1,\n",
    "            'C10':0.1,\n",
    "            'C11':0.1,\n",
    "            'C14':0.1,\n",
    "            'C15':0.1}\n",
    "sint_comp2 = Composition(sint_zi2)"
   ]
  },
  {
   "cell_type": "code",
   "execution_count": null,
   "metadata": {},
   "outputs": [],
   "source": [
    "sint_comp2.edit_component_properties('C1', {'critical_pressure': 4.600154768,\n",
    "                                                  'critical_temperature': 190.5900061,\n",
    "                                                  'acentric_factor':0.008})\n",
    "\n",
    "\n",
    "\n",
    "sint_comp2.edit_component_properties('iC4', {'critical_pressure': 3.64770116,\n",
    "                                                  'critical_temperature': 408.089,\n",
    "                                                  'acentric_factor':0.175999999})\n",
    "\n",
    "\n",
    "sint_comp2.edit_component_properties('nC4', {'critical_pressure': 3.799687887,\n",
    "                                                  'critical_temperature': 425.1900122,\n",
    "                                                  'acentric_factor':0.193000004})\n",
    "\n",
    "\n",
    "sint_comp2.edit_component_properties('iC5', {'critical_pressure': 3.384255155,\n",
    "                                                  'critical_temperature': 460.3899939,\n",
    "                                                  'acentric_factor':0.226999998})\n",
    "\n",
    "\n",
    "sint_comp2.edit_component_properties('nC5', {'critical_pressure': 3.374122036,\n",
    "                                                  'critical_temperature': 469.5899451,\n",
    "                                                  'acentric_factor':0.250999987})\n",
    "\n",
    "\n",
    "sint_comp2.edit_component_properties('C6', {'critical_pressure': 2.968822229,\n",
    "                                                  'critical_temperature': 507.3899939,\n",
    "                                                  'acentric_factor':0.296000004})\n",
    "\n",
    "\n",
    "\n",
    "sint_comp2.edit_component_properties('C10', {'critical_pressure': 2.329497094\n",
    ",\n",
    "                                                  'critical_temperature': 602.5048926\n",
    ",\n",
    "                                                  'acentric_factor':0.462806612\n",
    "})\n",
    "\n",
    "\n",
    "sint_comp2.edit_component_properties('C11', {'critical_pressure': 2.177428424\n",
    ",\n",
    "                                                  'critical_temperature': 621.215769\n",
    ",\n",
    "                                                  'acentric_factor':0.500675559043884\n",
    "})\n",
    "\n",
    "\n",
    "sint_comp2.edit_component_properties('C14', {'critical_pressure': 1.870848251\n",
    ",\n",
    "                                                  'critical_temperature': 678.9091284\n",
    ",\n",
    "                                                  'acentric_factor':0.626245558261871\n",
    "})\n",
    "\n",
    "sint_comp2.edit_component_properties('C15', {'critical_pressure': 1.785777366\n",
    ",\n",
    "                                                  'critical_temperature': 697.9627783\n",
    ",\n",
    "                                                  'acentric_factor':0.67011171579361\n",
    "})\n"
   ]
  },
  {
   "cell_type": "code",
   "execution_count": null,
   "metadata": {},
   "outputs": [],
   "source": [
    "sint_comp_model2 = CompositionalModel(sint_comp2)"
   ]
  },
  {
   "cell_type": "code",
   "execution_count": null,
   "metadata": {},
   "outputs": [],
   "source": [
    "sint_conds2 = Conditions(3,200)\n",
    "sint_conds21 = Conditions(5, 250)\n",
    "sint_conds22 = Conditions(2, 250)\n",
    "sint_conds23 = Conditions(2, 300)\n",
    "sint_conds24 = Conditions(1, 250)\n",
    "sint_conds25 = Conditions(4, 326.1)\n",
    "sint_comp_model2.flash(sint_conds2)\n",
    "sint_comp_model2.flash(sint_conds21)\n",
    "sint_comp_model2.flash(sint_conds22)\n",
    "sint_comp_model2.flash(sint_conds23)\n",
    "sint_comp_model2.flash(sint_conds24)\n",
    "sint_comp_model2.flash(sint_conds25)\n"
   ]
  },
  {
   "cell_type": "code",
   "execution_count": null,
   "metadata": {},
   "outputs": [],
   "source": [
    "sint_comp_model2.show_flashes"
   ]
  },
  {
   "cell_type": "code",
   "execution_count": null,
   "metadata": {},
   "outputs": [],
   "source": [
    "sint_comp2.composition_bips_df"
   ]
  },
  {
   "cell_type": "code",
   "execution_count": null,
   "metadata": {},
   "outputs": [],
   "source": []
  },
  {
   "cell_type": "markdown",
   "metadata": {},
   "source": [
    "# DIII тест 2"
   ]
  },
  {
   "cell_type": "code",
   "execution_count": 2,
   "metadata": {},
   "outputs": [],
   "source": [
    "diii_zi_norm = {'CO2': 0.00215083887911224,\n",
    "'C1': 0.282009963534675,\n",
    "'C2': 0.149068137018216,\n",
    "'C3': 0.115134903302074,\n",
    "'iC4': 0.0142855717984413,\n",
    "'nC4': 0.0372145171943236,\n",
    "'iC5': 0.0117745929987574,\n",
    "'nC5': 0.0113044093184266,\n",
    "'C6': 0.0190074143626122,\n",
    "'C7': 0.0308220212682833,\n",
    "'C8': 0.0415061899850774,\n",
    "'C9': 0.0340032604384294,\n",
    "'C10': 0.030872041037113,\n",
    "'C11': 0.0252598520737042,\n",
    "'C12': 0.021408351340502,\n",
    "'C13': 0.0206180432863297,\n",
    "'C14': 0.0181270714401026,\n",
    "'C15': 0.0133852207298811,\n",
    "'C16': 0.0113444244179341,\n",
    "'C17': 0.00953371880408519,\n",
    "'C18': 0.00949370251198387,\n",
    "'C19': 0.00999389781509374,\n",
    "'C20': 0.00667260221888989,\n",
    "'C21': 0.0062324307576351,\n",
    "'C22': 0.00585228254193848,\n",
    "'C23': 0.00495193117522979,\n",
    "'C24': 0.00469183034509487,\n",
    "'C25': 0.00408159172944863,\n",
    "'C26': 0.0036114083472663,\n",
    "'C27': 0.00342133483571489,\n",
    "'C28': 0.00300117062606541,\n",
    "'C29': 0.00278108459728957,\n",
    "'C30': 0.00240093638159295,\n",
    "'C31': 0.00234091298696055,\n",
    "'C32': 0.00212082725633315,\n",
    "'C33': 0.00195076084731283,\n",
    "'C34': 0.00180070243526894,\n",
    "'C35': 0.00170066349390634,\n",
    "'C36': 0.0240693858688939}"
   ]
  },
  {
   "cell_type": "code",
   "execution_count": 3,
   "metadata": {},
   "outputs": [],
   "source": [
    "comp = Composition(diii_zi_norm)"
   ]
  },
  {
   "cell_type": "code",
   "execution_count": null,
   "metadata": {},
   "outputs": [],
   "source": [
    "comp.composition_properties_df"
   ]
  },
  {
   "cell_type": "code",
   "execution_count": 4,
   "metadata": {},
   "outputs": [
    {
     "name": "stdout",
     "output_type": "stream",
     "text": [
      "critical_pressure\n",
      "critical_temperature\n",
      "critical_pressure\n",
      "critical_temperature\n",
      "acentric_factor\n",
      "critical_pressure\n",
      "critical_temperature\n",
      "acentric_factor\n",
      "critical_pressure\n",
      "critical_temperature\n",
      "acentric_factor\n",
      "critical_pressure\n",
      "critical_temperature\n",
      "acentric_factor\n",
      "critical_pressure\n",
      "critical_temperature\n",
      "acentric_factor\n",
      "critical_pressure\n",
      "critical_temperature\n",
      "acentric_factor\n",
      "critical_pressure\n",
      "critical_temperature\n",
      "acentric_factor\n",
      "critical_pressure\n",
      "critical_temperature\n",
      "acentric_factor\n",
      "critical_pressure\n",
      "critical_temperature\n",
      "acentric_factor\n",
      "critical_pressure\n",
      "critical_temperature\n",
      "acentric_factor\n",
      "critical_pressure\n",
      "critical_temperature\n",
      "acentric_factor\n",
      "critical_pressure\n",
      "critical_temperature\n",
      "acentric_factor\n",
      "critical_pressure\n",
      "critical_temperature\n",
      "acentric_factor\n",
      "critical_pressure\n",
      "critical_temperature\n",
      "acentric_factor\n",
      "critical_pressure\n",
      "critical_temperature\n",
      "acentric_factor\n",
      "critical_pressure\n",
      "critical_temperature\n",
      "acentric_factor\n",
      "critical_pressure\n",
      "critical_temperature\n",
      "acentric_factor\n",
      "critical_pressure\n",
      "critical_temperature\n",
      "acentric_factor\n",
      "critical_pressure\n",
      "critical_temperature\n",
      "acentric_factor\n",
      "critical_pressure\n",
      "critical_temperature\n",
      "acentric_factor\n",
      "critical_pressure\n",
      "critical_temperature\n",
      "acentric_factor\n",
      "critical_pressure\n",
      "critical_temperature\n",
      "acentric_factor\n",
      "critical_pressure\n",
      "critical_temperature\n",
      "acentric_factor\n",
      "critical_pressure\n",
      "critical_temperature\n",
      "acentric_factor\n",
      "critical_pressure\n",
      "critical_temperature\n",
      "acentric_factor\n",
      "critical_pressure\n",
      "critical_temperature\n",
      "acentric_factor\n",
      "critical_pressure\n",
      "critical_temperature\n",
      "acentric_factor\n",
      "critical_pressure\n",
      "critical_temperature\n",
      "acentric_factor\n",
      "critical_pressure\n",
      "critical_temperature\n",
      "acentric_factor\n",
      "critical_pressure\n",
      "critical_temperature\n",
      "acentric_factor\n",
      "critical_pressure\n",
      "critical_temperature\n",
      "acentric_factor\n",
      "critical_pressure\n",
      "critical_temperature\n",
      "acentric_factor\n",
      "critical_pressure\n",
      "critical_temperature\n",
      "acentric_factor\n",
      "critical_pressure\n",
      "critical_temperature\n",
      "acentric_factor\n",
      "critical_pressure\n",
      "critical_temperature\n",
      "acentric_factor\n",
      "critical_pressure\n",
      "critical_temperature\n",
      "acentric_factor\n",
      "critical_pressure\n",
      "critical_temperature\n",
      "acentric_factor\n",
      "critical_pressure\n",
      "critical_temperature\n",
      "acentric_factor\n"
     ]
    }
   ],
   "source": [
    "# Изменение свойств компонент\n",
    "comp.edit_component_properties('CO2', {'critical_pressure': 7.3764,\n",
    "                                                  'critical_temperature': 306.19,\n",
    "                                                  })\n",
    "\n",
    "\n",
    "comp.edit_component_properties('C1', {'critical_pressure': 4.600154768,\n",
    "                                                  'critical_temperature': 190.5900061,\n",
    "                                                  'acentric_factor':0.008})\n",
    "\n",
    "comp.edit_component_properties('C2', {'critical_pressure': 4.883865077,\n",
    "                                                  'critical_temperature': 305.3899939,\n",
    "                                                  'acentric_factor':0.097999997})\n",
    "\n",
    "\n",
    "comp.edit_component_properties('C3', {'critical_pressure': 4.245518041,\n",
    "                                                  'critical_temperature': 369.7899878,\n",
    "                                                  'acentric_factor':0.151999995})\n",
    "\n",
    "\n",
    "comp.edit_component_properties('iC4', {'critical_pressure': 3.64770116,\n",
    "                                                  'critical_temperature': 408.089,\n",
    "                                                  'acentric_factor':0.175999999})\n",
    "\n",
    "\n",
    "comp.edit_component_properties('nC4', {'critical_pressure': 3.799687887,\n",
    "                                                  'critical_temperature': 425.1900122,\n",
    "                                                  'acentric_factor':0.193000004})\n",
    "\n",
    "\n",
    "comp.edit_component_properties('iC5', {'critical_pressure': 3.384255155,\n",
    "                                                  'critical_temperature': 460.3899939,\n",
    "                                                  'acentric_factor':0.226999998})\n",
    "\n",
    "\n",
    "comp.edit_component_properties('nC5', {'critical_pressure': 3.374122036,\n",
    "                                                  'critical_temperature': 469.5899451,\n",
    "                                                  'acentric_factor':0.250999987})\n",
    "\n",
    "\n",
    "comp.edit_component_properties('C6', {'critical_pressure': 2.968822229,\n",
    "                                                  'critical_temperature': 507.3899939,\n",
    "                                                  'acentric_factor':0.296000004})\n",
    "\n",
    "\n",
    "comp.edit_component_properties('C7', {'critical_pressure': 2.9451884,\n",
    "                                                  'critical_temperature': 536.4781592,\n",
    "                                                  'acentric_factor':0.337441325})\n",
    "\n",
    "comp.edit_component_properties('C8', {'critical_pressure': 2.741522808,\n",
    "                                                  'critical_temperature': 558.0327856,\n",
    "                                                  'acentric_factor':0.374272853\n",
    "})\n",
    "\n",
    "\n",
    "comp.edit_component_properties('C9', {'critical_pressure': 2.506488844\n",
    ",\n",
    "                                                  'critical_temperature': 582.0675757\n",
    ",\n",
    "                                                  'acentric_factor':0.420477808\n",
    "})\n",
    "\n",
    "\n",
    "comp.edit_component_properties('C10', {'critical_pressure': 2.329497094\n",
    ",\n",
    "                                                  'critical_temperature': 602.5048926\n",
    ",\n",
    "                                                  'acentric_factor':0.462806612\n",
    "})\n",
    "\n",
    "comp.edit_component_properties('C11', {'critical_pressure': 2.177428424\n",
    ",\n",
    "                                                  'critical_temperature': 621.215769\n",
    ",\n",
    "                                                  'acentric_factor':0.504519641\n",
    "})\n",
    "\n",
    "comp.edit_component_properties('C12', {'critical_pressure': 2.057186543\n",
    ",\n",
    "                                                  'critical_temperature': 640.9806616\n",
    ",\n",
    "                                                  'acentric_factor':0.548880339\n",
    "})\n",
    "\n",
    "\n",
    "comp.edit_component_properties('C13', {'critical_pressure': 1.960886164\n",
    ",\n",
    "                                                  'critical_temperature': 659.8851416\n",
    ",\n",
    "                                                  'acentric_factor':0.583677530288696\n",
    "})\n",
    "\n",
    "comp.edit_component_properties('C14', {'critical_pressure': 1.870848251\n",
    ",\n",
    "                                                  'critical_temperature': 678.9091284\n",
    ",\n",
    "                                                  'acentric_factor':0.626245558261871\n",
    "})\n",
    "\n",
    "comp.edit_component_properties('C15', {'critical_pressure': 1.785777366\n",
    ",\n",
    "                                                  'critical_temperature': 697.9627783\n",
    ",\n",
    "                                                  'acentric_factor':0.67011171579361\n",
    "})\n",
    "\n",
    "comp.edit_component_properties('C16', {'critical_pressure': 1.716160106\n",
    ",\n",
    "                                                  'critical_temperature': 716.3793433\n",
    ",\n",
    "                                                  'acentric_factor':0.712403476238251\n",
    "})\n",
    "\n",
    "comp.edit_component_properties('C17', {'critical_pressure': 1.6502672\n",
    ",\n",
    "                                                  'critical_temperature': 732.3194067\n",
    ",\n",
    "                                                  'acentric_factor':0.75047355890274\n",
    "})\n",
    "\n",
    "comp.edit_component_properties('C18', {'critical_pressure': 1.603241119\n",
    ",\n",
    "                                                  'critical_temperature': 747.2742407\n",
    ",\n",
    "                                                  'acentric_factor':0.78474098443985\n",
    "})\n",
    "\n",
    "comp.edit_component_properties('C19', {'critical_pressure': 1.574782599\n",
    ",\n",
    "                                                  'critical_temperature': 760.3541968\n",
    ",\n",
    "                                                  'acentric_factor':0.813140332698822\n",
    "})\n",
    "\n",
    "comp.edit_component_properties('C20', {'critical_pressure': 1.544921768\n",
    ",\n",
    "                                                  'critical_temperature': 772.8315527\n",
    ",\n",
    "                                                  'acentric_factor':0.840511083602905\n",
    "})\n",
    "\n",
    "comp.edit_component_properties('C21', {'critical_pressure': 1.508275892\n",
    ",\n",
    "                                                  'critical_temperature': 789.0159399\n",
    ",\n",
    "                                                  'acentric_factor':0.875432074069977\n",
    "})\n",
    "\n",
    "\n",
    "comp.edit_component_properties('C22', {'critical_pressure': 1.480574379\n",
    ",\n",
    "                                                  'critical_temperature': 802.944834\n",
    ",\n",
    "                                                  'acentric_factor':0.904504716396332\n",
    "})\n",
    "\n",
    "\n",
    "comp.edit_component_properties('C23', {'critical_pressure': 1.456971762\n",
    ",\n",
    "                                                  'critical_temperature': 815.6217139\n",
    ",\n",
    "                                                  'acentric_factor':0.93022620677948\n",
    "})\n",
    "\n",
    "\n",
    "comp.edit_component_properties('C24', {'critical_pressure': 1.435632534\n",
    ",\n",
    "                                                  'critical_temperature': 828.1141455\n",
    ",\n",
    "                                                  'acentric_factor':0.954706072807312\n",
    "})\n",
    "\n",
    "\n",
    "comp.edit_component_properties('C25', {'critical_pressure': 1.414600496\n",
    ",\n",
    "                                                  'critical_temperature': 841.3556616\n",
    ",\n",
    "                                                  'acentric_factor':0.979655742645264\n",
    "})\n",
    "\n",
    "\n",
    "comp.edit_component_properties('C26', {'critical_pressure': 1.395581669\n",
    ",\n",
    "                                                  'critical_temperature': 854.4172461\n",
    ",\n",
    "                                                  'acentric_factor':1.00312113761902\n",
    "})\n",
    "\n",
    "\n",
    "comp.edit_component_properties('C27', {'critical_pressure': 1.37692318\n",
    ",\n",
    "                                                  'critical_temperature': 868.2071631\n",
    ",\n",
    "                                                  'acentric_factor':1.02658879756927\n",
    "})\n",
    "\n",
    "\n",
    "comp.edit_component_properties('C28', {'critical_pressure': 1.361332726\n",
    ",\n",
    "                                                  'critical_temperature': 880.939646\n",
    ",\n",
    "                                                  'acentric_factor':1.04691398143768\n",
    "})\n",
    "\n",
    "comp.edit_component_properties('C29', {'critical_pressure': 1.346311139\n",
    ",\n",
    "                                                  'critical_temperature': 893.4580786\n",
    ",\n",
    "                                                  'acentric_factor':1.06568455696106\n",
    "})\n",
    "\n",
    "\n",
    "comp.edit_component_properties('C30', {'critical_pressure': 1.332525464\n",
    ",\n",
    "                                                  'critical_temperature': 905.845896\n",
    ",\n",
    "                                                  'acentric_factor':1.08289325237274\n",
    "})\n",
    "\n",
    "comp.edit_component_properties('C31', {'critical_pressure': 1.320621388\n",
    ",\n",
    "                                                  'critical_temperature': 918.1856177\n",
    ",\n",
    "                                                  'acentric_factor':1.0985347032547\n",
    "})\n",
    "\n",
    "\n",
    "comp.edit_component_properties('C32', {'critical_pressure':1.30892188\n",
    ",\n",
    "                                                  'critical_temperature': 930.3385107\n",
    ",\n",
    "                                                  'acentric_factor':1.11257469654083\n",
    "\n",
    "})\n",
    "\n",
    "comp.edit_component_properties('C33', {'critical_pressure':1.298114857,\n",
    "                                                  'critical_temperature': 942.3852637\n",
    ",\n",
    "                                                  'acentric_factor':1.12501060962677\n",
    "\n",
    "})\n",
    "\n",
    "comp.edit_component_properties('C34', {'critical_pressure':1.288114316,\n",
    "                                                  'critical_temperature': 954.3325903\n",
    ",\n",
    "                                                  'acentric_factor':1.13583159446716\n",
    "})\n",
    "\n",
    "\n",
    "comp.edit_component_properties('C35', {'critical_pressure':1.278844403,\n",
    "                                                  'critical_temperature':966.1865942\n",
    ",\n",
    "                                                  'acentric_factor':1.14502727985382\n",
    "})\n",
    "\n",
    "\n",
    "comp.edit_component_properties('C36', {'critical_pressure':1.270238925,\n",
    "                                                  'critical_temperature':977.9528296\n",
    ",\n",
    "                                                  'acentric_factor':1.15258979797363\n",
    "})"
   ]
  },
  {
   "cell_type": "code",
   "execution_count": 6,
   "metadata": {},
   "outputs": [
    {
     "name": "stdout",
     "output_type": "stream",
     "text": [
      "vapour_real_roots: [0.8550089512083185, 0, 0]\n",
      "vapour_eos_norm_gibbs_en: {0.8550089512083185: 2.652854989882595, 0: 1000000.0}\n",
      "vapour_eos_choosen_root: 0.8550089512083185\n",
      "liquid_eos_real_roots: [0.2991358416428799, 0, 0]\n",
      "liquid_eos_norm_gibbs: {0.2991358416428799: 0.7004403686495927, 0: 1000000.0}\n",
      "liquid_eos_choosen_root: 0.2991358416428799\n",
      "vapour_real_roots: [0.849414310299873, 0, 0]\n",
      "vapour_eos_norm_gibbs_en: {0.849414310299873: 2.5735405668308733, 0: 1000000.0}\n",
      "vapour_eos_choosen_root: 0.849414310299873\n",
      "liquid_eos_real_roots: [0.304031079495252, 0, 0]\n",
      "liquid_eos_norm_gibbs: {0.304031079495252: 0.6183596424967103, 0: 1000000.0}\n",
      "liquid_eos_choosen_root: 0.304031079495252\n"
     ]
    }
   ],
   "source": [
    "model1 = CompositionalModel(comp)\n",
    "conds1 = Conditions(5,50)\n",
    "conds2 = Conditions(10,350)\n",
    "model1.flash(conds1)\n"
   ]
  },
  {
   "cell_type": "code",
   "execution_count": null,
   "metadata": {},
   "outputs": [],
   "source": [
    "flash_results_viewer = FlashResultsViewer()\n",
    "flash_results_viewer.view(model1.show_flashes['TwoPhaseFlash_5_323.14'])"
   ]
  },
  {
   "cell_type": "code",
   "execution_count": null,
   "metadata": {},
   "outputs": [],
   "source": [
    "model1.flash(conds2)"
   ]
  },
  {
   "cell_type": "code",
   "execution_count": 14,
   "metadata": {},
   "outputs": [
    {
     "name": "stdout",
     "output_type": "stream",
     "text": [
      "vapour_real_roots: [0.8491749455017672, 0, 0]\n",
      "vapour_eos_norm_gibbs_en: {0.8491749455017672: 1.8473373927567671, 0: 1000000.0}\n",
      "vapour_eos_choosen_root: 0.8491749455017672\n",
      "liquid_eos_real_roots: [0.7268571114180875, 0, 0]\n",
      "liquid_eos_norm_gibbs: {0.7268571114180875: 1.1587759958634238, 0: 1000000.0}\n",
      "liquid_eos_choosen_root: 0.7268571114180875\n",
      "vapour_real_roots: [0.8551163124736675, 0, 0]\n",
      "vapour_eos_norm_gibbs_en: {0.8551163124736675: 1.8625043663876268, 0: 1000000.0}\n",
      "vapour_eos_choosen_root: 0.8551163124736675\n",
      "liquid_eos_real_roots: [0.7271974855671584, 0, 0]\n",
      "liquid_eos_norm_gibbs: {0.7271974855671584: 1.2114029681488272, 0: 1000000.0}\n",
      "liquid_eos_choosen_root: 0.7271974855671584\n"
     ]
    }
   ],
   "source": [
    "conds3 = Conditions(12, 446)\n",
    "model1.flash(conds3)"
   ]
  },
  {
   "cell_type": "code",
   "execution_count": 15,
   "metadata": {},
   "outputs": [
    {
     "data": {
      "text/plain": [
       "719.14"
      ]
     },
     "execution_count": 15,
     "metadata": {},
     "output_type": "execute_result"
    }
   ],
   "source": [
    "273.14 + 446"
   ]
  },
  {
   "cell_type": "code",
   "execution_count": 16,
   "metadata": {},
   "outputs": [
    {
     "name": "stdout",
     "output_type": "stream",
     "text": [
      "                    0\n",
      "Pressure           12\n",
      "Temperature    719.14\n",
      "Stable          False\n",
      "EOS             PREOS\n",
      "Fv           0.966125\n",
      "Fl           0.033875\n",
      "====\n",
      "   Component     Vapour     Liquid        Ki\n",
      "0        CO2   0.217706   0.140306  1.551645\n",
      "1         C1  28.575102  17.531259  1.629952\n",
      "2         C2  15.069551  10.265449  1.467988\n",
      "3         C3  11.618012   8.532478  1.361622\n",
      "4        iC4   1.439400   1.119316  1.285964\n",
      "5        nC4   3.747588   2.976040  1.259253\n",
      "6        iC5   1.183900   0.993776  1.191315\n",
      "7        nC5   1.136411   0.960185  1.183533\n",
      "8         C6   1.907019   1.721690  1.107644\n",
      "9         C7   3.087996   2.916950  1.058639\n",
      "10        C8   4.152948   4.084205  1.016831\n",
      "11        C9   3.396705   3.503612  0.969486\n",
      "12       C10   3.079205   3.315344  0.928774\n",
      "13       C11   2.515622   2.821545  0.891576\n",
      "14       C12   2.128227   2.500430  0.851144\n",
      "15       C13   2.045649   2.522553  0.810944\n",
      "16       C14   1.794601   2.329115  0.770508\n",
      "17       C15   1.321914   1.812200  0.729453\n",
      "18       C16   1.117382   1.621012  0.689311\n",
      "19       C17   0.936619   1.431180  0.654438\n",
      "20       C18   0.930190   1.496390  0.621623\n",
      "21       C19   0.976683   1.647009  0.593004\n",
      "22       C20   0.650362   1.149206  0.565923\n",
      "23       C21   0.605155   1.139139  0.531239\n",
      "24       C22   0.566197   1.128018  0.501939\n",
      "25       C23   0.477379   1.003270  0.475823\n",
      "26       C24   0.450580   0.999748  0.450694\n",
      "27       C25   0.390259   0.918688  0.424800\n",
      "28       C26   0.343684   0.859014  0.400092\n",
      "29       C27   0.323848   0.863650  0.374976\n",
      "30       C28   0.282554   0.801026  0.352740\n",
      "31       C29   0.260347   0.784683  0.331786\n",
      "32       C30   0.223405   0.716069  0.311988\n",
      "33       C31   0.216422   0.738041  0.293238\n",
      "34       C32   0.194750   0.706425  0.275684\n",
      "35       C33   0.177857   0.686172  0.259202\n",
      "36       C34   0.162946   0.668477  0.243756\n",
      "37       C35   0.152683   0.665844  0.229308\n",
      "38       C36   2.143145   9.930488  0.215815\n",
      "====\n",
      "          Vapour      Liquid\n",
      "Z       0.855116    0.727197\n",
      "MW     92.696338  167.272357\n",
      "Vol   403.000109   11.219000\n",
      "Dens    0.222224    0.505061\n"
     ]
    }
   ],
   "source": [
    "flash_results_viewer = FlashResultsViewer()\n",
    "flash_results_viewer.view(model1.show_flashes['TwoPhaseFlash_12_719.14'])"
   ]
  },
  {
   "cell_type": "code",
   "execution_count": null,
   "metadata": {},
   "outputs": [],
   "source": [
    "model1.experiments.STANDARDSEPARATION.calculate()"
   ]
  },
  {
   "cell_type": "code",
   "execution_count": null,
   "metadata": {},
   "outputs": [],
   "source": [
    "model1.experiments.STANDARDSEPARATION._standard_separation_result"
   ]
  },
  {
   "cell_type": "markdown",
   "metadata": {},
   "source": [
    "## Тест SaturationPressure_v2"
   ]
  },
  {
   "cell_type": "code",
   "execution_count": null,
   "metadata": {},
   "outputs": [],
   "source": [
    "model1.saturation_pressure(150)"
   ]
  },
  {
   "cell_type": "code",
   "execution_count": null,
   "metadata": {},
   "outputs": [],
   "source": [
    "flash_results_viewer = FlashResultsViewer()\n",
    "flash_results_viewer.view(model1.show_flashes['TwoPhaseFlash_5_323.14'])"
   ]
  },
  {
   "cell_type": "code",
   "execution_count": null,
   "metadata": {},
   "outputs": [],
   "source": [
    "model1.PHASE_ENVELOPE._calc_phase_envelope('PREOS')"
   ]
  },
  {
   "cell_type": "code",
   "execution_count": null,
   "metadata": {},
   "outputs": [],
   "source": [
    "model1.experiments.STANDARDSEPARATION()"
   ]
  }
 ],
 "metadata": {
  "kernelspec": {
   "display_name": "base",
   "language": "python",
   "name": "python3"
  },
  "language_info": {
   "codemirror_mode": {
    "name": "ipython",
    "version": 3
   },
   "file_extension": ".py",
   "mimetype": "text/x-python",
   "name": "python",
   "nbconvert_exporter": "python",
   "pygments_lexer": "ipython3",
   "version": "3.12.7"
  }
 },
 "nbformat": 4,
 "nbformat_minor": 2
}
