{
 "cells": [
  {
   "cell_type": "code",
   "execution_count": 1,
   "metadata": {},
   "outputs": [],
   "source": [
    "from calculations.CompositionalModel.CompositionalModel import CompositionalModel\n",
    "from calculations.Composition.Composition import Composition\n",
    "from calculations.Utils.Conditions import Conditions"
   ]
  },
  {
   "cell_type": "markdown",
   "metadata": {},
   "source": [
    "##### !!! **для корректной работы ноутбука он должен лежать в папке calculations**"
   ]
  },
  {
   "cell_type": "markdown",
   "metadata": {},
   "source": [
    "## Скрипт для сравнения результатов flash с PVTSim"
   ]
  },
  {
   "cell_type": "markdown",
   "metadata": {},
   "source": [
    "Наверное, логика должна быть такой:\n",
    "0. Предварительно нужно уровнять все свойства компонент\n",
    "1. Руками формируем результаты расчета из PVTSim для каждого флеша\n",
    "2. "
   ]
  },
  {
   "cell_type": "code",
   "execution_count": 2,
   "metadata": {},
   "outputs": [],
   "source": [
    "from dataclasses import dataclass\n",
    "\n",
    "@dataclass\n",
    "class PVTSimResults:\n",
    "    pvtsim_gas_composition : list\n",
    "    pvtsim_liquid_composition : list\n",
    "    pvtsim_ki : list\n",
    "    pvtsim_gas_z : float\n",
    "    pvtsim_liquid_z: float\n",
    "    pvtsim_fv : float"
   ]
  },
  {
   "cell_type": "code",
   "execution_count": 3,
   "metadata": {},
   "outputs": [],
   "source": [
    "def compare_results(pvtsim_obj:PVTSimResults, python_model:CompositionalModel):\n",
    "    ..."
   ]
  },
  {
   "cell_type": "code",
   "execution_count": null,
   "metadata": {},
   "outputs": [],
   "source": []
  },
  {
   "cell_type": "markdown",
   "metadata": {},
   "source": [
    "## Tests"
   ]
  },
  {
   "cell_type": "code",
   "execution_count": 26,
   "metadata": {},
   "outputs": [],
   "source": [
    "conds = Conditions(7,50)\n",
    "comp = Composition({'C1':0.3, 'iC5': 0.5, 'C6': 0.1, 'C7': 0.1})"
   ]
  },
  {
   "cell_type": "code",
   "execution_count": 14,
   "metadata": {},
   "outputs": [],
   "source": [
    "comp1 = comp.composition_properties_df"
   ]
  },
  {
   "cell_type": "code",
   "execution_count": 15,
   "metadata": {},
   "outputs": [],
   "source": [
    "composition_object2 = Composition({'C1': 0.35, 'C2':0.1, 'C3': 0.05, 'nC5':0.05, 'C6': 0.05, 'iC4': 0.1,'C8':0.05, 'C9':0.05, 'C10': 0.05, 'C11': 0.05, 'C16':0.05, 'C44': 0.05})"
   ]
  },
  {
   "cell_type": "code",
   "execution_count": 16,
   "metadata": {},
   "outputs": [],
   "source": [
    "composition_object2_properties = composition_object2.composition_properties_df"
   ]
  },
  {
   "cell_type": "code",
   "execution_count": null,
   "metadata": {},
   "outputs": [],
   "source": [
    "composition_object2_properties"
   ]
  },
  {
   "cell_type": "code",
   "execution_count": null,
   "metadata": {},
   "outputs": [],
   "source": [
    "comp.show_composition_dataframes()"
   ]
  },
  {
   "cell_type": "code",
   "execution_count": null,
   "metadata": {},
   "outputs": [],
   "source": [
    "composition_object2.show_composition_dataframes()"
   ]
  },
  {
   "cell_type": "code",
   "execution_count": 27,
   "metadata": {},
   "outputs": [],
   "source": [
    "comp_model = CompositionalModel(comp)"
   ]
  },
  {
   "cell_type": "code",
   "execution_count": 28,
   "metadata": {},
   "outputs": [
    {
     "name": "stdout",
     "output_type": "stream",
     "text": [
      "Pb найдено: 5.21103515625\n",
      "Pb найдено: 5.453955078125001\n",
      "Pdew найдено: 0.0058670628815889365\n",
      "Pb найдено: 5.6871582031250005\n",
      "Pdew найдено: 0.007940291985869409\n",
      "Pb найдено: 5.9155029296875\n",
      "Pdew найдено: 0.010605950839817524\n",
      "Pb найдено: 6.1341308593749995\n",
      "Pdew найдено: 0.013969711773097514\n",
      "Pb найдено: 6.338183593749999\n",
      "Pdew найдено: 0.01820622347295284\n",
      "Pb найдено: 6.542236328124999\n",
      "Pdew найдено: 0.023434295319020745\n",
      "Pb найдено: 6.736572265625\n",
      "Pdew найдено: 0.029835359193384647\n",
      "Pb найдено: 6.9114746093749995\n",
      "Pdew найдено: 0.03759675137698651\n",
      "Pb найдено: 7.086376953125\n",
      "Pdew найдено: 0.04698228128254413\n",
      "Pb найдено: 7.2515625\n",
      "Pdew найдено: 0.05814660787582397\n",
      "Pb найдено: 7.40703125\n",
      "Pdew найдено: 0.07137359976768493\n",
      "Pb найдено: 7.552783203125\n",
      "Pdew найдено: 0.08689572960138323\n",
      "Pb найдено: 7.6791015625\n",
      "Pdew найдено: 0.10510489046573637\n",
      "Pb найдено: 7.815136718749999\n",
      "Pdew найдено: 0.1261659950017929\n",
      "Pb найдено: 7.931738281249999\n",
      "Pdew найдено: 0.1505597293376922\n",
      "Pb найдено: 8.038623046875\n",
      "Pdew найдено: 0.17859245538711543\n",
      "Pb найдено: 8.1455078125\n",
      "Pdew найдено: 0.2105482518672943\n",
      "Pb найдено: 8.232958984375\n",
      "Pdew найдено: 0.24672746956348418\n",
      "Pb найдено: 8.32041015625\n",
      "Pdew найдено: 0.28794388175010677\n",
      "Pb найдено: 8.39814453125\n",
      "Pdew найдено: 0.3344597965478897\n",
      "Pb найдено: 8.456445312500001\n",
      "Pdew найдено: 0.38658920526504525\n",
      "Pb найдено: 8.51474609375\n",
      "Pdew найдено: 0.44538192152976996\n",
      "Pb найдено: 8.573046875000001\n",
      "Pdew найдено: 0.5106990814208985\n",
      "Pb найдено: 8.611914062500002\n",
      "Pdew найдено: 0.5834487676620486\n",
      "Pb найдено: 8.650781250000001\n",
      "Pdew найдено: 0.6647542476654054\n",
      "Pb найдено: 8.670214843750001\n",
      "Pdew найдено: 0.7546219706535339\n",
      "Pb найдено: 8.6896484375\n",
      "Pdew найдено: 0.8549629688262939\n",
      "Pb найдено: 8.70908203125\n",
      "Pdew найдено: 0.9653132915496827\n",
      "Pb найдено: 8.70908203125\n",
      "Pdew найдено: 1.0865090131759643\n",
      "Pb найдено: 8.6896484375\n",
      "Pdew найдено: 1.2219818115234375\n",
      "Pb найдено: 8.670214843750001\n",
      "Pdew найдено: 1.3695383310317994\n",
      "Pb найдено: 8.650781250000001\n",
      "Pdew найдено: 1.5354291915893556\n",
      "Pb найдено: 8.611914062500002\n",
      "Pdew найдено: 1.7156547546386722\n",
      "Pb найдено: 8.5341796875\n",
      "Pdew найдено: 1.9189403057098389\n",
      "Pb найдено: 8.456445312500001\n",
      "Pdew найдено: 2.1430151939392097\n",
      "Pb найдено: 8.33984375\n",
      "Pdew найдено: 2.3944473266601562\n",
      "Pb найдено: 8.262109375\n",
      "Pdew найдено: 2.678730773925781\n",
      "Pb найдено: 8.028906249999999\n",
      "Pdew найдено: 2.995158386230468\n",
      "Pb найдено: 7.8734375\n",
      "Pdew найдено: 3.3677398681640627\n",
      "Pb найдено: 7.5625\n",
      "Pb найдено: 6.940625\n",
      "[np.float64(-20.0), np.float64(-15.0), np.float64(-10.0), np.float64(-5.0), np.float64(0.0), np.float64(5.0), np.float64(10.0), np.float64(15.0), np.float64(20.0), np.float64(25.0), np.float64(30.0), np.float64(35.0), np.float64(40.0), np.float64(45.0), np.float64(50.0), np.float64(55.0), np.float64(60.0), np.float64(65.0), np.float64(70.0), np.float64(75.0), np.float64(80.0), np.float64(85.0), np.float64(90.0), np.float64(95.0), np.float64(100.0), np.float64(105.0), np.float64(110.0), np.float64(115.0), np.float64(120.0), np.float64(125.0), np.float64(130.0), np.float64(135.0), np.float64(140.0), np.float64(145.0), np.float64(150.0), np.float64(155.0), np.float64(160.0), np.float64(165.0), np.float64(170.0), np.float64(175.0), np.float64(180.0), np.float64(185.0), np.float64(190.0), np.float64(195.0), np.float64(200.0), np.float64(205.0), np.float64(210.0), np.float64(215.0), np.float64(220.0), np.float64(225.0), np.float64(230.0), np.float64(235.0), np.float64(240.0), np.float64(245.0), np.float64(250.0), np.float64(255.0), np.float64(260.0), np.float64(265.0), np.float64(270.0), np.float64(275.0), np.float64(280.0), np.float64(285.0), np.float64(290.0), np.float64(295.0), np.float64(300.0), np.float64(305.0), np.float64(310.0), np.float64(315.0), np.float64(320.0), np.float64(325.0), np.float64(330.0), np.float64(335.0), np.float64(340.0), np.float64(345.0), np.float64(350.0), np.float64(355.0), np.float64(360.0), np.float64(365.0), np.float64(370.0), np.float64(375.0), np.float64(380.0), np.float64(385.0), np.float64(390.0), np.float64(395.0)]\n",
      "====\n",
      "[5.21103516 5.45395508 5.6871582  5.91550293 6.13413086 6.33818359\n",
      " 6.54223633 6.73657227 6.91147461 7.08637695 7.2515625  7.40703125\n",
      " 7.5527832  7.67910156 7.81513672 7.93173828 8.03862305 8.14550781\n",
      " 8.23295898 8.32041016 8.39814453 8.45644531 8.51474609 8.57304688\n",
      " 8.61191406 8.65078125 8.67021484 8.68964844 8.70908203 8.70908203\n",
      " 8.68964844 8.67021484 8.65078125 8.61191406 8.53417969 8.45644531\n",
      " 8.33984375 8.26210937 8.02890625 7.8734375  7.5625     6.940625\n",
      "        nan        nan        nan        nan        nan        nan\n",
      "        nan        nan        nan        nan        nan        nan\n",
      "        nan        nan        nan        nan        nan        nan\n",
      "        nan        nan        nan        nan        nan        nan\n",
      "        nan        nan        nan        nan        nan        nan\n",
      "        nan        nan        nan        nan        nan        nan\n",
      "        nan        nan        nan        nan        nan        nan]\n",
      "====\n",
      "[       nan 0.00586706 0.00794029 0.01060595 0.01396971 0.01820622\n",
      " 0.0234343  0.02983536 0.03759675 0.04698228 0.05814661 0.0713736\n",
      " 0.08689573 0.10510489 0.126166   0.15055973 0.17859246 0.21054825\n",
      " 0.24672747 0.28794388 0.3344598  0.38658921 0.44538192 0.51069908\n",
      " 0.58344877 0.66475425 0.75462197 0.85496297 0.96531329 1.08650901\n",
      " 1.22198181 1.36953833 1.53542919 1.71565475 1.91894031 2.14301519\n",
      " 2.39444733 2.67873077 2.99515839 3.36773987        nan        nan\n",
      "        nan        nan        nan        nan        nan        nan\n",
      "        nan        nan        nan        nan        nan        nan\n",
      "        nan        nan        nan        nan        nan        nan\n",
      "        nan        nan        nan        nan        nan        nan\n",
      "        nan        nan        nan        nan        nan        nan\n",
      "        nan        nan        nan        nan        nan        nan\n",
      "        nan        nan        nan        nan        nan        nan]\n"
     ]
    },
    {
     "data": {
      "image/png": "[encoded data removed]",
      "text/plain": [
       "<Figure size 1000x600 with 1 Axes>"
      ]
     },
     "metadata": {},
     "output_type": "display_data"
    }
   ],
   "source": [
    "comp_model.plot_phase_diagram(t_min=-20,t_max= 400, t_step=5)"
   ]
  },
  {
   "cell_type": "code",
   "execution_count": 23,
   "metadata": {},
   "outputs": [],
   "source": [
    "comp_model.flash(conditions=conds)"
   ]
  },
  {
   "cell_type": "code",
   "execution_count": 24,
   "metadata": {},
   "outputs": [],
   "source": [
    "comp_model.flash(Conditions(12,70))"
   ]
  },
  {
   "cell_type": "code",
   "execution_count": 25,
   "metadata": {},
   "outputs": [
    {
     "data": {
      "text/plain": [
       "{'TwoPhaseFlash_7_323.14': TwoPhaseFlashResults(temperature=323.14, pressure=7, stable=False, EOS='PREOS', Fv=0.05219061492448418, Ki={'C1': 3.573961395680164, 'iC5': 0.0978702233955745, 'C6': 0.043718456632522745, 'C7': 0.021314179585936188, 'C14': 0.00021552296853939756, 'C25': 2.3153882583867712e-07}, liquid_composition={'C1': 0.264471756078587, 'iC5': 0.5247045090729315, 'C6': 0.052626533546829835, 'C7': 0.052691381712441435, 'C14': 0.05275259710604232, 'C25': 0.052753222483166544}, vapour_composition={'C1': 0.9452118464726106, 'iC5': 0.05135294751963305, 'C6': 0.0023007508245870834, 'C7': 0.0011230735724500906, 'C14': 1.1369396326457075e-05, 'C25': 1.2214419192958884e-08}, liquid_z=0.33375465610392097, vapour_z=0.8625980159821867, vapour_molecular_mass=19.172442700946306, liquid_molecular_mass=79.80273208605844, vapour_volume=17.50365725948298, liquid_volume=119.02882878099646, vapour_density=0.057166428668769656, liquid_density=0.6354576382919861),\n",
       " 'TwoPhaseFlash_12_343.14': TwoPhaseFlashResults(temperature=343.14, pressure=12, stable=True, EOS='PREOS', Fv=None, Ki=None, liquid_composition=None, vapour_composition=None, liquid_z=None, vapour_z=None, vapour_molecular_mass=None, liquid_molecular_mass=None, vapour_volume=None, liquid_volume=None, vapour_density=None, liquid_density=None)}"
      ]
     },
     "execution_count": 25,
     "metadata": {},
     "output_type": "execute_result"
    }
   ],
   "source": [
    "comp_model._flash_results"
   ]
  },
  {
   "cell_type": "code",
   "execution_count": null,
   "metadata": {},
   "outputs": [],
   "source": [
    "comp_model.show_flashes"
   ]
  },
  {
   "cell_type": "code",
   "execution_count": null,
   "metadata": {},
   "outputs": [],
   "source": [
    "comp_model.show_flashes['TwoPhaseFlash_7_323.14'].Fv"
   ]
  },
  {
   "cell_type": "code",
   "execution_count": 84,
   "metadata": {},
   "outputs": [],
   "source": [
    "comp_model2 = CompositionalModel(composition_object2)\n",
    "comp_model2.flash(conds)"
   ]
  },
  {
   "cell_type": "code",
   "execution_count": null,
   "metadata": {},
   "outputs": [],
   "source": [
    "comp_model2.show_flashes"
   ]
  },
  {
   "cell_type": "code",
   "execution_count": null,
   "metadata": {},
   "outputs": [],
   "source": []
  }
 ],
 "metadata": {
  "kernelspec": {
   "display_name": "base",
   "language": "python",
   "name": "python3"
  },
  "language_info": {
   "codemirror_mode": {
    "name": "ipython",
    "version": 3
   },
   "file_extension": ".py",
   "mimetype": "text/x-python",
   "name": "python",
   "nbconvert_exporter": "python",
   "pygments_lexer": "ipython3",
   "version": "3.12.7"
  }
 },
 "nbformat": 4,
 "nbformat_minor": 2
}
