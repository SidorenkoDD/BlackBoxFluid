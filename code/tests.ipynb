{
 "cells": [
  {
   "cell_type": "code",
   "execution_count": 1,
   "metadata": {},
   "outputs": [],
   "source": [
    "from calculations.CompositionalModel.CompositionalModel import CompositionalModel\n",
    "from calculations.Composition.Composition import Composition\n",
    "from calculations.Utils.Conditions import Conditions"
   ]
  },
  {
   "cell_type": "code",
   "execution_count": 17,
   "metadata": {},
   "outputs": [],
   "source": [
    "conds = Conditions(7,50)\n",
    "comp = Composition({'C1': 0.5, 'C3': 0.25, 'C14': 0.25}, c6_plus_bips_correlation= None)"
   ]
  },
  {
   "cell_type": "code",
   "execution_count": 18,
   "metadata": {},
   "outputs": [],
   "source": [
    "comp_model = CompositionalModel(comp)"
   ]
  },
  {
   "cell_type": "code",
   "execution_count": 19,
   "metadata": {},
   "outputs": [],
   "source": [
    "comp_model.flash(conditions=conds)"
   ]
  },
  {
   "cell_type": "code",
   "execution_count": null,
   "metadata": {},
   "outputs": [],
   "source": []
  },
  {
   "cell_type": "code",
   "execution_count": 20,
   "metadata": {},
   "outputs": [
    {
     "data": {
      "text/plain": [
       "{'TwoPhaseFlash_7_323.14': TwoPhaseFlashResults(temperature=323.14, pressure=7, stable=False, EOS='PREOS', Fv=0.41527034731973345, Ki={'C1': 3.3992879366737947, 'C3': 0.4610809956413243, 'C14': 0.0002814041528444778}, liquid_composition={'C1': 0.2504566908972525, 'C3': 0.3220807268825009, 'C14': 0.42746258222027855}, vapour_composition={'C1': 0.8513744080262677, 'C3': 0.14850530222786495, 'C14': 0.00012028974582241042}, liquid_z=0.402927824420218, vapour_z=0.8318783128080414, vapour_molecular_mass=20.23009299201383, liquid_molecular_mass=99.43876112725519, vapour_volume=134.3923210874945, liquid_volume=85.12283885543758, vapour_density=0.06251069759882148, liquid_density=0.6830692331072518)}"
      ]
     },
     "execution_count": 20,
     "metadata": {},
     "output_type": "execute_result"
    }
   ],
   "source": [
    "comp_model.flash_results"
   ]
  },
  {
   "cell_type": "code",
   "execution_count": 21,
   "metadata": {},
   "outputs": [],
   "source": [
    "conds2 = Conditions(5,150)\n",
    "comp_model.flash(conds2)"
   ]
  },
  {
   "cell_type": "code",
   "execution_count": 22,
   "metadata": {},
   "outputs": [
    {
     "data": {
      "text/plain": [
       "{'TwoPhaseFlash_7_323.14': TwoPhaseFlashResults(temperature=323.14, pressure=7, stable=False, EOS='PREOS', Fv=0.41527034731973345, Ki={'C1': 3.3992879366737947, 'C3': 0.4610809956413243, 'C14': 0.0002814041528444778}, liquid_composition={'C1': 0.2504566908972525, 'C3': 0.3220807268825009, 'C14': 0.42746258222027855}, vapour_composition={'C1': 0.8513744080262677, 'C3': 0.14850530222786495, 'C14': 0.00012028974582241042}, liquid_z=0.402927824420218, vapour_z=0.8318783128080414, vapour_molecular_mass=20.23009299201383, liquid_molecular_mass=99.43876112725519, vapour_volume=134.3923210874945, liquid_volume=85.12283885543758, vapour_density=0.06251069759882148, liquid_density=0.6830692331072518),\n",
       " 'TwoPhaseFlash_5_423.14': TwoPhaseFlashResults(temperature=423.14, pressure=5, stable=False, EOS='PREOS', Fv=0.6368818126366023, Ki={'C1': 5.90388967689309, 'C3': 1.4144284792462358, 'C14': 0.006313270277463677}, liquid_composition={'C1': 0.1212650913800532, 'C3': 0.1977938922039167, 'C14': 0.6809410164159984}, vapour_composition={'C1': 0.7159357211661934, 'C3': 0.27976531415417977, 'C14': 0.004298964679645028}, liquid_z=0.31868037750049083, vapour_z=0.9288829470332822, vapour_molecular_mass=24.639371122058662, liquid_molecular_mass=140.046366244566, vapour_volume=418.9775086329978, liquid_volume=75.18809058131414, vapour_density=0.037453961177157984, liquid_density=0.6763489039871362)}"
      ]
     },
     "execution_count": 22,
     "metadata": {},
     "output_type": "execute_result"
    }
   ],
   "source": [
    "comp_model.flash_results"
   ]
  },
  {
   "cell_type": "code",
   "execution_count": null,
   "metadata": {},
   "outputs": [],
   "source": []
  }
 ],
 "metadata": {
  "kernelspec": {
   "display_name": "base",
   "language": "python",
   "name": "python3"
  },
  "language_info": {
   "codemirror_mode": {
    "name": "ipython",
    "version": 3
   },
   "file_extension": ".py",
   "mimetype": "text/x-python",
   "name": "python",
   "nbconvert_exporter": "python",
   "pygments_lexer": "ipython3",
   "version": "3.12.7"
  }
 },
 "nbformat": 4,
 "nbformat_minor": 2
}
