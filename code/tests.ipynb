{
 "cells": [
  {
   "cell_type": "code",
   "execution_count": 13,
   "metadata": {},
   "outputs": [],
   "source": [
    "from calculations.CompositionalModel.CompositionalModel import CompositionalModel\n",
    "from calculations.Composition.Composition import Composition\n",
    "from calculations.Utils.Conditions import Conditions"
   ]
  },
  {
   "cell_type": "code",
   "execution_count": 14,
   "metadata": {},
   "outputs": [
    {
     "ename": "FileNotFoundError",
     "evalue": "[Errno 2] No such file or directory: 'C:\\\\Users\\\\user\\\\Desktop\\\\PVT_TSU\\\\code\\\\db\\\\new_db.json'",
     "output_type": "error",
     "traceback": [
      "\u001b[1;31m---------------------------------------------------------------------------\u001b[0m",
      "\u001b[1;31mFileNotFoundError\u001b[0m                         Traceback (most recent call last)",
      "Cell \u001b[1;32mIn[14], line 2\u001b[0m\n\u001b[0;32m      1\u001b[0m conds \u001b[38;5;241m=\u001b[39m Conditions(\u001b[38;5;241m7\u001b[39m,\u001b[38;5;241m50\u001b[39m)\n\u001b[1;32m----> 2\u001b[0m comp \u001b[38;5;241m=\u001b[39m \u001b[43mComposition\u001b[49m\u001b[43m(\u001b[49m\u001b[43m{\u001b[49m\u001b[38;5;124;43m'\u001b[39;49m\u001b[38;5;124;43mC1\u001b[39;49m\u001b[38;5;124;43m'\u001b[39;49m\u001b[43m:\u001b[49m\u001b[43m \u001b[49m\u001b[38;5;241;43m0.5\u001b[39;49m\u001b[43m,\u001b[49m\u001b[43m \u001b[49m\u001b[38;5;124;43m'\u001b[39;49m\u001b[38;5;124;43mC3\u001b[39;49m\u001b[38;5;124;43m'\u001b[39;49m\u001b[43m:\u001b[49m\u001b[43m \u001b[49m\u001b[38;5;241;43m0.25\u001b[39;49m\u001b[43m,\u001b[49m\u001b[43m \u001b[49m\u001b[38;5;124;43m'\u001b[39;49m\u001b[38;5;124;43mC14\u001b[39;49m\u001b[38;5;124;43m'\u001b[39;49m\u001b[43m:\u001b[49m\u001b[43m \u001b[49m\u001b[38;5;241;43m0.25\u001b[39;49m\u001b[43m}\u001b[49m\u001b[43m)\u001b[49m\n",
      "File \u001b[1;32mc:\\Users\\user\\Desktop\\PVT_TSU\\code\\calculations\\Composition\\Composition.py:39\u001b[0m, in \u001b[0;36mComposition.__init__\u001b[1;34m(self, zi, c6_plus_bips_correlation, c6_plus_correlations)\u001b[0m\n\u001b[0;32m     37\u001b[0m \u001b[38;5;28mself\u001b[39m\u001b[38;5;241m.\u001b[39m_validate_composition_sum()\n\u001b[0;32m     38\u001b[0m \u001b[38;5;28mself\u001b[39m\u001b[38;5;241m.\u001b[39m_validate_c6_plus_components()\n\u001b[1;32m---> 39\u001b[0m \u001b[38;5;28;43mself\u001b[39;49m\u001b[38;5;241;43m.\u001b[39;49m\u001b[43m_create_composition_db\u001b[49m\u001b[43m(\u001b[49m\u001b[43m)\u001b[49m\n\u001b[0;32m     40\u001b[0m \u001b[38;5;28mself\u001b[39m\u001b[38;5;241m.\u001b[39m_calculate_bips()\n\u001b[0;32m     41\u001b[0m \u001b[38;5;28mself\u001b[39m\u001b[38;5;241m.\u001b[39m_prepare_composition_data()\n",
      "File \u001b[1;32mc:\\Users\\user\\Desktop\\PVT_TSU\\code\\calculations\\Composition\\Composition.py:67\u001b[0m, in \u001b[0;36mComposition._create_composition_db\u001b[1;34m(self)\u001b[0m\n\u001b[0;32m     66\u001b[0m \u001b[38;5;28;01mdef\u001b[39;00m \u001b[38;5;21m_create_composition_db\u001b[39m(\u001b[38;5;28mself\u001b[39m):\n\u001b[1;32m---> 67\u001b[0m     jsondbreader \u001b[38;5;241m=\u001b[39m JsonDBReader()\n\u001b[0;32m     68\u001b[0m     \u001b[38;5;28mself\u001b[39m\u001b[38;5;241m.\u001b[39mcomposition_data \u001b[38;5;241m=\u001b[39m jsondbreader\u001b[38;5;241m.\u001b[39mload_database()\n\u001b[0;32m     69\u001b[0m     \u001b[38;5;66;03m# with open(r'code/db/new_db.json') as f:\u001b[39;00m\n\u001b[0;32m     70\u001b[0m     \u001b[38;5;66;03m#     self.composition_data = json.load(f)\u001b[39;00m\n",
      "\u001b[1;31mFileNotFoundError\u001b[0m: [Errno 2] No such file or directory: 'C:\\\\Users\\\\user\\\\Desktop\\\\PVT_TSU\\\\code\\\\db\\\\new_db.json'"
     ]
    }
   ],
   "source": [
    "conds = Conditions(7,50)\n",
    "comp = Composition({'C1': 0.5, 'C3': 0.25, 'C14': 0.25})"
   ]
  },
  {
   "cell_type": "code",
   "execution_count": 3,
   "metadata": {},
   "outputs": [],
   "source": [
    "comp_model = CompositionalModel(comp)"
   ]
  },
  {
   "cell_type": "code",
   "execution_count": 4,
   "metadata": {},
   "outputs": [],
   "source": [
    "comp_model.flash(conditions=conds)"
   ]
  },
  {
   "cell_type": "code",
   "execution_count": 8,
   "metadata": {},
   "outputs": [],
   "source": [
    "comp_model.flash(Conditions(12,70))"
   ]
  },
  {
   "cell_type": "code",
   "execution_count": 10,
   "metadata": {},
   "outputs": [
    {
     "data": {
      "text/plain": [
       "{'TwoPhaseFlash_7_323.14': TwoPhaseFlashResults(temperature=323.14, pressure=7, stable=False, EOS='PREOS', Fv=0.41527034731973345, Ki={'C1': 3.3992879366737947, 'C3': 0.4610809956413243, 'C14': 0.0002814041528444778}, liquid_composition={'C1': 0.2504566908972525, 'C3': 0.3220807268825009, 'C14': 0.42746258222027855}, vapour_composition={'C1': 0.8513744080262677, 'C3': 0.14850530222786495, 'C14': 0.00012028974582241042}, liquid_z=0.402927824420218, vapour_z=0.8318783128080414, vapour_molecular_mass=20.23009299201383, liquid_molecular_mass=99.43876112725519, vapour_volume=134.3923210874945, liquid_volume=85.12283885543758, vapour_density=0.06251069759882148, liquid_density=0.6830692331072518),\n",
       " 'TwoPhaseFlash_17.5_343.14': TwoPhaseFlashResults(temperature=343.14, pressure=17.5, stable=False, EOS='PREOS', Fv=0.047511647864212136, Ki={'C1': 1.7553817492644017, 'C3': 0.5853795458114321, 'C14': 0.013083906027855275}, liquid_composition={'C1': 0.48267699689912763, 'C3': 0.2550237904137827, 'C14': 0.26229921268709033}, vapour_composition={'C1': 0.8472823911464789, 'C3': 0.14928571060352996, 'C14': 0.003431898249978314}, liquid_z=0.7408996883131791, vapour_z=0.7907835992710956, vapour_molecular_mass=20.8280640491427, liquid_molecular_mass=68.82622155767645, vapour_volume=6.326784398374964, liquid_volume=111.34790076942056, vapour_density=0.15641052112512274, liquid_density=0.5887508781234927),\n",
       " 'TwoPhaseFlash_17_343.14': TwoPhaseFlashResults(temperature=343.14, pressure=17, stable=False, EOS='PREOS', Fv=0.07354227483710929, Ki={'C1': 1.7934996144192146, 'C3': 0.5798900034717583, 'C14': 0.011502137711651074}, liquid_composition={'C1': 0.4724309308073037, 'C3': 0.25797020750080407, 'C14': 0.26959886169189645}, vapour_composition={'C1': 0.8473046922426098, 'C3': 0.1495943445232515, 'C14': 0.003100963234084564}, liquid_z=0.7293722411046144, vapour_z=0.7906688561339024, vapour_molecular_mass=20.779154002566077, liquid_molecular_mass=70.17870538456486, vapour_volume=10.071305723174403, liquid_volume=109.59143386139489, vapour_density=0.15173268457366157, liquid_density=0.5932726806703825),\n",
       " 'TwoPhaseFlash_15_343.14': TwoPhaseFlashResults(temperature=343.14, pressure=15, stable=False, EOS='PREOS', Fv=0.16843836643647592, Ki={'C1': 1.9696828753926026, 'C3': 0.5608081456162811, 'C14': 0.006754944038612711}, liquid_composition={'C1': 0.4297999936201348, 'C3': 0.26997162576209693, 'C14': 0.30022838061777635}, vapour_composition={'C1': 0.8465696872774294, 'C3': 0.15140228681265422, 'C14': 0.002028025909876396}, liquid_z=0.6793595581946872, vapour_z=0.7928096300267864, vapour_molecular_mass=20.64322905744593, liquid_molecular_mass=75.84361239625652, vapour_volume=26.121341115484572, liquid_volume=103.22737453591726, vapour_density=0.13311383075767783, liquid_density=0.6109681516470761),\n",
       " 'TwoPhaseFlash_12_343.14': TwoPhaseFlashResults(temperature=343.14, pressure=12, stable=False, EOS='PREOS', Fv=0.290295359456195, Ki={'C1': 2.3398361814262585, 'C3': 0.5437039585320034, 'C14': 0.002884949638014487}, liquid_composition={'C1': 0.3599846205038891, 'C3': 0.28817135767713414, 'C14': 0.3518440218189832}, vapour_composition={'C1': 0.8423050398120007, 'C3': 0.15667990790459965, 'C14': 0.0010150522833842369}, liquid_z=0.5917919784769371, vapour_z=0.8046977475926882, vapour_molecular_mass=20.615073586416063, liquid_molecular_mass=85.3330897718393, vapour_volume=56.792594943537026, liquid_volume=95.0990902036717, vapour_density=0.10537395241288568, liquid_density=0.6368230197924357)}"
      ]
     },
     "execution_count": 10,
     "metadata": {},
     "output_type": "execute_result"
    }
   ],
   "source": [
    "comp_model._flash_results"
   ]
  },
  {
   "cell_type": "code",
   "execution_count": 11,
   "metadata": {},
   "outputs": [
    {
     "data": {
      "text/plain": [
       "dict_keys(['TwoPhaseFlash_7_323.14', 'TwoPhaseFlash_17.5_343.14', 'TwoPhaseFlash_17_343.14', 'TwoPhaseFlash_15_343.14', 'TwoPhaseFlash_12_343.14'])"
      ]
     },
     "execution_count": 11,
     "metadata": {},
     "output_type": "execute_result"
    }
   ],
   "source": [
    "comp_model.flashes"
   ]
  },
  {
   "cell_type": "code",
   "execution_count": null,
   "metadata": {},
   "outputs": [],
   "source": [
    "comp_model.plot_phase_diagram()"
   ]
  },
  {
   "cell_type": "code",
   "execution_count": null,
   "metadata": {},
   "outputs": [],
   "source": []
  }
 ],
 "metadata": {
  "kernelspec": {
   "display_name": "base",
   "language": "python",
   "name": "python3"
  },
  "language_info": {
   "codemirror_mode": {
    "name": "ipython",
    "version": 3
   },
   "file_extension": ".py",
   "mimetype": "text/x-python",
   "name": "python",
   "nbconvert_exporter": "python",
   "pygments_lexer": "ipython3",
   "version": "3.12.7"
  }
 },
 "nbformat": 4,
 "nbformat_minor": 2
}
