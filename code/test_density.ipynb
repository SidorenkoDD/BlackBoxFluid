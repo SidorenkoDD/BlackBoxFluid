{
 "cells": [
  {
   "cell_type": "code",
   "execution_count": 1,
   "id": "e7fd8634",
   "metadata": {},
   "outputs": [],
   "source": [
    "from calculations.CompositionalModel.CompositionalModel import CompositionalModel\n",
    "from calculations.Composition.Composition import Composition\n",
    "from calculations.Utils.Conditions import Conditions\n",
    "from calculations.Utils.ResultsViewer import FlashResultsViewer"
   ]
  },
  {
   "cell_type": "code",
   "execution_count": 2,
   "id": "ce5aab4e",
   "metadata": {},
   "outputs": [],
   "source": [
    "zi = {'C1':0.25,\n",
    "      'C2':0.25,\n",
    "      'C3':0.25,\n",
    "      'iC4':0.25}"
   ]
  },
  {
   "cell_type": "code",
   "execution_count": 3,
   "id": "231b3017",
   "metadata": {},
   "outputs": [],
   "source": [
    "composition = Composition(zi)"
   ]
  },
  {
   "cell_type": "code",
   "execution_count": 4,
   "id": "f4f9d127",
   "metadata": {},
   "outputs": [
    {
     "data": {
      "text/html": [
       "<div>\n",
       "<style scoped>\n",
       "    .dataframe tbody tr th:only-of-type {\n",
       "        vertical-align: middle;\n",
       "    }\n",
       "\n",
       "    .dataframe tbody tr th {\n",
       "        vertical-align: top;\n",
       "    }\n",
       "\n",
       "    .dataframe thead th {\n",
       "        text-align: right;\n",
       "    }\n",
       "</style>\n",
       "<table border=\"1\" class=\"dataframe\">\n",
       "  <thead>\n",
       "    <tr style=\"text-align: right;\">\n",
       "      <th></th>\n",
       "      <th>molar_mass</th>\n",
       "      <th>gamma</th>\n",
       "      <th>Tb</th>\n",
       "      <th>critical_pressure</th>\n",
       "      <th>critical_temperature</th>\n",
       "      <th>acentric_factor</th>\n",
       "      <th>shift_parameter</th>\n",
       "      <th>critical_volume</th>\n",
       "    </tr>\n",
       "  </thead>\n",
       "  <tbody>\n",
       "    <tr>\n",
       "      <th>C1</th>\n",
       "      <td>16.043</td>\n",
       "      <td>0.3300</td>\n",
       "      <td>111.67</td>\n",
       "      <td>4.604</td>\n",
       "      <td>190.60</td>\n",
       "      <td>0.013</td>\n",
       "      <td>-0.1595</td>\n",
       "      <td>0.0993</td>\n",
       "    </tr>\n",
       "    <tr>\n",
       "      <th>C2</th>\n",
       "      <td>30.070</td>\n",
       "      <td>0.4500</td>\n",
       "      <td>184.56</td>\n",
       "      <td>4.884</td>\n",
       "      <td>305.42</td>\n",
       "      <td>0.099</td>\n",
       "      <td>-0.1134</td>\n",
       "      <td>0.1479</td>\n",
       "    </tr>\n",
       "    <tr>\n",
       "      <th>C3</th>\n",
       "      <td>44.097</td>\n",
       "      <td>0.5077</td>\n",
       "      <td>231.11</td>\n",
       "      <td>4.246</td>\n",
       "      <td>369.79</td>\n",
       "      <td>0.152</td>\n",
       "      <td>-0.0863</td>\n",
       "      <td>0.2029</td>\n",
       "    </tr>\n",
       "    <tr>\n",
       "      <th>iC4</th>\n",
       "      <td>58.124</td>\n",
       "      <td>0.5613</td>\n",
       "      <td>261.44</td>\n",
       "      <td>3.648</td>\n",
       "      <td>408.09</td>\n",
       "      <td>0.185</td>\n",
       "      <td>-0.0844</td>\n",
       "      <td>0.2627</td>\n",
       "    </tr>\n",
       "  </tbody>\n",
       "</table>\n",
       "</div>"
      ],
      "text/plain": [
       "     molar_mass   gamma      Tb  critical_pressure  critical_temperature  \\\n",
       "C1       16.043  0.3300  111.67              4.604                190.60   \n",
       "C2       30.070  0.4500  184.56              4.884                305.42   \n",
       "C3       44.097  0.5077  231.11              4.246                369.79   \n",
       "iC4      58.124  0.5613  261.44              3.648                408.09   \n",
       "\n",
       "     acentric_factor  shift_parameter  critical_volume  \n",
       "C1             0.013          -0.1595           0.0993  \n",
       "C2             0.099          -0.1134           0.1479  \n",
       "C3             0.152          -0.0863           0.2029  \n",
       "iC4            0.185          -0.0844           0.2627  "
      ]
     },
     "execution_count": 4,
     "metadata": {},
     "output_type": "execute_result"
    }
   ],
   "source": [
    "composition.COMPOSITION_PROPERTIES"
   ]
  },
  {
   "cell_type": "code",
   "execution_count": 5,
   "id": "d0699ab7",
   "metadata": {},
   "outputs": [
    {
     "data": {
      "text/html": [
       "<div>\n",
       "<style scoped>\n",
       "    .dataframe tbody tr th:only-of-type {\n",
       "        vertical-align: middle;\n",
       "    }\n",
       "\n",
       "    .dataframe tbody tr th {\n",
       "        vertical-align: top;\n",
       "    }\n",
       "\n",
       "    .dataframe thead th {\n",
       "        text-align: right;\n",
       "    }\n",
       "</style>\n",
       "<table border=\"1\" class=\"dataframe\">\n",
       "  <thead>\n",
       "    <tr style=\"text-align: right;\">\n",
       "      <th></th>\n",
       "      <th>C1</th>\n",
       "      <th>C2</th>\n",
       "      <th>C3</th>\n",
       "      <th>iC4</th>\n",
       "    </tr>\n",
       "  </thead>\n",
       "  <tbody>\n",
       "    <tr>\n",
       "      <th>C1</th>\n",
       "      <td>0.000</td>\n",
       "      <td>0.024</td>\n",
       "      <td>0.004</td>\n",
       "      <td>0.023</td>\n",
       "    </tr>\n",
       "    <tr>\n",
       "      <th>C2</th>\n",
       "      <td>0.024</td>\n",
       "      <td>0.000</td>\n",
       "      <td>0.009</td>\n",
       "      <td>0.000</td>\n",
       "    </tr>\n",
       "    <tr>\n",
       "      <th>C3</th>\n",
       "      <td>0.004</td>\n",
       "      <td>0.009</td>\n",
       "      <td>0.000</td>\n",
       "      <td>0.008</td>\n",
       "    </tr>\n",
       "    <tr>\n",
       "      <th>iC4</th>\n",
       "      <td>0.023</td>\n",
       "      <td>0.000</td>\n",
       "      <td>0.008</td>\n",
       "      <td>0.000</td>\n",
       "    </tr>\n",
       "  </tbody>\n",
       "</table>\n",
       "</div>"
      ],
      "text/plain": [
       "        C1     C2     C3    iC4\n",
       "C1   0.000  0.024  0.004  0.023\n",
       "C2   0.024  0.000  0.009  0.000\n",
       "C3   0.004  0.009  0.000  0.008\n",
       "iC4  0.023  0.000  0.008  0.000"
      ]
     },
     "execution_count": 5,
     "metadata": {},
     "output_type": "execute_result"
    }
   ],
   "source": [
    "composition.BIPS"
   ]
  },
  {
   "cell_type": "code",
   "execution_count": 6,
   "id": "b4632770",
   "metadata": {},
   "outputs": [
    {
     "name": "stdout",
     "output_type": "stream",
     "text": [
      "0.48885777008081277\n",
      "333.14\n",
      "5\n",
      "0.6407874647581648\n",
      "-4.7661164494438975\n",
      "0.48885777008081277\n",
      "333.14\n",
      "5\n",
      "0.6407874647581648\n",
      "-4.7661164494438975\n",
      "                    0\n",
      "Pressure            5\n",
      "Temperature    333.14\n",
      "Stable          False\n",
      "EOS             PREOS\n",
      "Fv           0.488858\n",
      "Fl           0.511142\n",
      "====\n",
      "  Component     Vapour     Liquid        Ki\n",
      "0        C1  36.282586  14.209305  2.553438\n",
      "1        C2  27.390195  22.714012  1.205872\n",
      "2        C3  20.566149  29.240546  0.703344\n",
      "3       iC4  15.761070  33.836137  0.465806\n",
      "====\n",
      "          Vapour     Liquid\n",
      "Z       0.640787   0.197998\n",
      "MW     32.287066  41.670822\n",
      "Vol   175.855462  58.686330\n",
      "Dens    0.089754   0.362942\n"
     ]
    }
   ],
   "source": [
    "model = CompositionalModel(composition)\n",
    "conds = Conditions(5, 60)\n",
    "model.flash(conds)\n",
    "flash_results_viewer = FlashResultsViewer()\n",
    "flash_results_viewer.view(model.show_flashes[f'TwoPhaseFlash_{conds.p}_{conds.t-273.14}'])"
   ]
  },
  {
   "cell_type": "code",
   "execution_count": null,
   "id": "56dc097d",
   "metadata": {},
   "outputs": [],
   "source": []
  }
 ],
 "metadata": {
  "kernelspec": {
   "display_name": "Python 3 (ipykernel)",
   "language": "python",
   "name": "python3"
  },
  "language_info": {
   "codemirror_mode": {
    "name": "ipython",
    "version": 3
   },
   "file_extension": ".py",
   "mimetype": "text/x-python",
   "name": "python",
   "nbconvert_exporter": "python",
   "pygments_lexer": "ipython3",
   "version": "3.12.7"
  }
 },
 "nbformat": 4,
 "nbformat_minor": 5
}
